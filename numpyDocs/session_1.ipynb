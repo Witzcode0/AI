{
 "cells": [
  {
   "cell_type": "markdown",
   "id": "dc9b23f9-8e2a-4e29-a19b-c17a6e44ac95",
   "metadata": {},
   "source": [
    "## 🧠 What is NumPy?\n",
    "\n",
    "Think of **NumPy** as a **super calculator for Python**. 🧮  \n",
    "It helps you store and play with numbers **very fast** — especially in **rows and columns**, like a table or a grid.\n",
    "\n",
    "We use it mostly when we want to do **math with big sets of numbers**, such as:\n",
    "- 🎮 Data in a game  \n",
    "- 🌦️ Weather readings  \n",
    "- 🔬 Science experiments  \n",
    "\n",
    "It's one of the most important libraries in **Data Science and Machine Learning**.\n"
   ]
  },
  {
   "cell_type": "markdown",
   "id": "c1a4e48b-fc99-4756-b123-9b7dce21b78e",
   "metadata": {},
   "source": [
    "## 📦 Installing and Upgrading NumPy\n",
    "\n",
    "You can install or upgrade **NumPy** using `pip`, which is Python's package manager.\n",
    "\n",
    "### ✅ To Install NumPy:\n",
    "```bash \n",
    "pip install numpy\n",
    "```\n",
    "\n",
    "### ✅ To update, run::\n",
    "```bash \n",
    "pip install --upgrade numpy\n",
    "```"
   ]
  },
  {
   "cell_type": "code",
   "execution_count": 1,
   "id": "155632d8-fdd4-4a80-9fbc-fcd5c92f152d",
   "metadata": {},
   "outputs": [],
   "source": [
    "# !pip install numpy"
   ]
  },
  {
   "cell_type": "markdown",
   "id": "4a18ff1f-7ea5-42fb-8d81-5f84199d12c1",
   "metadata": {},
   "source": [
    "## ✅ To Check the Installed Version:\n",
    "\n",
    "You can check your NumPy version using Python code:"
   ]
  },
  {
   "cell_type": "code",
   "execution_count": 2,
   "id": "893d09ab-9a46-4214-9577-947ae1dcb053",
   "metadata": {},
   "outputs": [
    {
     "data": {
      "text/plain": [
       "'2.2.4'"
      ]
     },
     "execution_count": 2,
     "metadata": {},
     "output_type": "execute_result"
    }
   ],
   "source": [
    "import numpy as np\n",
    "np.__version__"
   ]
  },
  {
   "cell_type": "markdown",
   "id": "1484fbbe-7f98-433b-a47f-24d8282b3c3f",
   "metadata": {},
   "source": [
    "### ✅ NumPy Array — Like a Magic List ✨\n",
    "\n",
    "A **NumPy array** is like a **list in Python**, but it's **faster, takes less memory,** and you can do **math on all its items at once** — just like magic! 🎩✨"
   ]
  },
  {
   "cell_type": "code",
   "execution_count": 3,
   "id": "145fb301-19b5-4100-8b8e-77c77ac978ae",
   "metadata": {},
   "outputs": [],
   "source": [
    "# Imagine you have a list of numbers like this:\n",
    "nums = [1,2,3,4,5]\n",
    "\n",
    "# This is a normal Python list. But what if you want to multiply all numbers by 2?\n",
    "# With a regular list, you need a loop:\n",
    "new_list = [num * 2 for num in nums]\n",
    "# new_list\n",
    "\n",
    "# But with NumPy, you can do it in one go using a NumPy array:\n",
    "arr = np.array(nums)\n",
    "\n",
    "new_arr = arr * 2\n",
    "# new_arr"
   ]
  },
  {
   "cell_type": "markdown",
   "id": "c8f9b1a1-3045-445c-be7e-ee4e76b37c03",
   "metadata": {},
   "source": [
    "That’s the power of **NumPy arrays**:\n",
    "\n",
    "- Fast  \n",
    "- Clean  \n",
    "- Works like math in real life\n"
   ]
  },
  {
   "cell_type": "markdown",
   "id": "2d6bcaa7-1599-4bf4-8afb-0f1d30232635",
   "metadata": {},
   "source": [
    "# 🧮 NumPy Arrays vs Python Lists:\n",
    "\n",
    "| Feature            | Python List | NumPy Array       |\n",
    "| ------------------ | ----------- | ----------------- |\n",
    "| Speed              | Slow        | Very Fast ⚡       |\n",
    "| Memory Usage       | More        | Less 🧠           |\n",
    "| Math Operations    | Need loops  | Done directly ➕✖️ |\n",
    "| Supports Multidim? | Not easily  | Yes, like grids!  |\n"
   ]
  },
  {
   "cell_type": "markdown",
   "id": "14253fa1-54a1-45a3-a74b-9c1a011ff808",
   "metadata": {},
   "source": [
    "## 📦 1. Creating a NumPy Array \n",
    "### ✅ From a list"
   ]
  },
  {
   "cell_type": "code",
   "execution_count": 4,
   "id": "41738055-049d-460a-a9dc-45de93211577",
   "metadata": {},
   "outputs": [
    {
     "data": {
      "text/plain": [
       "array([1, 2, 3, 4, 5])"
      ]
     },
     "execution_count": 4,
     "metadata": {},
     "output_type": "execute_result"
    }
   ],
   "source": [
    "nums_arr = np.array([1,2,3,4,5])\n",
    "nums_arr"
   ]
  },
  {
   "cell_type": "markdown",
   "id": "14beb1ea-fe37-4ff1-9448-17f109935d3b",
   "metadata": {},
   "source": [
    "## 🧱 2. Types of Arrays\n",
    "\n",
    "### 1D Array – A simple line of numbers"
   ]
  },
  {
   "cell_type": "code",
   "execution_count": 5,
   "id": "226ec2f6-0a0b-4fc1-8ffb-1d27888867e5",
   "metadata": {},
   "outputs": [
    {
     "data": {
      "text/plain": [
       "array([10, 20, 30])"
      ]
     },
     "execution_count": 5,
     "metadata": {},
     "output_type": "execute_result"
    }
   ],
   "source": [
    "arr1 = np.array([10, 20, 30])\n",
    "arr1"
   ]
  },
  {
   "cell_type": "markdown",
   "id": "1e74cd44-d54b-4549-b4fd-e18296cbcfee",
   "metadata": {},
   "source": [
    "### 2D Array – Like a table or matrix"
   ]
  },
  {
   "cell_type": "code",
   "execution_count": 6,
   "id": "800d26d5-d255-4170-b121-d11aa3938235",
   "metadata": {},
   "outputs": [
    {
     "data": {
      "text/plain": [
       "array([[1, 2],\n",
       "       [3, 4]])"
      ]
     },
     "execution_count": 6,
     "metadata": {},
     "output_type": "execute_result"
    }
   ],
   "source": [
    "arr2 = np.array([[1, 2], [3, 4]])\n",
    "arr2"
   ]
  },
  {
   "cell_type": "markdown",
   "id": "f8572ed3-ad38-4be3-a40b-982dfdd42359",
   "metadata": {},
   "source": [
    "### 3D Array – A cube of numbers"
   ]
  },
  {
   "cell_type": "code",
   "execution_count": 7,
   "id": "7e710e21-8d62-43ca-b1a9-9bc0629bc087",
   "metadata": {},
   "outputs": [
    {
     "data": {
      "text/plain": [
       "array([[[1, 2],\n",
       "        [3, 4]],\n",
       "\n",
       "       [[5, 6],\n",
       "        [7, 8]]])"
      ]
     },
     "execution_count": 7,
     "metadata": {},
     "output_type": "execute_result"
    }
   ],
   "source": [
    "arr3 = np.array([[[1, 2], [3, 4]], [[5, 6], [7, 8]]])\n",
    "arr3"
   ]
  },
  {
   "cell_type": "markdown",
   "id": "dd1c0399-eeb9-422a-b80c-a885e2f8d2d0",
   "metadata": {},
   "source": [
    "## 🔍 3. Array Attributes\n",
    "\n",
    "Let's learn about the **secret info** each array has:"
   ]
  },
  {
   "cell_type": "code",
   "execution_count": 8,
   "id": "f584bc92-692b-4c05-b491-17bcedad5d67",
   "metadata": {},
   "outputs": [],
   "source": [
    "arr = np.array([[1, 2, 3], [4, 5, 6]])"
   ]
  },
  {
   "cell_type": "code",
   "execution_count": 9,
   "id": "b44a885c-d078-4456-bced-a00d971f4875",
   "metadata": {},
   "outputs": [
    {
     "data": {
      "text/plain": [
       "2"
      ]
     },
     "execution_count": 9,
     "metadata": {},
     "output_type": "execute_result"
    }
   ],
   "source": [
    "# Number of dimensions\n",
    "arr.ndim"
   ]
  },
  {
   "cell_type": "code",
   "execution_count": 10,
   "id": "c21fc09a-9da5-4eb8-add6-a7ee8f6b6800",
   "metadata": {},
   "outputs": [
    {
     "data": {
      "text/plain": [
       "(2, 3)"
      ]
     },
     "execution_count": 10,
     "metadata": {},
     "output_type": "execute_result"
    }
   ],
   "source": [
    "# Rows and columns (rows, cols)\n",
    "arr.shape"
   ]
  },
  {
   "cell_type": "code",
   "execution_count": 11,
   "id": "724b7edd-8f3c-476b-97ef-c195a178a52f",
   "metadata": {},
   "outputs": [
    {
     "data": {
      "text/plain": [
       "6"
      ]
     },
     "execution_count": 11,
     "metadata": {},
     "output_type": "execute_result"
    }
   ],
   "source": [
    "# Total number of elements\n",
    "arr.size"
   ]
  },
  {
   "cell_type": "code",
   "execution_count": 12,
   "id": "f6fc96c0-ae39-472b-be8e-09fdfd8f7fa7",
   "metadata": {},
   "outputs": [
    {
     "data": {
      "text/plain": [
       "dtype('int64')"
      ]
     },
     "execution_count": 12,
     "metadata": {},
     "output_type": "execute_result"
    }
   ],
   "source": [
    "# Data type of array elements\n",
    "arr.dtype"
   ]
  },
  {
   "cell_type": "code",
   "execution_count": 13,
   "id": "4b7c3af2-aa7d-4156-9336-23a955b0666a",
   "metadata": {},
   "outputs": [
    {
     "data": {
      "text/plain": [
       "8"
      ]
     },
     "execution_count": 13,
     "metadata": {},
     "output_type": "execute_result"
    }
   ],
   "source": [
    "# Memory used per item (bytes)\n",
    "arr.itemsize"
   ]
  },
  {
   "cell_type": "code",
   "execution_count": 14,
   "id": "b47a6f21-7ab0-4121-995b-1ace8ebd0b49",
   "metadata": {},
   "outputs": [
    {
     "data": {
      "text/plain": [
       "48"
      ]
     },
     "execution_count": 14,
     "metadata": {},
     "output_type": "execute_result"
    }
   ],
   "source": [
    "# Total memory used by array\n",
    "arr.nbytes # arr.itemsize * arr.size"
   ]
  },
  {
   "cell_type": "markdown",
   "id": "e1694994-e7b4-4173-b108-e84abcb92362",
   "metadata": {},
   "source": [
    "## 🧮 4. Array Operations (Like Magic on All Elements)\n",
    "You can do math directly:"
   ]
  },
  {
   "cell_type": "code",
   "execution_count": 15,
   "id": "e7e9cf7c-41ef-497a-a910-5a82866830d0",
   "metadata": {},
   "outputs": [
    {
     "data": {
      "text/plain": [
       "array([5, 7, 9])"
      ]
     },
     "execution_count": 15,
     "metadata": {},
     "output_type": "execute_result"
    }
   ],
   "source": [
    "arr1 = np.array([1, 2, 3])\n",
    "arr2 = np.array([[1,2],[3,4]])\n",
    "add3 = arr + 3\n",
    "add3\n",
    "\n",
    "mul2 = arr2 * 2\n",
    "mul2\n",
    "\n",
    "# You can do math between arrays too:\n",
    "x = np.array([1, 2, 3])\n",
    "y = np.array([4, 5, 6])\n",
    "x + y  # [5 7 9]\n"
   ]
  },
  {
   "cell_type": "markdown",
   "id": "eab9215f-9fbc-4b95-a827-947c3137f4b2",
   "metadata": {},
   "source": [
    "## 🔁 5. Array Indexing and Slicing\n",
    "\n",
    "## Indexing\n",
    "Access single item:"
   ]
  },
  {
   "cell_type": "code",
   "execution_count": 16,
   "id": "6b136adb-a804-4d7c-be77-24fb610a489c",
   "metadata": {},
   "outputs": [
    {
     "data": {
      "text/plain": [
       "np.int64(2)"
      ]
     },
     "execution_count": 16,
     "metadata": {},
     "output_type": "execute_result"
    }
   ],
   "source": [
    "#  1D Array \n",
    "a1 = np.array([10, 20, 30, 40])\n",
    "a1[2]  # 30\n",
    "\n",
    "# 2D array\n",
    "a2 = np.array([[1,2],[3,4]])\n",
    "a2[0][1]\n",
    "\n",
    "# 3D array\n",
    "a3 = np.array([[[1,2],[3,4],[5,6]]])\n",
    "a3[0][0][1]"
   ]
  },
  {
   "cell_type": "markdown",
   "id": "6c840c35-dca3-4c1a-8374-ffa21700ceb2",
   "metadata": {},
   "source": [
    "## Slicing"
   ]
  },
  {
   "cell_type": "code",
   "execution_count": 17,
   "id": "f7c85c57-4184-48f6-906a-640fa6ab7b44",
   "metadata": {},
   "outputs": [],
   "source": [
    "# 1D Array Slicing\n",
    "# | ---------- | ------------------ | --------------- |\n",
    "# | Slice      | Meaning            | Output          |\n",
    "# | ---------- | ------------------ | --------------- |\n",
    "# | `a1[2]`    | Element at index 2 | `30`            |\n",
    "# | `a1[1:3]`  | From index 1 to 2  | `[20 30]`       |\n",
    "# | `a1[:2]`   | First 2 elements   | `[10 20]`       |\n",
    "# | `a1[::2]`  | Every 2nd element  | `[10 30]`       |\n",
    "# | `a1[::-1]` | Reversed array     | `[40 30 20 10]` |\n",
    "# | ---------- | ------------------ | --------------- |\n",
    "\n",
    "# 2D Array Slicing\n",
    "# | ---------- | --------------------------- | ---------------- |\n",
    "# | Slice      | Meaning                     | Output           |\n",
    "# | ---------- | --------------------------- | ---------------- |\n",
    "# | `a2[0][1]` | Row 0, column 1             | `2`              |\n",
    "# | `a2[0, 1]` | Same as above, better style | `2`              |\n",
    "# | `a2[1, :]` | Second row                  | `[3 4]`          |\n",
    "# | `a2[:, 0]` | First column                | `[1 3]`          |\n",
    "# | `a2[:, :]` | Entire array                | `[[1 2], [3 4]]` |\n",
    "# | ---------- | --------------------------- | ---------------- |\n",
    "\n",
    "# 3D Array Slicing\n",
    "# Structure:\n",
    "# 1 block\n",
    "# 3 rows\n",
    "# 2 columns\n",
    "# | ------------- | ------------------------------ | ------------------------- |\n",
    "# | Slice         | Meaning                        | Output                    |\n",
    "# | ------------- | ------------------------------ | ------------------------- |\n",
    "# | `a3[0][0][1]` | Block 0, Row 0, Column 1       | `2`                       |\n",
    "# | `a3[0, 1, 0]` | Block 0, Row 1, Column 0       | `3`                       |\n",
    "# | `a3[:, 1, :]` | All blocks, Row 1, all columns | `[[3 4]]`                 |\n",
    "# | `a3[:, :, 1]` | All blocks, all rows, column 1 | `[[2 4 6]]`               |\n",
    "# | `a3[:, :, :]` | Entire 3D array                | `[[[1 2], [3 4], [5 6]]]` |\n",
    "# | ------------- | ------------------------------ | ------------------------- |"
   ]
  },
  {
   "cell_type": "markdown",
   "id": "7e011cb3-2fc5-43d5-a9c3-2a6e12cfc2b8",
   "metadata": {},
   "source": [
    "## 🎨 6. Useful Array Functions\n",
    "\n",
    "### 📌 1. Array Creation"
   ]
  },
  {
   "cell_type": "code",
   "execution_count": 18,
   "id": "42b50caf-b2ec-4958-89b3-ed41f029fbf2",
   "metadata": {},
   "outputs": [],
   "source": [
    "# np.array()\t- Creates an array from list/tuple\n",
    "arr1 = np.array([1,2,3,4,5])\n",
    "# arr1\n",
    "\n",
    "# np.arange()\t- Range with step\n",
    "arr2 = np.arange(0, 10, 2)\n",
    "# arr2\n",
    "\n",
    "# np.linspace()\t- Evenly spaced numbers in interval\n",
    "arr3 = np.linspace(0, 1, 5)\n",
    "# arr3\n",
    "\n",
    "# np.zeros()\t- Array filled with zeros\n",
    "arr4 = np.zeros((2,5))\n",
    "# arr4\n",
    "\n",
    "# np.ones()\t - Array filled with ones\n",
    "arr5 = np.ones((2,2))\n",
    "# arr5\n",
    "\n",
    "# np.full() - Array filled with specific value\n",
    "arr6 = np.full((2,2), 3.14)\n",
    "# arr6\n",
    "\n",
    "# np.eye()\t- Identity matrix\n",
    "arr7 = np.eye(5)\n",
    "# arr7\n",
    "\n",
    "# np.random.rand()\t- Random numbers (uniform) - 0 ≤ value < 1\n",
    "arr8 = np.random.rand(2,3) \n",
    "# arr8\n",
    "\n",
    "# np.random.randint()\t- Random integers - np.random.randint(low, high=None, size=None)\n",
    "arr9 = np.random.randint(10, 20, (5,3))\n",
    "# arr9"
   ]
  },
  {
   "cell_type": "markdown",
   "id": "733b27ab-49a4-4818-aff5-8ea8b2497772",
   "metadata": {},
   "source": [
    "### 🔄 2. Array Manipulation"
   ]
  },
  {
   "cell_type": "code",
   "execution_count": 19,
   "id": "dff90b2c-e90e-4a8e-aa15-4f93d6f46459",
   "metadata": {},
   "outputs": [],
   "source": [
    "# reshape()\t - Change shape of array\n",
    "arr10 = np.array([1,2,3,4,5,6])\n",
    "arr10_ = arr10.reshape(2,3)\n",
    "# arr10_\n",
    "\n",
    "# flatten()\t - Convert to 1D\n",
    "arr11 = np.array([1,2,3,4,5,6])\n",
    "arr11_ = arr11.flatten()\n",
    "# arr11_\n",
    "\n",
    "# transpose() / T\t- Transpose rows ↔ columns\n",
    "arr_t = arr10_.transpose()\n",
    "# arr_t\n",
    "\n",
    "# concatenate()\t - Join arrays along an axis\n",
    "arr12 = np.array([1,2,3,4,5,6])\n",
    "arr13 = np.array([1,2,3,4,5,6])\n",
    "arr_cat = np.concatenate([arr12, arr13])\n",
    "# arr_cat\n",
    "\n",
    "# stack() / vstack() / hstack()\t - Stack arrays vertically/horizontally\n",
    "# stack = np.stack([arr12, arr13])\n",
    "# stack\n",
    "vstack = np.vstack([arr12, arr13])\n",
    "# vstack\n",
    "hstack = np.hstack([arr12, arr13])\n",
    "# hstack\n",
    "\n",
    "# split() / hsplit() / vsplit()\t - Split arrays\n",
    "# ❗ Important:\n",
    "# - split() works on any dimension but needs equal sizes.\n",
    "# - hsplit() = split horizontally (columns).\n",
    "# - vsplit() = split vertically (rows).\n",
    "\n",
    "split = np.split(arr12, 2)\n",
    "# split\n",
    "arr14 = np.array([[1, 2, 3, 4], [5, 6, 7, 8]])\n",
    "hsplit = np.hsplit(arr14, 2)\n",
    "# hsplit\n",
    "arr15 = np.array([[1, 2], [3, 4], [5, 6], [7, 8]])\n",
    "vsplit = np.vsplit(arr15, 2)\n",
    "# vsplit\n",
    "\n",
    "# expand_dims()\t- Add new axis\n",
    "arr16 = np.array([1, 2, 3])  # Shape: (3,)\n",
    "expanded = np.expand_dims(arr16, axis=0)  # Add new axis at position 0\n",
    "# expanded.shape\n",
    "# expanded\n",
    "# expanded.ndim\n",
    "\n",
    "# squeeze()\t - Remove single-dimensional entries\n",
    "arr17 = np.array([[[1, 2, 3]]])  # Shape: (1, 1, 3)\n",
    "# print(\"Original shape:\", arr17.shape)\n",
    "# print(arr17)\n",
    "# print(arr17.ndim)\n",
    "\n",
    "squeezed = np.squeeze(arr17)\n",
    "# print(\"Squeezed shape:\", squeezed.shape)\n",
    "# print(squeezed)\n",
    "# print(squeezed.ndim)"
   ]
  },
  {
   "cell_type": "markdown",
   "id": "d14d5cd2-2e3b-44d0-9549-71d623c7e5b3",
   "metadata": {},
   "source": [
    "## 🔢 3. Mathematical Operations\n",
    "\n",
    "| Function         | Description            | Example              |\n",
    "|------------------|------------------------|----------------------|\n",
    "| `np.add()`       | Element-wise addition  | `np.add(a, b)`       |\n",
    "| `np.subtract()`  | Subtraction            | `np.subtract(a, b)`  |\n",
    "| `np.multiply()`  | Multiplication         | `np.multiply(a, b)`  |\n",
    "| `np.divide()`    | Division               | `np.divide(a, b)`    |\n",
    "| `np.dot()`       | dot product            | `np.dot(a, b)`       |\n",
    "| `np.power()`     | Exponentiation         | `np.power(a, 2)`     |\n",
    "| `np.mod()`       | Modulus                | `np.mod(a, b)`       |\n",
    "| `np.sqrt()`      | Square root            | `np.sqrt(a)`         |\n",
    "| `np.exp()`       | Exponential (e^x)      | `np.exp(a)`          |\n",
    "| `np.log()`       | Natural logarithm (ln) | `np.log(a)`          |\n"
   ]
  },
  {
   "cell_type": "code",
   "execution_count": null,
   "id": "eb5a0654-2ee1-4e86-9de8-f5a434e9b1a2",
   "metadata": {},
   "outputs": [],
   "source": []
  },
  {
   "cell_type": "markdown",
   "id": "11951cbe-76f5-4c53-9f70-9e8a7932f6a1",
   "metadata": {},
   "source": [
    "## 📊 4. Statistical Functions\n",
    "\n",
    "| Function        | Description            | Example            | Explanation                                                                 |\n",
    "|----------------|------------------------|--------------------|-----------------------------------------------------------------------------|\n",
    "| `np.mean()`     | Mean / Average         | `np.mean(a)`       | Adds all elements and divides by the number of elements.                    |\n",
    "| `np.median()`   | Median value           | `np.median(a)`     | The middle value of a sorted list. If even elements, average of two middles.|\n",
    "| `np.std()`      | Standard Deviation     | `np.std(a)`        | Shows how much values deviate from the mean.                               |\n",
    "| `np.var()`      | Variance               | `np.var(a)`        | Square of the standard deviation. Shows data spread.                        |\n",
    "| `np.min()`      | Minimum value          | `np.min(a)`        | Returns the smallest number in the array.                                   |\n",
    "| `np.max()`      | Maximum value          | `np.max(a)`        | Returns the largest number in the array.                                    |\n",
    "| `np.sum()`      | Sum of elements        | `np.sum(a)`        | Adds all the elements in the array.                                         |\n",
    "| `np.argmin()`   | Index of min value     | `np.argmin(a)`     | Returns the index (position) of the smallest value in the array.            |\n",
    "| `np.argmax()`   | Index of max value     | `np.argmax(a)`     | Returns the index (position) of the largest value in the array.             |\n"
   ]
  },
  {
   "cell_type": "markdown",
   "id": "8a247bcf-fa64-4b20-9cbe-86bd0a39b032",
   "metadata": {},
   "source": [
    "## 5. Array Testing / Checking\n",
    "\n",
    "| Function        | Description                     | Example             | Explanation                                                                 |\n",
    "|----------------|----------------------------------|---------------------|-----------------------------------------------------------------------------|\n",
    "| `np.all()`      | Are **all** elements `True`?     | `np.all(a > 0)`     | Returns `True` only if **every** element satisfies the condition.          |\n",
    "| `np.any()`      | Is **any** element `True`?       | `np.any(a < 0)`     | Returns `True` if **at least one** element satisfies the condition.        |\n",
    "| `np.isnan()`    | Check for `NaN` values           | `np.isnan(a)`       | Returns a boolean array where `True` marks a `NaN` (Not a Number).         |\n",
    "| `np.isinf()`    | Check for `inf` (infinity)       | `np.isinf(a)`       | Returns a boolean array where `True` marks positive or negative infinity.  |\n",
    "| `np.where()`    | Indices where condition is `True`| `np.where(a > 5)`   | Returns indices where the condition is met. Useful for conditional filtering.|\n",
    "| `np.unique()`   | Return unique elements           | `np.unique(a)`      | Returns sorted array of unique elements from the input.                    |\n"
   ]
  },
  {
   "cell_type": "markdown",
   "id": "9be21004-e9d7-453a-a7f9-8d6745106414",
   "metadata": {},
   "source": [
    "## 🎯 What is a Scalar?\n",
    "A **scalar** is a single numerical value, like `5`, `3.14`, or `-2`.\n",
    "\n",
    "NumPy supports **element-wise operations** between an array and a scalar."
   ]
  },
  {
   "cell_type": "code",
   "execution_count": 20,
   "id": "65431995-1711-4e6e-8b42-7cdcc4b42eb8",
   "metadata": {},
   "outputs": [
    {
     "name": "stdout",
     "output_type": "stream",
     "text": [
      "[3 4 5 6]\n",
      "[ 3  6  9 12]\n",
      "[0 1 2 3]\n",
      "[0.5 1.  1.5 2. ]\n"
     ]
    }
   ],
   "source": [
    "a = np.array([1, 2, 3, 4])\n",
    "\n",
    "print(a + 2)   # [3 4 5 6]\n",
    "print(a * 3)   # [3 6 9 12]\n",
    "print(a - 1)   # [0 1 2 3]\n",
    "print(a / 2)   # [0.5 1.  1.5 2. ]"
   ]
  },
  {
   "cell_type": "markdown",
   "id": "993f5ac5-32ec-442b-88ce-2cba40e42b3f",
   "metadata": {},
   "source": [
    "## 🎯 What is a Vector?\n",
    "A **vector** is a 1D NumPy array — a list of numbers with direction, like `[1, 2, 3]`.\n",
    "\n",
    "NumPy also supports **element-wise vector operations** (arrays of the same shape):"
   ]
  },
  {
   "cell_type": "code",
   "execution_count": 21,
   "id": "45bb42c0-4d5a-479c-878a-68f06bbdba10",
   "metadata": {},
   "outputs": [
    {
     "name": "stdout",
     "output_type": "stream",
     "text": [
      "[11 22 33 44]\n",
      "[ 10  40  90 160]\n",
      "[ -9 -18 -27 -36]\n"
     ]
    }
   ],
   "source": [
    "b = np.array([10, 20, 30, 40])\n",
    "\n",
    "print(a + b)   # [11 22 33 44]\n",
    "print(a * b)   # [10 40 90 160]\n",
    "print(a - b)   # [-9 -18 -27 -36]"
   ]
  },
  {
   "cell_type": "markdown",
   "id": "8dd01a31-4ad3-47e8-80d7-04b4ebec2408",
   "metadata": {},
   "source": [
    "## ✅ np.dot(a, b) → Dot Product\n",
    "## 👉 What is the dot product?\n",
    "The dot product of two vectors is:\n",
    "\n",
    "`a⋅b=(1×4)+(2×5)+(3×6)=4+10+18=32`\n",
    "\n",
    "## ✅ np.linalg.norm(a) → Vector Magnitude (Length)\n",
    "## 👉 What is a norm?\n",
    "The Euclidean norm (or magnitude) of a vector a = [1, 2, 3] is:\n",
    "\n",
    "`∥a∥ = √(1² + 2² + 3²) = √14 ≈ 3.741`"
   ]
  },
  {
   "cell_type": "markdown",
   "id": "0f621fdc-79fe-47c7-b91e-2e13ad0ced59",
   "metadata": {},
   "source": [
    "## ✅ Logarithmic Functions\n",
    "\n",
    "**Purpose**: Used to calculate logarithms — useful in mathematics, statistics, machine learning, and data transformation.\n",
    "\n",
    "| Function       | Description                        | Example         |\n",
    "|----------------|------------------------------------|-----------------|\n",
    "| `np.log(x)`    | Natural logarithm (base **e**)     | `np.log(x)`     |\n",
    "| `np.log10(x)`  | Logarithm base **10**              | `np.log10(x)`   |\n",
    "| `np.log2(x)`   | Logarithm base **2**               | `np.log2(x)`    |\n"
   ]
  },
  {
   "cell_type": "code",
   "execution_count": 22,
   "id": "6cdb2d4a-1e7f-4ac1-b5a6-2615cfdcd199",
   "metadata": {},
   "outputs": [
    {
     "name": "stdout",
     "output_type": "stream",
     "text": [
      "[0.         1.         2.30258509]\n",
      "[0.         0.43429448 1.        ]\n",
      "[0.         1.44269504 3.32192809]\n"
     ]
    }
   ],
   "source": [
    "x = np.array([1, np.e, 10])\n",
    "\n",
    "print(np.log(x))\n",
    "print(np.log10(x))    \n",
    "print(np.log2(x))     "
   ]
  },
  {
   "cell_type": "markdown",
   "id": "b7dfdab7-e094-4ee5-b385-c3fffbd23f52",
   "metadata": {},
   "source": [
    "Note: Input values must be positive, else you'll get nan or error."
   ]
  },
  {
   "cell_type": "markdown",
   "id": "ec85e00a-0531-4b0a-82c4-cf127e027cd3",
   "metadata": {},
   "source": [
    "## ✅ Exponential Function\n",
    "\n",
    "**Purpose**: Raises **e** (Euler’s number ≈ 2.718) to the power of each element in the array.  \n",
    "Commonly used in exponential growth, probability distributions, and machine learning.\n",
    "\n",
    "| Function     | Description                        | Example       |\n",
    "|--------------|------------------------------------|---------------|\n",
    "| `np.exp(x)`  | Calculates **e^x** for each element| `np.exp(x)`   |\n"
   ]
  },
  {
   "cell_type": "code",
   "execution_count": 23,
   "id": "660cc8cc-2265-4366-819b-32852ae1042d",
   "metadata": {},
   "outputs": [
    {
     "name": "stdout",
     "output_type": "stream",
     "text": [
      "[1.         2.71828183 7.3890561 ]\n"
     ]
    }
   ],
   "source": [
    "x = np.array([0, 1, 2])\n",
    "\n",
    "print(np.exp(x)) "
   ]
  },
  {
   "cell_type": "markdown",
   "id": "e96319c7-ce4a-49d7-af85-361fa9aca89e",
   "metadata": {},
   "source": [
    "## ✅ Trigonometric Functions\n",
    "\n",
    "**Purpose**: Used for calculating trigonometric values of angles in **radians**.  \n",
    "Useful in geometry, signal processing, physics, and machine learning.\n",
    "\n",
    "| Function     | Description             | Example       |\n",
    "|--------------|-------------------------|---------------|\n",
    "| `np.sin(x)`  | Sine of angle `x`       | `np.sin(x)`   |\n",
    "| `np.cos(x)`  | Cosine of angle `x`     | `np.cos(x)`   |\n",
    "| `np.tan(x)`  | Tangent of angle `x`    | `np.tan(x)`   |\n"
   ]
  },
  {
   "cell_type": "code",
   "execution_count": 24,
   "id": "c7e23d73-c2db-4795-9fb8-1b1850ea6fe4",
   "metadata": {},
   "outputs": [
    {
     "name": "stdout",
     "output_type": "stream",
     "text": [
      "[0.0000000e+00 1.0000000e+00 1.2246468e-16]\n",
      "[ 1.000000e+00  6.123234e-17 -1.000000e+00]\n",
      "[ 0.00000000e+00  1.63312394e+16 -1.22464680e-16]\n"
     ]
    }
   ],
   "source": [
    "x = np.array([0, np.pi/2, np.pi])\n",
    "\n",
    "print(np.sin(x))      # [0. 1. 0.]\n",
    "print(np.cos(x))      # [1. 0. -1.]\n",
    "print(np.tan(x))      # [0. very large ~∞ 0.]"
   ]
  },
  {
   "cell_type": "markdown",
   "id": "643d5f5d-f62d-4720-a528-df82f64002c2",
   "metadata": {},
   "source": [
    "### Convert Degrees to Radians:"
   ]
  },
  {
   "cell_type": "code",
   "execution_count": 25,
   "id": "304844b2-6cfd-4e40-8e87-a40eef472eb5",
   "metadata": {},
   "outputs": [
    {
     "data": {
      "text/plain": [
       "np.float64(3.141592653589793)"
      ]
     },
     "execution_count": 25,
     "metadata": {},
     "output_type": "execute_result"
    }
   ],
   "source": [
    "np.radians(180)       # Output: 3.14159265 (π)"
   ]
  },
  {
   "cell_type": "markdown",
   "id": "3e1c9d10-77c5-4f23-b5a9-f3b46b75f85c",
   "metadata": {},
   "source": [
    "## ✅ Ceil and Floor Functions\n",
    "\n",
    "**Purpose**: Rounds numbers **up** (`ceil`) or **down** (`floor`) to the nearest integer.  \n",
    "Useful in numerical processing, rounding strategies, and control systems.\n",
    "\n",
    "| Function       | Description                             | Example         |\n",
    "|----------------|-----------------------------------------|-----------------|\n",
    "| `np.ceil(x)`   | Rounds **UP** to the next highest integer | `np.ceil(x)`    |\n",
    "| `np.floor(x)`  | Rounds **DOWN** to the next lowest integer| `np.floor(x)`   |\n"
   ]
  },
  {
   "cell_type": "code",
   "execution_count": 26,
   "id": "5b66b5b7-b553-4424-918d-5f568dc2f2fd",
   "metadata": {},
   "outputs": [
    {
     "name": "stdout",
     "output_type": "stream",
     "text": [
      "[2. 3. 4.]\n",
      "[1. 2. 3.]\n"
     ]
    }
   ],
   "source": [
    "x = np.array([1.2, 2.5, 3.9])\n",
    "\n",
    "print(np.ceil(x))     # [2. 3. 4.]\n",
    "print(np.floor(x))    # [1. 2. 3.]"
   ]
  },
  {
   "cell_type": "code",
   "execution_count": null,
   "id": "e19b3cd3-00f6-4de7-8544-2035c41f41a9",
   "metadata": {},
   "outputs": [],
   "source": []
  }
 ],
 "metadata": {
  "kernelspec": {
   "display_name": "Python 3 (ipykernel)",
   "language": "python",
   "name": "python3"
  },
  "language_info": {
   "codemirror_mode": {
    "name": "ipython",
    "version": 3
   },
   "file_extension": ".py",
   "mimetype": "text/x-python",
   "name": "python",
   "nbconvert_exporter": "python",
   "pygments_lexer": "ipython3",
   "version": "3.12.4"
  }
 },
 "nbformat": 4,
 "nbformat_minor": 5
}
