{
 "cells": [
  {
   "cell_type": "markdown",
   "id": "dc9b23f9-8e2a-4e29-a19b-c17a6e44ac95",
   "metadata": {},
   "source": [
    "## 🧠 What is NumPy?\n",
    "\n",
    "Think of **NumPy** as a **super calculator for Python**. 🧮  \n",
    "It helps you store and play with numbers **very fast** — especially in **rows and columns**, like a table or a grid.\n",
    "\n",
    "We use it mostly when we want to do **math with big sets of numbers**, such as:\n",
    "- 🎮 Data in a game  \n",
    "- 🌦️ Weather readings  \n",
    "- 🔬 Science experiments  \n",
    "\n",
    "It's one of the most important libraries in **Data Science and Machine Learning**.\n"
   ]
  },
  {
   "cell_type": "markdown",
   "id": "c1a4e48b-fc99-4756-b123-9b7dce21b78e",
   "metadata": {},
   "source": [
    "## 📦 Installing and Upgrading NumPy\n",
    "\n",
    "You can install or upgrade **NumPy** using `pip`, which is Python's package manager.\n",
    "\n",
    "### ✅ To Install NumPy:\n",
    "```bash \n",
    "pip install numpy\n",
    "```\n",
    "\n",
    "### ✅ To update, run::\n",
    "```bash \n",
    "pip install --upgrade numpy\n",
    "```"
   ]
  },
  {
   "cell_type": "code",
   "execution_count": 1,
   "id": "155632d8-fdd4-4a80-9fbc-fcd5c92f152d",
   "metadata": {},
   "outputs": [],
   "source": [
    "# !pip install numpy"
   ]
  },
  {
   "cell_type": "markdown",
   "id": "4a18ff1f-7ea5-42fb-8d81-5f84199d12c1",
   "metadata": {},
   "source": [
    "## ✅ To Check the Installed Version:\n",
    "\n",
    "You can check your NumPy version using Python code:"
   ]
  },
  {
   "cell_type": "code",
   "execution_count": 3,
   "id": "893d09ab-9a46-4214-9577-947ae1dcb053",
   "metadata": {},
   "outputs": [
    {
     "data": {
      "text/plain": [
       "'2.3.1'"
      ]
     },
     "execution_count": 3,
     "metadata": {},
     "output_type": "execute_result"
    }
   ],
   "source": [
    "import numpy as np\n",
    "np.__version__"
   ]
  },
  {
   "cell_type": "markdown",
   "id": "1484fbbe-7f98-433b-a47f-24d8282b3c3f",
   "metadata": {},
   "source": [
    "### ✅ NumPy Array — Like a Magic List ✨\n",
    "\n",
    "A **NumPy array** is like a **list in Python**, but it's **faster, takes less memory,** and you can do **math on all its items at once** — just like magic! 🎩✨"
   ]
  },
  {
   "cell_type": "code",
   "execution_count": 6,
   "id": "145fb301-19b5-4100-8b8e-77c77ac978ae",
   "metadata": {},
   "outputs": [
    {
     "data": {
      "text/plain": [
       "array([ 2,  4,  6,  8, 10])"
      ]
     },
     "execution_count": 6,
     "metadata": {},
     "output_type": "execute_result"
    }
   ],
   "source": [
    "# Imagine you have a list of numbers like this:\n",
    "nums = [1,2,3,4,5]\n",
    "\n",
    "# This is a normal Python list. But what if you want to multiply all numbers by 2?\n",
    "# With a regular list, you need a loop:\n",
    "new_list = [num * 2 for num in nums]\n",
    "# new_list\n",
    "\n",
    "# But with NumPy, you can do it in one go using a NumPy array:\n",
    "arr = np.array(nums)\n",
    "\n",
    "new_arr = arr * 2\n",
    "# new_arr"
   ]
  },
  {
   "cell_type": "markdown",
   "id": "c8f9b1a1-3045-445c-be7e-ee4e76b37c03",
   "metadata": {},
   "source": [
    "That’s the power of **NumPy arrays**:\n",
    "\n",
    "- Fast  \n",
    "- Clean  \n",
    "- Works like math in real life\n"
   ]
  },
  {
   "cell_type": "markdown",
   "id": "2d6bcaa7-1599-4bf4-8afb-0f1d30232635",
   "metadata": {},
   "source": [
    "# 🧮 NumPy Arrays vs Python Lists:\n",
    "\n",
    "| Feature            | Python List | NumPy Array       |\n",
    "| ------------------ | ----------- | ----------------- |\n",
    "| Speed              | Slow        | Very Fast ⚡       |\n",
    "| Memory Usage       | More        | Less 🧠           |\n",
    "| Math Operations    | Need loops  | Done directly ➕✖️ |\n",
    "| Supports Multidim? | Not easily  | Yes, like grids!  |\n"
   ]
  },
  {
   "cell_type": "code",
   "execution_count": null,
   "id": "bb953569-8a39-460a-a586-598e429f6926",
   "metadata": {},
   "outputs": [],
   "source": []
  }
 ],
 "metadata": {
  "kernelspec": {
   "display_name": "Python 3 (ipykernel)",
   "language": "python",
   "name": "python3"
  },
  "language_info": {
   "codemirror_mode": {
    "name": "ipython",
    "version": 3
   },
   "file_extension": ".py",
   "mimetype": "text/x-python",
   "name": "python",
   "nbconvert_exporter": "python",
   "pygments_lexer": "ipython3",
   "version": "3.13.3"
  }
 },
 "nbformat": 4,
 "nbformat_minor": 5
}
