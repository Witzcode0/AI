{
 "cells": [
  {
   "cell_type": "markdown",
   "id": "4a30c5bf-f9f8-4085-971f-069273735e47",
   "metadata": {},
   "source": [
    "# 🧠 Session 15: NumPy Tricks\n",
    "\n",
    "In this session, we will explore some cool and useful **NumPy tricks** to work smarter with arrays.\n",
    "\n",
    "---\n",
    "\n",
    "## ✅ Topics Covered\n",
    "\n",
    "1. `np.sort()` – Sorting arrays  \n",
    "2. `np.append()` – Adding elements to an array  \n",
    "3. `np.concatenate()` – Joining arrays  \n",
    "4. `np.percentile()` – Getting percentiles  \n",
    "5. `np.flip()` – Reversing array contents  \n",
    "6. Set Operations in NumPy:\n",
    "    - `np.unique()`  \n",
    "    - `np.intersect1d()`  \n",
    "    - `np.union1d()`  \n",
    "    - `np.setdiff1d()`  \n",
    "    - `np.setxor1d()`  \n",
    "\n",
    "---"
   ]
  },
  {
   "cell_type": "code",
   "execution_count": 2,
   "id": "b9994f44-5036-493c-9ca1-faf4fa2daaca",
   "metadata": {},
   "outputs": [],
   "source": [
    "import numpy as np"
   ]
  },
  {
   "cell_type": "markdown",
   "id": "9296c746-83ba-43e9-96c6-5d3b3a6185dd",
   "metadata": {},
   "source": [
    "## 1️⃣ np.sort() – Sorting Arrays"
   ]
  },
  {
   "cell_type": "code",
   "execution_count": 3,
   "id": "cdeb16ec-14f6-4b88-90b9-e0edb971dae7",
   "metadata": {},
   "outputs": [
    {
     "name": "stdout",
     "output_type": "stream",
     "text": [
      "Sorted array: [1 2 3 5]\n"
     ]
    }
   ],
   "source": [
    "a = np.array([3, 1, 5, 2])\n",
    "sorted_a = np.sort(a)\n",
    "print(\"Sorted array:\", sorted_a)"
   ]
  },
  {
   "cell_type": "markdown",
   "id": "a4752a57-3a9c-46d0-8311-58fb97de0d97",
   "metadata": {},
   "source": [
    "## 2️⃣ np.append() – Adding Elements"
   ]
  },
  {
   "cell_type": "code",
   "execution_count": 4,
   "id": "1fb93aa9-6ed2-4595-8b65-0a03daae29d0",
   "metadata": {},
   "outputs": [
    {
     "name": "stdout",
     "output_type": "stream",
     "text": [
      "Appended array: [1 2 3 4 5]\n"
     ]
    }
   ],
   "source": [
    "a = np.array([1, 2, 3])\n",
    "b = np.append(a, [4, 5])\n",
    "print(\"Appended array:\", b)"
   ]
  },
  {
   "cell_type": "markdown",
   "id": "5c8c85ef-de7c-4fc2-91f0-b6c28ad8f84f",
   "metadata": {},
   "source": [
    "---\n",
    "\n",
    "## 3️⃣ `np.concatenate()` – Joining Arrays\n",
    "\n",
    "### 🔹 np.concatenate()\n",
    "\n",
    "Combines two or more arrays.\n"
   ]
  },
  {
   "cell_type": "code",
   "execution_count": 8,
   "id": "cceb7c3d-5656-4dcd-bd49-6b6b7f33b057",
   "metadata": {},
   "outputs": [
    {
     "name": "stdout",
     "output_type": "stream",
     "text": [
      "[1 2 3 4]\n"
     ]
    }
   ],
   "source": [
    "a = np.array([1, 2])\n",
    "b = np.array([3, 4])\n",
    "\n",
    "result = np.concatenate((a, b))\n",
    "print(result)  # [1 2 3 4]"
   ]
  },
  {
   "cell_type": "markdown",
   "id": "c6264f8b-4010-4ccc-ae52-86a47eaa00bc",
   "metadata": {},
   "source": [
    "## 4️⃣ np.percentile() – Get Percentile"
   ]
  },
  {
   "cell_type": "code",
   "execution_count": 10,
   "id": "7d346c31-a9b4-4634-a48c-a5ad36939cee",
   "metadata": {},
   "outputs": [
    {
     "name": "stdout",
     "output_type": "stream",
     "text": [
      "50th Percentile (Median): 20.0\n"
     ]
    }
   ],
   "source": [
    "data = np.array([10, 20, 30, 40, 50])\n",
    "p = np.percentile(data, 25)\n",
    "print(\"50th Percentile (Median):\", p)  # 30"
   ]
  },
  {
   "cell_type": "markdown",
   "id": "a1e5c63f-e31e-44f2-ad97-45bc84a5c0ed",
   "metadata": {},
   "source": [
    "---\n",
    "\n",
    "## 5️⃣ `np.flip()` – Reverse Array Contents\n",
    "\n",
    "### 🔹 np.flip()\n",
    "\n",
    "Flips array elements (like reversing).\n"
   ]
  },
  {
   "cell_type": "code",
   "execution_count": 12,
   "id": "d5a2b5b3-651e-44d8-bb7a-8148b19aca0a",
   "metadata": {},
   "outputs": [
    {
     "name": "stdout",
     "output_type": "stream",
     "text": [
      "[4 3 2 1]\n"
     ]
    }
   ],
   "source": [
    "arr = np.array([1, 2, 3, 4])\n",
    "print(np.flip(arr))  # [4 3 2 1]"
   ]
  },
  {
   "cell_type": "markdown",
   "id": "30e21954-f35b-49a9-ac25-9ed458e14f1d",
   "metadata": {},
   "source": [
    "---\n",
    "\n",
    "## 6️⃣ Set Operations in NumPy\n",
    "\n",
    "### 🔹 np.unique()\n",
    "\n",
    "Removes duplicates and returns sorted unique values."
   ]
  },
  {
   "cell_type": "code",
   "execution_count": 19,
   "id": "64d3c0b8-201a-4440-a813-d6cde8b2c713",
   "metadata": {},
   "outputs": [
    {
     "name": "stdout",
     "output_type": "stream",
     "text": [
      "[1 2 3 4]\n"
     ]
    }
   ],
   "source": [
    "arr = np.array([1, 2, 2, 3, 4, 4])\n",
    "print(np.unique(arr))  # [1 2 3 4]"
   ]
  },
  {
   "cell_type": "markdown",
   "id": "01f6b20d-f1dd-458b-8938-0e43e065236a",
   "metadata": {},
   "source": [
    "### 🔹np.intersect1d() – Common Elements"
   ]
  },
  {
   "cell_type": "code",
   "execution_count": 20,
   "id": "a4af5333-66bc-4048-8015-9926944dd6fe",
   "metadata": {},
   "outputs": [
    {
     "name": "stdout",
     "output_type": "stream",
     "text": [
      "Intersection: [2 3]\n"
     ]
    }
   ],
   "source": [
    "a = np.array([1, 2, 3])\n",
    "b = np.array([2, 3, 4])\n",
    "print(\"Intersection:\", np.intersect1d(a, b))"
   ]
  },
  {
   "cell_type": "markdown",
   "id": "ae4bdb23-1d4a-4727-beb7-3e73cc00b0e4",
   "metadata": {},
   "source": [
    "### 🔹 np.union1d() – All Unique Elements from Both"
   ]
  },
  {
   "cell_type": "code",
   "execution_count": 21,
   "id": "ab91309c-4807-4a99-904b-5668c242ac74",
   "metadata": {},
   "outputs": [
    {
     "name": "stdout",
     "output_type": "stream",
     "text": [
      "Union: [1 2 3 4]\n"
     ]
    }
   ],
   "source": [
    "print(\"Union:\", np.union1d(a, b))"
   ]
  },
  {
   "cell_type": "markdown",
   "id": "e103eed9-8f6e-4103-9a25-06fa908c973e",
   "metadata": {},
   "source": [
    "### 🔹 np.setdiff1d() – Elements in A but not in B"
   ]
  },
  {
   "cell_type": "code",
   "execution_count": 22,
   "id": "111755f9-6b4d-4647-b4c2-e6d0b1fe5471",
   "metadata": {},
   "outputs": [
    {
     "name": "stdout",
     "output_type": "stream",
     "text": [
      "A - B: [1]\n"
     ]
    }
   ],
   "source": [
    "print(\"A - B:\", np.setdiff1d(a, b))"
   ]
  },
  {
   "cell_type": "markdown",
   "id": "88e65276-f936-40b4-a0f9-2bb833457a5f",
   "metadata": {},
   "source": [
    "### 🔹 np.setxor1d() – Elements in A or B but not in both"
   ]
  },
  {
   "cell_type": "code",
   "execution_count": 23,
   "id": "4ab3b775-8b25-4e1f-9ec0-fb10b396da4e",
   "metadata": {},
   "outputs": [
    {
     "name": "stdout",
     "output_type": "stream",
     "text": [
      "Symmetric Difference: [1 4]\n"
     ]
    }
   ],
   "source": [
    "print(\"Symmetric Difference:\", np.setxor1d(a, b))"
   ]
  },
  {
   "cell_type": "code",
   "execution_count": null,
   "id": "8b44f536-fc73-4407-8a53-0349af695482",
   "metadata": {},
   "outputs": [],
   "source": []
  },
  {
   "cell_type": "code",
   "execution_count": null,
   "id": "23ddfdb5-ed94-4ed5-ad96-50ad0263dd1b",
   "metadata": {},
   "outputs": [],
   "source": []
  },
  {
   "cell_type": "code",
   "execution_count": null,
   "id": "e98f7eaa-35bb-43e5-b547-b412e4af6440",
   "metadata": {},
   "outputs": [],
   "source": []
  },
  {
   "cell_type": "code",
   "execution_count": null,
   "id": "9cf94a55-d898-47ac-aa20-53111a949f5e",
   "metadata": {},
   "outputs": [],
   "source": []
  }
 ],
 "metadata": {
  "kernelspec": {
   "display_name": "Python (myvenv)",
   "language": "python",
   "name": "myvenv"
  },
  "language_info": {
   "codemirror_mode": {
    "name": "ipython",
    "version": 3
   },
   "file_extension": ".py",
   "mimetype": "text/x-python",
   "name": "python",
   "nbconvert_exporter": "python",
   "pygments_lexer": "ipython3",
   "version": "3.12.4"
  }
 },
 "nbformat": 4,
 "nbformat_minor": 5
}
