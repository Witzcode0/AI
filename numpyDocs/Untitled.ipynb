{
 "cells": [
  {
   "cell_type": "code",
   "execution_count": null,
   "id": "1c11b0b6-c6ce-4769-b2d6-18390ffd187a",
   "metadata": {},
   "outputs": [],
   "source": []
  }
 ],
 "metadata": {
  "kernelspec": {
   "display_name": "",
   "name": ""
  },
  "language_info": {
   "name": ""
  }
 },
 "nbformat": 4,
 "nbformat_minor": 5
}
