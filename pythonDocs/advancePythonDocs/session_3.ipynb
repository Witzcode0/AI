{
 "cells": [
  {
   "cell_type": "markdown",
   "id": "342f82f0-2bd8-4844-94ac-9134c6539d09",
   "metadata": {},
   "source": [
    "## Namespace\n",
    "A **namespace** in Python is a system that assigns a unique name to each object (such as variables, functions, classes) in a program so that names are unique and avoid conflicts. It acts like a container mapping names to their corresponding objects."
   ]
  },
  {
   "cell_type": "markdown",
   "id": "87a1a57a-07f5-473b-b6ac-b2efd67a383d",
   "metadata": {},
   "source": [
    "## What is Scope in Python?\n",
    "\n",
    "**Scope** refers to the region of a program where a variable is recognized and can be accessed.\n",
    "- In other words, **scope defines the visibility of names within a namespace**."
   ]
  },
  {
   "cell_type": "markdown",
   "id": "3131b42d-2ea7-4852-a7b0-a2d072de8f1f",
   "metadata": {},
   "source": [
    "## Types of Scope in Python\n",
    "Python follows **4 levels of scope**, which follow the **LEGB Rule**:\n",
    "\n",
    "## 🔍 LEGB Rule\n",
    "When you use a variable in Python, the interpreter looks for it in this order:\n",
    "\n",
    "**L → Local Scope**\n",
    "\n",
    "- Names defined inside the current function."
   ]
  },
  {
   "cell_type": "code",
   "execution_count": 1,
   "id": "601a185e-4d4f-4cb9-b1e4-677977c5f0f8",
   "metadata": {},
   "outputs": [
    {
     "name": "stdout",
     "output_type": "stream",
     "text": [
      "10\n"
     ]
    }
   ],
   "source": [
    "def func():\n",
    "    a = 10  # Local\n",
    "    print(a)\n",
    "func()"
   ]
  },
  {
   "cell_type": "markdown",
   "id": "03e425fc-ee3f-4102-93d9-219e7c52e4fb",
   "metadata": {},
   "source": [
    "**E → Enclosing Scope**\n",
    "\n",
    "- Names in any enclosing function (used in nested functions)."
   ]
  },
  {
   "cell_type": "code",
   "execution_count": 2,
   "id": "826d271b-8673-435f-a072-be4e6c20e543",
   "metadata": {},
   "outputs": [
    {
     "name": "stdout",
     "output_type": "stream",
     "text": [
      "20\n"
     ]
    }
   ],
   "source": [
    "def outer():\n",
    "    b = 20\n",
    "    def inner():\n",
    "        print(b)  # Enclosing\n",
    "    inner()\n",
    "outer()"
   ]
  },
  {
   "cell_type": "markdown",
   "id": "fb860c54-ddeb-4e2e-ab75-955de4cfb473",
   "metadata": {},
   "source": [
    "**G → Global Scope**\n",
    "\n",
    "- Names defined at the top level of a script or module."
   ]
  },
  {
   "cell_type": "code",
   "execution_count": 3,
   "id": "e57be633-cf01-494b-bf57-1cf4c5567710",
   "metadata": {},
   "outputs": [
    {
     "name": "stdout",
     "output_type": "stream",
     "text": [
      "30\n"
     ]
    }
   ],
   "source": [
    "c = 30  # Global\n",
    "def func():\n",
    "    print(c)\n",
    "func()"
   ]
  },
  {
   "cell_type": "markdown",
   "id": "9dabbb5d-c593-4359-a3b6-33b08c3d83a0",
   "metadata": {},
   "source": [
    "**B → Built-in Scope**\n",
    "\n",
    "- Names that are pre-defined in Python (e.g., `print`, `len`, `range`)."
   ]
  },
  {
   "cell_type": "markdown",
   "id": "de4a7e7f-8356-493e-af27-61a4a843b096",
   "metadata": {},
   "source": [
    "### LEGB Rule in Action"
   ]
  },
  {
   "cell_type": "code",
   "execution_count": 4,
   "id": "ae215b3a-b98b-4bd1-b369-b65690b2cbb0",
   "metadata": {},
   "outputs": [
    {
     "name": "stdout",
     "output_type": "stream",
     "text": [
      "Local\n"
     ]
    }
   ],
   "source": [
    "x = \"Global\"\n",
    "\n",
    "def outer():\n",
    "    x = \"Enclosing\"\n",
    "    def inner():\n",
    "        x = \"Local\"\n",
    "        print(x)  # LEGB search: Local -> Enclosing -> Global -> Built-in\n",
    "    inner()\n",
    "\n",
    "outer()"
   ]
  },
  {
   "cell_type": "markdown",
   "id": "843eaf51-30ca-4d4d-9c63-d1274b51920a",
   "metadata": {},
   "source": [
    "### How to Modify Global and Enclosing Variables [Hands-on local, enclosing, global and built-in scope]\n",
    "- Use global keyword to modify a global variable inside a function.\n",
    "- Use nonlocal keyword to modify a variable from the enclosing scope."
   ]
  },
  {
   "cell_type": "code",
   "execution_count": 5,
   "id": "bd4ac18f-9f45-44ec-8592-65638b0c6182",
   "metadata": {},
   "outputs": [
    {
     "name": "stdout",
     "output_type": "stream",
     "text": [
      "Modified Enclosing\n",
      "Modified Enclosing\n"
     ]
    }
   ],
   "source": [
    "x = \"Global\"\n",
    "\n",
    "def outer():\n",
    "    x = \"Enclosing\"\n",
    "    def inner():\n",
    "        nonlocal x\n",
    "        x = \"Modified Enclosing\"\n",
    "        print(x)\n",
    "    inner()\n",
    "    print(x)\n",
    "\n",
    "outer()"
   ]
  },
  {
   "cell_type": "markdown",
   "id": "bcc08b30-583a-43ec-bfee-d36114a9bb8f",
   "metadata": {},
   "source": [
    "## What is a Decorator in Python?\n",
    "A **decorator** in Python is a special function that **takes another function as an argument and returns a new function with added functionality**, without changing the original function’s code."
   ]
  },
  {
   "cell_type": "markdown",
   "id": "ceda8785-3c64-459f-b01c-c487647506d7",
   "metadata": {},
   "source": [
    "## Why Use Decorators?\n",
    "- To **add extra features** (like logging, authentication, timing) to an existing function **without modifying its code**.\n",
    "- Follows **DRY (Don’t Repeat Yourself)** principle."
   ]
  },
  {
   "cell_type": "code",
   "execution_count": 9,
   "id": "c2f66e52-22eb-4e09-bcb7-3b0c20918dc8",
   "metadata": {},
   "outputs": [],
   "source": [
    "# Basic Syntax\n",
    "\n",
    "# def decorator_function(original_function):\n",
    "#     def wrapper_function():\n",
    "#         print(\"Before the function is called\")\n",
    "#         original_function()\n",
    "#         print(\"After the function is called\")\n",
    "#     return wrapper_function"
   ]
  },
  {
   "cell_type": "code",
   "execution_count": 10,
   "id": "e645efac-0cf7-4a59-ad52-5562ac30dc5e",
   "metadata": {},
   "outputs": [
    {
     "name": "stdout",
     "output_type": "stream",
     "text": [
      "Before execution\n",
      "Hello, World!\n",
      "After execution\n"
     ]
    }
   ],
   "source": [
    "# Simple Decorator\n",
    "def my_decorator(func):\n",
    "    def wrapper():\n",
    "        print(\"Before execution\")\n",
    "        func()\n",
    "        print(\"After execution\")\n",
    "    return wrapper\n",
    "\n",
    "@my_decorator\n",
    "def say_hello():\n",
    "    print(\"Hello, World!\")\n",
    "\n",
    "say_hello()"
   ]
  },
  {
   "cell_type": "code",
   "execution_count": 11,
   "id": "eb30f2bc-1465-48b6-a700-19c37ec13a3c",
   "metadata": {},
   "outputs": [
    {
     "name": "stdout",
     "output_type": "stream",
     "text": [
      "Before execution\n",
      "Adding 5 + 3\n",
      "After execution\n",
      "Result: 8\n"
     ]
    }
   ],
   "source": [
    "# Decorator with Arguments\n",
    "def my_decorator(func):\n",
    "    def wrapper(*args, **kwargs):\n",
    "        print(\"Before execution\")\n",
    "        result = func(*args, **kwargs)\n",
    "        print(\"After execution\")\n",
    "        return result\n",
    "    return wrapper\n",
    "\n",
    "@my_decorator\n",
    "def add(a, b):\n",
    "    print(f\"Adding {a} + {b}\")\n",
    "    return a + b\n",
    "\n",
    "print(\"Result:\", add(5, 3))"
   ]
  },
  {
   "cell_type": "code",
   "execution_count": 14,
   "id": "b8cedf52-0726-4ac7-be2b-09d1f95be014",
   "metadata": {},
   "outputs": [
    {
     "name": "stdout",
     "output_type": "stream",
     "text": [
      "Calling function: multiply with args: (4, 5) kwargs: {}\n",
      "20\n"
     ]
    }
   ],
   "source": [
    "# Real-World Use Case (Logging)\n",
    "def log_decorator(func):\n",
    "    def wrapper(*args, **kwargs):\n",
    "        print(f\"Calling function: {func.__name__} with args: {args} kwargs: {kwargs}\")\n",
    "        return func(*args, **kwargs)\n",
    "    return wrapper\n",
    "\n",
    "@log_decorator\n",
    "def multiply(a, b):\n",
    "    return a * b\n",
    "\n",
    "print(multiply(4, 5))"
   ]
  },
  {
   "cell_type": "code",
   "execution_count": 16,
   "id": "37bc8621-7eff-4cec-9e2b-fb6653195cef",
   "metadata": {},
   "outputs": [
    {
     "name": "stdout",
     "output_type": "stream",
     "text": [
      "Decorator 1\n",
      "Decorator 2\n",
      "Hello!\n"
     ]
    }
   ],
   "source": [
    "# Multiple Decorators\n",
    "def decorator1(func):\n",
    "    def wrapper():\n",
    "        print(\"Decorator 1\")\n",
    "        func()\n",
    "    return wrapper\n",
    "\n",
    "def decorator2(func):\n",
    "    def wrapper():\n",
    "        print(\"Decorator 2\")\n",
    "        func()\n",
    "    return wrapper\n",
    "\n",
    "@decorator1\n",
    "@decorator2\n",
    "def hello():\n",
    "    print(\"Hello!\")\n",
    "\n",
    "hello()\n"
   ]
  }
 ],
 "metadata": {
  "kernelspec": {
   "display_name": "Python 3 (ipykernel)",
   "language": "python",
   "name": "python3"
  },
  "language_info": {
   "codemirror_mode": {
    "name": "ipython",
    "version": 3
   },
   "file_extension": ".py",
   "mimetype": "text/x-python",
   "name": "python",
   "nbconvert_exporter": "python",
   "pygments_lexer": "ipython3",
   "version": "3.13.3"
  }
 },
 "nbformat": 4,
 "nbformat_minor": 5
}
