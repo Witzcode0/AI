{
 "cells": [
  {
   "cell_type": "markdown",
   "id": "40e051b6-fa04-4de7-b145-7c994d077449",
   "metadata": {},
   "source": [
    "# 🧠 Advanced NumPy Explained Simply\n",
    "\n",
    "This notebook covers the following **Advanced NumPy Topics**:\n",
    "\n",
    "1. NumPy Array vs Python List  \n",
    "2. Advanced, Fancy & Boolean Indexing  \n",
    "3. Broadcasting  \n",
    "4. Mathematical Operations in NumPy  \n",
    "5. Sigmoid Function in NumPy  \n",
    "6. Mean Squared Error (MSE)  \n",
    "7. Working with Missing Values (NaN)  \n",
    "8. Plotting Graphs with NumPy + Matplotlib  \n"
   ]
  },
  {
   "cell_type": "code",
   "execution_count": 1,
   "id": "b375e7ec-9b31-4a26-bc3c-9487dc6f80ce",
   "metadata": {},
   "outputs": [],
   "source": [
    "import numpy as np"
   ]
  },
  {
   "cell_type": "markdown",
   "id": "0cdccec7-03e5-437f-a8c9-ea53ab693c13",
   "metadata": {},
   "source": [
    "### 🔹 NumPy Array vs Python List\n",
    "\n",
    "**Python List**:\n",
    "- Can hold mixed data types.\n",
    "- Slower for large computations.\n",
    "\n",
    "**NumPy Array**:\n",
    "- Faster, uses less memory.\n",
    "- Performs operations on entire array at once.\n",
    "\n",
    "```python"
   ]
  },
  {
   "cell_type": "code",
   "execution_count": 2,
   "id": "b411e919-9fc2-40a0-ae4d-26afd5c0e84a",
   "metadata": {},
   "outputs": [
    {
     "name": "stdout",
     "output_type": "stream",
     "text": [
      "List: [1, 2, 3]\n",
      "Array: [1 2 3]\n"
     ]
    }
   ],
   "source": [
    "# Python list\n",
    "list1 = [1, 2, 3]\n",
    "\n",
    "# NumPy array\n",
    "array1 = np.array([1, 2, 3])\n",
    "\n",
    "print(\"List:\", list1)\n",
    "print(\"Array:\", array1)"
   ]
  },
  {
   "cell_type": "markdown",
   "id": "f080a978-a9bb-44cf-a780-792ade68423b",
   "metadata": {},
   "source": [
    "---\n",
    "\n",
    "## 📘 Advanced, Fancy & Boolean Indexing\n",
    "### 🔹 Fancy Indexing\n",
    "\n",
    "Pick values from specific positions.\n"
   ]
  },
  {
   "cell_type": "code",
   "execution_count": 3,
   "id": "7ef7fd51-f9f3-4900-b132-22c89c46c3c2",
   "metadata": {},
   "outputs": [
    {
     "name": "stdout",
     "output_type": "stream",
     "text": [
      "[10 30 50]\n"
     ]
    }
   ],
   "source": [
    "arr = np.array([10, 20, 30, 40, 50])\n",
    "print(arr[[0, 2, 4]])  # [10 30 50]"
   ]
  },
  {
   "cell_type": "markdown",
   "id": "e2ed3304-2858-4beb-84ea-217919ef943f",
   "metadata": {},
   "source": [
    "### 🔹 Boolean Indexing\n",
    "\n",
    "Filter based on condition."
   ]
  },
  {
   "cell_type": "code",
   "execution_count": 4,
   "id": "ec7d94d0-5ab1-4a0b-8dbc-cdab6c00014c",
   "metadata": {},
   "outputs": [
    {
     "name": "stdout",
     "output_type": "stream",
     "text": [
      "[15 20]\n"
     ]
    }
   ],
   "source": [
    "arr = np.array([5, 10, 15, 20])\n",
    "print(arr[arr > 10])   # [15 20]"
   ]
  },
  {
   "cell_type": "markdown",
   "id": "b13cc98c-58c2-47e2-8480-2a6fe7c89f7f",
   "metadata": {},
   "source": [
    "---\n",
    "## Broadcasting – Stretching Like Elastic Bands 🧃\n",
    "\n",
    "Imagine you have:\n",
    "\n",
    "- 🍎 A big basket of fruits: `[10, 20, 30]`  \n",
    "- ➕ And you want to add `5` to **all** the fruits\n",
    "\n",
    "Instead of adding 5 to each item one by one,  \n",
    "NumPy **broadcasts** the number `5` to the **whole array** — like stretching an elastic band!"
   ]
  },
  {
   "cell_type": "code",
   "execution_count": 5,
   "id": "c0471568-6777-47a2-bc9e-eb4cb5a5fcdd",
   "metadata": {},
   "outputs": [
    {
     "name": "stdout",
     "output_type": "stream",
     "text": [
      "[15 25 35]\n"
     ]
    }
   ],
   "source": [
    "arr = np.array([10, 20, 30])\n",
    "print(arr + 5)   # [15 25 35]"
   ]
  },
  {
   "cell_type": "markdown",
   "id": "270bff25-afc9-41d8-857d-70376a8bd58b",
   "metadata": {},
   "source": [
    "## ➕ Mathematical Operations in NumPy\n",
    "\n",
    "You can do **math directly on arrays** — fast and easy like a calculator! 🧮⚡  \n",
    "NumPy lets you add, subtract, multiply, and more in just one line."
   ]
  },
  {
   "cell_type": "code",
   "execution_count": 6,
   "id": "6ec7c845-7d22-4378-887a-889cc94a4e22",
   "metadata": {},
   "outputs": [
    {
     "name": "stdout",
     "output_type": "stream",
     "text": [
      "[5 7 9]\n",
      "[ 4 10 18]\n",
      "[1 4 9]\n"
     ]
    }
   ],
   "source": [
    "a = np.array([1, 2, 3])\n",
    "b = np.array([4, 5, 6])\n",
    "\n",
    "print(a + b)  # [5 7 9]\n",
    "print(a * b)  # [4 10 18]\n",
    "print(a ** 2) # [1 4 9]"
   ]
  },
  {
   "cell_type": "markdown",
   "id": "8a0b5723-9160-42c1-b94d-2c499bba9f87",
   "metadata": {},
   "source": [
    "## 🧠 Sigmoid in NumPy – Convert to Smooth Probabilities 📉➡️📈\n",
    "\n",
    "The **Sigmoid Function** is used to **shrink any number** to a value **between 0 and 1**.\n",
    "\n",
    "It's like turning **raw numbers** into **smooth probabilities**.  \n",
    "Perfect for Machine Learning and Neural Networks 🤖\n",
    "\n",
    "---\n",
    "\n",
    "### 🧮 Math Formula:\n",
    "$$\n",
    "\\text{Sigmoid}(x) = \\frac{1}{1 + e^{-x}}\n",
    "$$\n",
    "\n",
    "- If `x` is **very large**, output ≈ 1  \n",
    "- If `x` is **very small**, output ≈ 0  \n",
    "- If `x` is **0**, output = 0.5\n",
    "\n",
    "---"
   ]
  },
  {
   "cell_type": "code",
   "execution_count": 7,
   "id": "7ddeada3-df08-4774-b219-80cd61da77b3",
   "metadata": {},
   "outputs": [
    {
     "name": "stdout",
     "output_type": "stream",
     "text": [
      "Sigmoid Output: [4.53978687e-05 2.68941421e-01 5.00000000e-01 7.31058579e-01\n",
      " 9.99954602e-01]\n"
     ]
    },
    {
     "data": {
      "image/png": "[encoded data removed]",
      "text/plain": [
       "<Figure size 640x480 with 1 Axes>"
      ]
     },
     "metadata": {},
     "output_type": "display_data"
    }
   ],
   "source": [
    "import matplotlib.pyplot as plt\n",
    "\n",
    "# Define Sigmoid function\n",
    "def sigmoid(x):\n",
    "    return 1 / (1 + np.exp(-x))\n",
    "\n",
    "# Try it on some values\n",
    "x = np.array([-10, -1, 0, 1, 10])\n",
    "y = sigmoid(x)\n",
    "\n",
    "print(\"Sigmoid Output:\", y)\n",
    "\n",
    "# Plot\n",
    "plt.plot(x, y, color=\"green\")\n",
    "plt.title(\"Sigmoid Curve\")\n",
    "plt.xlabel(\"x\")\n",
    "plt.ylabel(\"sigmoid(x)\")\n",
    "plt.grid(True)\n",
    "plt.show()"
   ]
  },
  {
   "cell_type": "markdown",
   "id": "a22a2450-74c8-4a4f-8642-4f783bde5d5d",
   "metadata": {},
   "source": [
    "## 📘 Mean Squared Error (MSE)\n",
    "\n",
    "### 🔹 What is MSE?\n",
    "\n",
    "**Mean Squared Error (MSE)** is used to measure the difference between actual and predicted values.  \n",
    "It is commonly used in regression problems to evaluate model performance.\n",
    "\n",
    "---\n",
    "\n",
    "### 🔢 Formula:\n",
    "\n",
    "$$\n",
    "\\text{MSE} = \\frac{1}{n} \\sum_{i=1}^{n} (y_{\\text{actual}_i} - y_{\\text{pred}_i})^2\n",
    "$$\n",
    "\n",
    "---"
   ]
  },
  {
   "cell_type": "code",
   "execution_count": 8,
   "id": "3164f61c-ba56-46de-be50-7ac36fa3ec02",
   "metadata": {},
   "outputs": [
    {
     "name": "stdout",
     "output_type": "stream",
     "text": [
      "MSE: 1.4166666666666667\n"
     ]
    }
   ],
   "source": [
    "actual = np.array([3, 5, 2])\n",
    "predicted = np.array([2.5, 5, 4])\n",
    "\n",
    "mse = np.mean((actual - predicted) ** 2)\n",
    "print(\"MSE:\", mse)"
   ]
  },
  {
   "cell_type": "markdown",
   "id": "2cc0a4f8-da5b-40f2-b59b-3515cdb06aaa",
   "metadata": {},
   "source": [
    "---\n",
    "\n",
    "## 📘 Working with Missing Values (NaN)\n",
    "\n",
    "### 🔹 Handling Missing Values (NaN)"
   ]
  },
  {
   "cell_type": "code",
   "execution_count": 9,
   "id": "07bd89cf-b9f6-4fe3-8ec0-d6b71ab2cc39",
   "metadata": {},
   "outputs": [
    {
     "name": "stdout",
     "output_type": "stream",
     "text": [
      "[False False  True False]\n",
      "Mean (ignoring nan): 2.3333333333333335\n"
     ]
    }
   ],
   "source": [
    "arr = np.array([1, 2, np.nan, 4])\n",
    "\n",
    "# Check where values are NaN\n",
    "print(np.isnan(arr))\n",
    "\n",
    "# Mean without nan\n",
    "print(\"Mean (ignoring nan):\", np.nanmean(arr))"
   ]
  },
  {
   "cell_type": "markdown",
   "id": "ffa3e626-4f54-4f0a-bb34-f3ae92644582",
   "metadata": {},
   "source": [
    "---\n",
    "\n",
    "## 📘 Plotting Graphs\n",
    "\n",
    "### 🔹 Plotting Sigmoid Graph with Matplotlib"
   ]
  },
  {
   "cell_type": "code",
   "execution_count": 11,
   "id": "32aef474-57b9-4f8d-8118-5806f83dc809",
   "metadata": {},
   "outputs": [
    {
     "data": {
      "image/png": "[encoded data removed]",
      "text/plain": [
       "<Figure size 640x480 with 1 Axes>"
      ]
     },
     "metadata": {},
     "output_type": "display_data"
    }
   ],
   "source": [
    "x = np.linspace(-10, 10, 100)\n",
    "y = 1 / (1 + np.exp(-x))\n",
    "\n",
    "plt.plot(x, y)\n",
    "plt.title(\"Sigmoid Function\")\n",
    "plt.grid()\n",
    "plt.show()"
   ]
  },
  {
   "cell_type": "markdown",
   "id": "9001c6cf-8e31-4dc5-9a89-0f6ea8b4ea61",
   "metadata": {},
   "source": [
    "---\n",
    "\n",
    "## ✅ Summary Table\n",
    "\n",
    "```markdown\n",
    "| Concept              | Description                          | Example                    |\n",
    "|----------------------|--------------------------------------|----------------------------|\n",
    "| NumPy vs List        | Faster and more memory-efficient     | `np.array()` vs `list[]`   |\n",
    "| Fancy Indexing       | Pick specific indices                | `arr[[0, 2]]`              |\n",
    "| Boolean Indexing     | Filter with conditions               | `arr[arr > 10]`            |\n",
    "| Broadcasting         | Stretch value to match shape         | `arr + 5`                   |\n",
    "| Math Operations      | Vectorized math                      | `a * b`, `a ** 2`            |\n",
    "| Sigmoid              | Convert to 0–1 range                 | `1/(1 + e^-x)`               |\n",
    "| MSE                  | Prediction error measure             | `np.mean((a-b)**2)`          |\n",
    "| Missing Values       | Handle `NaN` values                  | `np.isnan()`, `np.nanmean()` |\n",
    "| Plotting             | Graph visualizations                 | `plt.plot()`                 |\n"
   ]
  },
  {
   "cell_type": "code",
   "execution_count": null,
   "id": "7d9cc776-0572-42f2-85fb-df4c64917533",
   "metadata": {},
   "outputs": [],
   "source": []
  }
 ],
 "metadata": {
  "kernelspec": {
   "display_name": "Python (myvenv)",
   "language": "python",
   "name": "myvenv"
  },
  "language_info": {
   "codemirror_mode": {
    "name": "ipython",
    "version": 3
   },
   "file_extension": ".py",
   "mimetype": "text/x-python",
   "name": "python",
   "nbconvert_exporter": "python",
   "pygments_lexer": "ipython3",
   "version": "3.12.4"
  }
 },
 "nbformat": 4,
 "nbformat_minor": 5
}
