{
 "cells": [
  {
   "cell_type": "markdown",
   "id": "f44b35b4-1646-4ac6-89b1-5d1e38570047",
   "metadata": {},
   "source": [
    "## 🧩 What is GroupBy in Pandas?\n",
    "\n",
    "**GroupBy** is like grouping students by their grade and then calculating statistics (like average marks) for each group.\n",
    "\n",
    "---\n",
    "\n",
    "### 💡 Real-life Analogy:\n",
    "\n",
    "Suppose you are a **teacher**.\n",
    "\n",
    "You want to know the **average marks** for each class (e.g., Class A, Class B, Class C).\n",
    "\n",
    "✅ You would **group students by class** and then **calculate average**.\n",
    "\n",
    "---\n",
    "\n",
    "🎯 This is **exactly** what `GroupBy` in Pandas does!\n",
    "\n",
    "It lets you:\n",
    "- Group data by one or more columns\n",
    "- Apply functions like `mean()`, `sum()`, `count()`, `max()` etc. on each group\n",
    "\n",
    "**🧠 Syntax**\n",
    "\n",
    "`grouped_data = df.groupby('column_name').methodName()`\n",
    "\n",
    "| Function    | Description                      |\n",
    "| ----------- | -------------------------------- |\n",
    "| `.mean()`   | Average of values in each group  |\n",
    "| `.sum()`    | Sum of values in each group      |\n",
    "| `.count()`  | Number of items in each group    |\n",
    "| `.min()`    | Minimum value in each group      |\n",
    "| `.max()`    | Maximum value in each group      |\n",
    "| `.median()` | Median value in each group       |\n",
    "| `.std()`    | Standard deviation in each group |\n"
   ]
  },
  {
   "cell_type": "code",
   "execution_count": 3,
   "id": "0ae9643c-d333-45d4-a35a-3406712b847e",
   "metadata": {},
   "outputs": [
    {
     "data": {
      "text/html": [
       "<div>\n",
       "<style scoped>\n",
       "    .dataframe tbody tr th:only-of-type {\n",
       "        vertical-align: middle;\n",
       "    }\n",
       "\n",
       "    .dataframe tbody tr th {\n",
       "        vertical-align: top;\n",
       "    }\n",
       "\n",
       "    .dataframe thead th {\n",
       "        text-align: right;\n",
       "    }\n",
       "</style>\n",
       "<table border=\"1\" class=\"dataframe\">\n",
       "  <thead>\n",
       "    <tr style=\"text-align: right;\">\n",
       "      <th></th>\n",
       "      <th>Name</th>\n",
       "      <th>Class</th>\n",
       "      <th>Marks</th>\n",
       "    </tr>\n",
       "  </thead>\n",
       "  <tbody>\n",
       "    <tr>\n",
       "      <th>0</th>\n",
       "      <td>Alice</td>\n",
       "      <td>A</td>\n",
       "      <td>85</td>\n",
       "    </tr>\n",
       "    <tr>\n",
       "      <th>1</th>\n",
       "      <td>Bob</td>\n",
       "      <td>B</td>\n",
       "      <td>90</td>\n",
       "    </tr>\n",
       "    <tr>\n",
       "      <th>2</th>\n",
       "      <td>Charlie</td>\n",
       "      <td>A</td>\n",
       "      <td>95</td>\n",
       "    </tr>\n",
       "    <tr>\n",
       "      <th>3</th>\n",
       "      <td>David</td>\n",
       "      <td>B</td>\n",
       "      <td>70</td>\n",
       "    </tr>\n",
       "    <tr>\n",
       "      <th>4</th>\n",
       "      <td>Eva</td>\n",
       "      <td>A</td>\n",
       "      <td>88</td>\n",
       "    </tr>\n",
       "    <tr>\n",
       "      <th>5</th>\n",
       "      <td>Frank</td>\n",
       "      <td>B</td>\n",
       "      <td>76</td>\n",
       "    </tr>\n",
       "  </tbody>\n",
       "</table>\n",
       "</div>"
      ],
      "text/plain": [
       "      Name Class  Marks\n",
       "0    Alice     A     85\n",
       "1      Bob     B     90\n",
       "2  Charlie     A     95\n",
       "3    David     B     70\n",
       "4      Eva     A     88\n",
       "5    Frank     B     76"
      ]
     },
     "execution_count": 3,
     "metadata": {},
     "output_type": "execute_result"
    }
   ],
   "source": [
    "import pandas as pd\n",
    "\n",
    "students = {\n",
    "    'Name': ['Alice', 'Bob', 'Charlie', 'David', 'Eva', 'Frank'],\n",
    "    'Class': ['A', 'B', 'A', 'B', 'A', 'B'],\n",
    "    'Marks': [85, 90, 95, 70, 88, 76]\n",
    "}\n",
    "\n",
    "df = pd.DataFrame(students)\n",
    "df"
   ]
  },
  {
   "cell_type": "code",
   "execution_count": 9,
   "id": "e36a822d-76de-4017-a64d-903eaa2670e8",
   "metadata": {},
   "outputs": [
    {
     "name": "stdout",
     "output_type": "stream",
     "text": [
      "Class\n",
      "A    89.333333\n",
      "B    78.666667\n",
      "Name: Marks, dtype: float64\n"
     ]
    }
   ],
   "source": [
    "grouped_by_class = df.groupby('Class')\n",
    "# 📊 Get average marks per class\n",
    "print(grouped_by_class['Marks'].mean())"
   ]
  },
  {
   "cell_type": "markdown",
   "id": "5f6d5b36-17f6-4a6d-a81e-f8b083e95d91",
   "metadata": {},
   "source": [
    "🛠️ GroupBy Attributes and Methods\n",
    "| Attribute / Method | Description                                        |\n",
    "| ------------------ | -------------------------------------------------- |\n",
    "| `.groups`          | Shows groups and row indices                       |\n",
    "| `.get_group()`     | Get rows for a specific group                      |\n",
    "| `.agg()`           | Apply multiple aggregation functions               |\n",
    "| `.apply()`         | Apply custom function to each group                |\n",
    "| `.transform()`     | Return group-wise values aligned to original index |\n"
   ]
  },
  {
   "cell_type": "code",
   "execution_count": 14,
   "id": "95092581-b905-4a8a-97e7-ae1930ff7ce3",
   "metadata": {},
   "outputs": [
    {
     "name": "stdout",
     "output_type": "stream",
     "text": [
      "            mean  max  min\n",
      "Class                     \n",
      "A      89.333333   95   85\n",
      "B      78.666667   90   70\n"
     ]
    }
   ],
   "source": [
    "# GroupBy with Multiple Aggregations\n",
    "# 🔢 Group and apply multiple aggregations\n",
    "print(grouped_by_class['Marks'].agg(['mean', 'max', 'min']))"
   ]
  },
  {
   "cell_type": "code",
   "execution_count": 15,
   "id": "ff0f31cd-e5b5-499a-9c7f-ddb506e82f7e",
   "metadata": {},
   "outputs": [
    {
     "data": {
      "text/html": [
       "<div>\n",
       "<style scoped>\n",
       "    .dataframe tbody tr th:only-of-type {\n",
       "        vertical-align: middle;\n",
       "    }\n",
       "\n",
       "    .dataframe tbody tr th {\n",
       "        vertical-align: top;\n",
       "    }\n",
       "\n",
       "    .dataframe thead th {\n",
       "        text-align: right;\n",
       "    }\n",
       "</style>\n",
       "<table border=\"1\" class=\"dataframe\">\n",
       "  <thead>\n",
       "    <tr style=\"text-align: right;\">\n",
       "      <th></th>\n",
       "      <th>Name</th>\n",
       "      <th>Class</th>\n",
       "      <th>Marks</th>\n",
       "    </tr>\n",
       "  </thead>\n",
       "  <tbody>\n",
       "    <tr>\n",
       "      <th>0</th>\n",
       "      <td>Alice</td>\n",
       "      <td>A</td>\n",
       "      <td>85</td>\n",
       "    </tr>\n",
       "    <tr>\n",
       "      <th>2</th>\n",
       "      <td>Charlie</td>\n",
       "      <td>A</td>\n",
       "      <td>95</td>\n",
       "    </tr>\n",
       "    <tr>\n",
       "      <th>4</th>\n",
       "      <td>Eva</td>\n",
       "      <td>A</td>\n",
       "      <td>88</td>\n",
       "    </tr>\n",
       "  </tbody>\n",
       "</table>\n",
       "</div>"
      ],
      "text/plain": [
       "      Name Class  Marks\n",
       "0    Alice     A     85\n",
       "2  Charlie     A     95\n",
       "4      Eva     A     88"
      ]
     },
     "execution_count": 15,
     "metadata": {},
     "output_type": "execute_result"
    }
   ],
   "source": [
    "# Using .get_group()\n",
    "grouped_by_class.get_group('A')"
   ]
  },
  {
   "cell_type": "code",
   "execution_count": 16,
   "id": "196cca87-f7d7-4297-854b-db23b11a2c36",
   "metadata": {},
   "outputs": [
    {
     "name": "stdout",
     "output_type": "stream",
     "text": [
      "Team\n",
      "CSK     50\n",
      "MI     160\n",
      "RCB    140\n",
      "Name: Runs, dtype: int64\n",
      "Team\n",
      "CSK    50.0\n",
      "MI     80.0\n",
      "RCB    70.0\n",
      "Name: Runs, dtype: float64\n"
     ]
    }
   ],
   "source": [
    "# 🏏 Hands-On IPL Dataset Example (Simplified)\n",
    "# Let’s say you have an IPL dataset like:\n",
    "data = {\n",
    "    'Player': ['Kohli', 'Rohit', 'Maxwell', 'SKY', 'Dhoni'],\n",
    "    'Team': ['RCB', 'MI', 'RCB', 'MI', 'CSK'],\n",
    "    'Runs': [80, 70, 60, 90, 50]\n",
    "}\n",
    "\n",
    "ipl = pd.DataFrame(data)\n",
    "\n",
    "# 🧠 Group by Team\n",
    "team_group = ipl.groupby('Team')\n",
    "\n",
    "# 📊 Total Runs per Team\n",
    "print(team_group['Runs'].sum())\n",
    "\n",
    "# 📈 Average Runs per Team\n",
    "print(team_group['Runs'].mean())\n"
   ]
  },
  {
   "cell_type": "code",
   "execution_count": null,
   "id": "127abcba-7a7a-4808-8e7e-8ba74240d31e",
   "metadata": {},
   "outputs": [],
   "source": []
  }
 ],
 "metadata": {
  "kernelspec": {
   "display_name": "Python 3 (ipykernel)",
   "language": "python",
   "name": "python3"
  },
  "language_info": {
   "codemirror_mode": {
    "name": "ipython",
    "version": 3
   },
   "file_extension": ".py",
   "mimetype": "text/x-python",
   "name": "python",
   "nbconvert_exporter": "python",
   "pygments_lexer": "ipython3",
   "version": "3.13.5"
  }
 },
 "nbformat": 4,
 "nbformat_minor": 5
}
