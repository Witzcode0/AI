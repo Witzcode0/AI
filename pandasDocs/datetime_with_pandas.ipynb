{
 "cells": [
  {
   "cell_type": "code",
   "execution_count": 4,
   "id": "a2092e04-1b1e-4333-99a9-51c834557762",
   "metadata": {},
   "outputs": [],
   "source": [
    "import pandas as pd\n",
    "import datetime as dt"
   ]
  },
  {
   "cell_type": "markdown",
   "id": "c5b4f7c4-4b83-4538-84b9-4ed68ab5a7f9",
   "metadata": {},
   "source": [
    "### Python `datetime` module"
   ]
  },
  {
   "cell_type": "code",
   "execution_count": 9,
   "id": "c805fca7-c84e-407d-8981-f8b39ea1f839",
   "metadata": {},
   "outputs": [
    {
     "data": {
      "text/plain": [
       "2025"
      ]
     },
     "execution_count": 9,
     "metadata": {},
     "output_type": "execute_result"
    }
   ],
   "source": [
    "today_date = dt.date(2025, 8, 6)\n",
    "today_date.day\n",
    "today_date.month\n",
    "today_date.year"
   ]
  },
  {
   "cell_type": "code",
   "execution_count": 11,
   "id": "cbcca260-4e00-4136-8f08-d9b2c3a98602",
   "metadata": {},
   "outputs": [
    {
     "data": {
      "text/plain": [
       "40"
      ]
     },
     "execution_count": 11,
     "metadata": {},
     "output_type": "execute_result"
    }
   ],
   "source": [
    "today_datetime = dt.datetime(2025, 8, 6, 4, 21, 40)  \n",
    "today_datetime.hour\n",
    "today_datetime.minute\n",
    "today_datetime.second"
   ]
  },
  {
   "cell_type": "markdown",
   "id": "cdf001ec-5314-400b-8814-a84adc43909d",
   "metadata": {},
   "source": [
    "### `Timestamp`"
   ]
  },
  {
   "cell_type": "code",
   "execution_count": 18,
   "id": "330255c7-fbe3-40f9-9b7e-911d71cbab0c",
   "metadata": {},
   "outputs": [
    {
     "data": {
      "text/plain": [
       "Timestamp('2025-06-08 00:00:00')"
      ]
     },
     "execution_count": 18,
     "metadata": {},
     "output_type": "execute_result"
    }
   ],
   "source": [
    "pd.Timestamp(\"2025-08-06\")\n",
    "pd.Timestamp(\"2025/08/06\")\n",
    "pd.Timestamp(\"2025/8/6\")\n",
    "pd.Timestamp(\"2025, 8, 6\")\n",
    "pd.Timestamp(\"06-08-2025\")"
   ]
  },
  {
   "cell_type": "code",
   "execution_count": 22,
   "id": "e0a51a26-541b-4464-baa8-ba5504c67c8b",
   "metadata": {},
   "outputs": [
    {
     "data": {
      "text/plain": [
       "2025"
      ]
     },
     "execution_count": 22,
     "metadata": {},
     "output_type": "execute_result"
    }
   ],
   "source": [
    "date_ts = pd.Timestamp(\"06-08-2025\")\n",
    "date_ts.month\n",
    "date_ts.day\n",
    "date_ts.year"
   ]
  },
  {
   "cell_type": "code",
   "execution_count": 25,
   "id": "146f186e-4a7b-4180-a215-7c433765faa4",
   "metadata": {},
   "outputs": [
    {
     "data": {
      "text/plain": [
       "17"
      ]
     },
     "execution_count": 25,
     "metadata": {},
     "output_type": "execute_result"
    }
   ],
   "source": [
    "datetime_ts = pd.Timestamp(\"2025-08-06 17:21:40\")\n",
    "datetime_ts.hour\n",
    "# datetime_ts.minute\n",
    "# datetime_ts.second"
   ]
  },
  {
   "cell_type": "code",
   "execution_count": 26,
   "id": "eb3280f8-22db-486d-b3ba-1f8253449148",
   "metadata": {},
   "outputs": [
    {
     "data": {
      "text/plain": [
       "17"
      ]
     },
     "execution_count": 26,
     "metadata": {},
     "output_type": "execute_result"
    }
   ],
   "source": [
    "datetime_ts = pd.Timestamp(\"2025-08-06 05:21:40 PM\")\n",
    "datetime_ts.hour\n",
    "# datetime_ts.minute\n",
    "# datetime_ts.second"
   ]
  },
  {
   "cell_type": "markdown",
   "id": "de2e3b20-f206-4943-ba0a-3658c260633b",
   "metadata": {},
   "source": [
    "### `DateTimeIndex`"
   ]
  },
  {
   "cell_type": "code",
   "execution_count": 27,
   "id": "1a60aed9-60dc-4119-83eb-9c905c155fcb",
   "metadata": {},
   "outputs": [
    {
     "data": {
      "text/plain": [
       "DatetimeIndex(['2025-08-01', '2025-08-02', '2025-08-03'], dtype='datetime64[ns]', freq=None)"
      ]
     },
     "execution_count": 27,
     "metadata": {},
     "output_type": "execute_result"
    }
   ],
   "source": [
    "dates = ['2025-08-01', '2025-08-02','2025-08-03']\n",
    "pd.DatetimeIndex(dates)"
   ]
  },
  {
   "cell_type": "code",
   "execution_count": null,
   "id": "056ec4a2-93de-4e47-bfe0-b073d93c103e",
   "metadata": {},
   "outputs": [],
   "source": []
  }
 ],
 "metadata": {
  "kernelspec": {
   "display_name": "Python 3 (ipykernel)",
   "language": "python",
   "name": "python3"
  },
  "language_info": {
   "codemirror_mode": {
    "name": "ipython",
    "version": 3
   },
   "file_extension": ".py",
   "mimetype": "text/x-python",
   "name": "python",
   "nbconvert_exporter": "python",
   "pygments_lexer": "ipython3",
   "version": "3.13.5"
  }
 },
 "nbformat": 4,
 "nbformat_minor": 5
}
