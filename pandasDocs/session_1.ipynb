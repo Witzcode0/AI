{
 "cells": [
  {
   "cell_type": "markdown",
   "id": "65164d62-63d3-4ce4-9fb0-98bcbf666e24",
   "metadata": {},
   "source": [
    "# What is Pandas?\n",
    "\n",
    "Imagine you have a **super notebook** 📓 that helps you store and play with lots of numbers, names, or data in **rows and columns** — like a **school register** or **marksheet**.\n",
    "\n",
    "This notebook is called **Pandas** in Python.\n",
    "\n",
    "---\n",
    "\n",
    "🐼 **Pandas** is a special **Python library** used to **work with tables of data** — like **Excel** but in Python!\n",
    "\n",
    "---\n",
    "\n",
    "### With Pandas, you can:\n",
    "- Read data (like reading from an Excel file)\n",
    "- Write data (like saving changes back to a file)\n",
    "- Change or clean messy data\n",
    "- Analyze data (find average, max, min, etc.)\n",
    "- Draw graphs 📊 and charts easily\n",
    "\n",
    "---\n",
    "\n",
    "> Think of Pandas as your **data superpower** in Python! 💪🐍\n"
   ]
  },
  {
   "cell_type": "markdown",
   "id": "d4267a4e-6eeb-46cb-8d3b-4e98ae1c78cb",
   "metadata": {},
   "source": [
    "## 🐼 Install Pandas\n",
    "\n",
    "To use **Pandas**, you need to **install it first**.\n",
    "\n",
    "Open your **terminal** (Command Prompt, PowerShell, or your code editor's terminal) and type:\n",
    "\n",
    "```bash\n",
    "pip install pandas\n",
    "```\n",
    "\n",
    "> This command installs the latest version of Pandas from PyPI (Python Package Index).\n"
   ]
  },
  {
   "cell_type": "markdown",
   "id": "706f5378-739b-4f9f-a286-7887eb4d5d18",
   "metadata": {},
   "source": [
    "## 🔍 Check if Pandas is Already Installed\n",
    "\n",
    "You can check if **Pandas** is already installed by running this code in a **Python environment**:"
   ]
  },
  {
   "cell_type": "code",
   "execution_count": 1,
   "id": "1dac926e-8950-4fa7-a3e0-d9042e5e5f3d",
   "metadata": {},
   "outputs": [
    {
     "name": "stdout",
     "output_type": "stream",
     "text": [
      "2.3.1\n"
     ]
    }
   ],
   "source": [
    "import pandas as pd\n",
    "print(pd.__version__)"
   ]
  },
  {
   "cell_type": "markdown",
   "id": "a2aebdff-1283-4932-8ed3-3088c5d97d12",
   "metadata": {},
   "source": [
    "# What is a Pandas Series?\n",
    "\n",
    "A **Pandas Series** is like a **single column of data** — think of it as a **list** or a **column from a spreadsheet or table**.\n",
    "\n",
    "It is a **one-dimensional array-like** structure provided by the `pandas` library in Python.\n",
    "\n",
    "It can hold **data of any type**: integers, floats, strings, Python objects, etc.\n",
    "\n",
    "---\n",
    "\n",
    "## 🔧 Key Features of a Pandas Series:\n",
    "\n",
    "| Feature       | Description                                                                 |\n",
    "|---------------|-----------------------------------------------------------------------------|\n",
    "| 🧱 1D Structure | A Series is a **one-dimensional** array.                                   |\n",
    "| 🔑 Indexed     | Every element has a **label (index)** — like a name tag.                    |\n",
    "| 📦 Flexible    | Can hold **different types of data** (int, float, string, etc.).            |\n",
    "| 📈 Powerful    | Supports **math operations, filtering, plotting**, and more.                |\n",
    "\n",
    "---\n",
    "\n",
    "> 📌 Think of a Pandas Series like a **super list** with labels that you can analyze and visualize! 🌈\n"
   ]
  },
  {
   "cell_type": "markdown",
   "id": "cefacd6b-368f-450d-9b80-074d604a0326",
   "metadata": {},
   "source": [
    "### How to Create a Pandas Series\n",
    "To create a Series, we use:\n",
    "```Base\n",
    "pd.Series(data, index=optional_labels)\n",
    "```\n",
    "Where:\n",
    "\n",
    "- data: can be a list, tuple, NumPy array, or even a dictionary.\n",
    "- index: optional custom labels for the data."
   ]
  },
  {
   "cell_type": "code",
   "execution_count": 2,
   "id": "0df3dcd3-09f9-490b-bf9d-9aa56dcfc533",
   "metadata": {},
   "outputs": [
    {
     "data": {
      "text/plain": [
       "0    20\n",
       "1    15\n",
       "2    12\n",
       "3    25\n",
       "dtype: int64"
      ]
     },
     "execution_count": 2,
     "metadata": {},
     "output_type": "execute_result"
    }
   ],
   "source": [
    "# From a List\n",
    "price = [20, 15, 12, 25]\n",
    "s = pd.Series(price)\n",
    "s"
   ]
  },
  {
   "cell_type": "code",
   "execution_count": 3,
   "id": "5ed03bd4-616a-4471-a4bd-2da60737e455",
   "metadata": {},
   "outputs": [
    {
     "data": {
      "text/plain": [
       "Milk     20\n",
       "Juice    15\n",
       "Soda     12\n",
       "Water    25\n",
       "dtype: int64"
      ]
     },
     "execution_count": 3,
     "metadata": {},
     "output_type": "execute_result"
    }
   ],
   "source": [
    "# From a List with Custom Index\n",
    "price = [20, 15, 12, 25]\n",
    "drinks = [\"Milk\", \"Juice\", \"Soda\", \"Water\"]\n",
    "s = pd.Series(price, index=drinks)\n",
    "s"
   ]
  },
  {
   "cell_type": "code",
   "execution_count": 4,
   "id": "29eefdd6-962b-4063-be56-0d8605bdea33",
   "metadata": {},
   "outputs": [
    {
     "data": {
      "text/plain": [
       "Milk     20\n",
       "Juice    15\n",
       "Soda     12\n",
       "Water    25\n",
       "dtype: int64"
      ]
     },
     "execution_count": 4,
     "metadata": {},
     "output_type": "execute_result"
    }
   ],
   "source": [
    "# From a Tuple\n",
    "price = (20, 15, 12, 25)\n",
    "s = pd.Series(price, index=drinks)\n",
    "s"
   ]
  },
  {
   "cell_type": "code",
   "execution_count": 5,
   "id": "bfb1876b-17bf-4a73-b2ed-97d77321cabb",
   "metadata": {},
   "outputs": [
    {
     "data": {
      "text/plain": [
       "Milk     20\n",
       "Juice    15\n",
       "Soda     12\n",
       "Water    25\n",
       "dtype: int64"
      ]
     },
     "execution_count": 5,
     "metadata": {},
     "output_type": "execute_result"
    }
   ],
   "source": [
    "# From a NumPy Array\n",
    "import numpy as np\n",
    "price = (20, 15, 12, 25)\n",
    "nparr = np.array(price)\n",
    "s = pd.Series(nparr, index=drinks)\n",
    "s"
   ]
  },
  {
   "cell_type": "code",
   "execution_count": 6,
   "id": "331c3d94-b96c-4417-be7f-a8f3f346cf57",
   "metadata": {},
   "outputs": [
    {
     "data": {
      "text/plain": [
       "Milk     20\n",
       "Juice    15\n",
       "Soda     12\n",
       "Water    25\n",
       "dtype: int64"
      ]
     },
     "execution_count": 6,
     "metadata": {},
     "output_type": "execute_result"
    }
   ],
   "source": [
    "# From a Dictionary\n",
    "drinks = {\n",
    "    \"Milk\":20,\n",
    "    \"Juice\":15,\n",
    "    \"Soda\":12,\n",
    "    \"Water\":25\n",
    "}\n",
    "s = pd.Series(drinks)\n",
    "s"
   ]
  },
  {
   "cell_type": "code",
   "execution_count": 7,
   "id": "d7dc1571-52b8-4571-85f0-07a1586edda2",
   "metadata": {},
   "outputs": [
    {
     "data": {
      "text/plain": [
       "Milk     20\n",
       "Juice    15\n",
       "Soda     12\n",
       "Water    25\n",
       "dtype: int64"
      ]
     },
     "execution_count": 7,
     "metadata": {},
     "output_type": "execute_result"
    }
   ],
   "source": [
    "# From a Dictionary with Custom Index\n",
    "drinks = {\n",
    "    \"Milk\":20,\n",
    "    \"Juice\":15,\n",
    "    \"Soda\":12,\n",
    "    \"Water\":25\n",
    "}\n",
    "# s = pd.Series(drinks, index=[\"M\",\"J\",\"S\",\"W\"]) # \n",
    "\n",
    "# What happens here?\n",
    "# \"M\" is not a key in drinks, so → NaN\n",
    "# \"J\" → also not found → NaN\n",
    "# \"S\" → NaN\n",
    "# \"W\" → NaN\n",
    "\n",
    "s = pd.Series(drinks, index=[\"Milk\", \"Juice\", \"Soda\", \"Water\"])\n",
    "s"
   ]
  },
  {
   "cell_type": "code",
   "execution_count": 8,
   "id": "8db081db-402a-47a9-b54a-adb14d834258",
   "metadata": {},
   "outputs": [
    {
     "data": {
      "text/plain": [
       "a    99\n",
       "b    99\n",
       "c    99\n",
       "dtype: int64"
      ]
     },
     "execution_count": 8,
     "metadata": {},
     "output_type": "execute_result"
    }
   ],
   "source": [
    "#  From a Scalar Value\n",
    "s = pd.Series(99, index=['a', 'b', 'c'])\n",
    "s"
   ]
  },
  {
   "cell_type": "code",
   "execution_count": 9,
   "id": "505d97e6-ca57-44a0-9166-9e52c5c44dec",
   "metadata": {},
   "outputs": [
    {
     "data": {
      "text/plain": [
       "0       10\n",
       "1    Hello\n",
       "2     3.14\n",
       "3     True\n",
       "dtype: object"
      ]
     },
     "execution_count": 9,
     "metadata": {},
     "output_type": "execute_result"
    }
   ],
   "source": [
    "# From a List of Mixed Data Types\n",
    "data = [10, 'Hello', 3.14, True]\n",
    "s = pd.Series(data)\n",
    "s"
   ]
  },
  {
   "cell_type": "code",
   "execution_count": 10,
   "id": "239ba547-eb31-4b52-9371-ac601d08b0f9",
   "metadata": {},
   "outputs": [
    {
     "data": {
      "text/plain": [
       "0     True\n",
       "1    False\n",
       "2     True\n",
       "dtype: bool"
      ]
     },
     "execution_count": 10,
     "metadata": {},
     "output_type": "execute_result"
    }
   ],
   "source": [
    "# From a List of Booleans\n",
    "data = [True, False, True]\n",
    "s = pd.Series(data)\n",
    "s"
   ]
  },
  {
   "cell_type": "markdown",
   "id": "3f92cf26-8fd7-4927-ad47-d1297da6fd98",
   "metadata": {},
   "source": [
    "## Series Methods (Tools to Play with Series)\n",
    "Let’s use this basic Series as an example:"
   ]
  },
  {
   "cell_type": "code",
   "execution_count": 11,
   "id": "43aa9925-9003-44fa-94cc-4dc1e4e5b2d4",
   "metadata": {},
   "outputs": [],
   "source": [
    "s = pd.Series([10, 20, 30, 40, 50], index=['a', 'b', 'c', 'd', 'e'])"
   ]
  },
  {
   "cell_type": "code",
   "execution_count": 12,
   "id": "93276fd1-fd3a-40dd-bbed-435ac8715b31",
   "metadata": {},
   "outputs": [
    {
     "name": "stdout",
     "output_type": "stream",
     "text": [
      "a    10\n",
      "b    20\n",
      "c    30\n",
      "dtype: int64\n",
      "c    30\n",
      "d    40\n",
      "e    50\n",
      "dtype: int64\n"
     ]
    }
   ],
   "source": [
    "# 🔍 1. head() and tail()\n",
    "# s.head(n): First n items (default is 5)\n",
    "print(s.head(3))\n",
    "# s.tail(n): Last n items\n",
    "print(s.tail(3))"
   ]
  },
  {
   "cell_type": "code",
   "execution_count": 13,
   "id": "175fd340-3a2a-42d9-bbd2-6ce4db563c7a",
   "metadata": {},
   "outputs": [
    {
     "name": "stdout",
     "output_type": "stream",
     "text": [
      "5\n",
      "(5,)\n",
      "1\n"
     ]
    }
   ],
   "source": [
    "# 📏 2. size, shape, ndim\n",
    "# s.size – Number of elements\n",
    "print(s.size)\n",
    "\n",
    "# s.shape – Tuple with number of elements\n",
    "print(s.shape)\n",
    "\n",
    "# s.ndim – Number of dimensions (always 1 for Series)\n",
    "print(s.ndim)"
   ]
  },
  {
   "cell_type": "code",
   "execution_count": 40,
   "id": "616dff65-b079-4937-af62-832b4db63d07",
   "metadata": {},
   "outputs": [
    {
     "name": "stdout",
     "output_type": "stream",
     "text": [
      "Sum: 76\n",
      "Mean: 12.666666666666666\n",
      "Max: 25\n",
      "Min: 5\n",
      "Std: 7.5542482529148245\n",
      "Median: 10.5\n"
     ]
    }
   ],
   "source": [
    "# 📊 3. sum(), mean(), max(), min(), std(), median()\n",
    "# Used for mathematical analysis:\n",
    "\n",
    "print(\"Sum:\", s.sum())\n",
    "\n",
    "# 🧠 What is Mean?\n",
    "# The mean (or average) is:\n",
    "# ✨ Total of all numbers ➗ Number of items\n",
    "print(\"Mean:\", s.mean())\n",
    "\n",
    "print(\"Max:\", s.max())\n",
    "print(\"Min:\", s.min())\n",
    "\n",
    "# 📘 What is Standard Deviation?\n",
    "# Standard Deviation tells us:\n",
    "# \"How spread out the numbers are from the mean.\"\n",
    "# - If the numbers are very close to the mean → small std.\n",
    "# - If the numbers are far from the mean → big std.\n",
    "\n",
    "# Mean is:\n",
    "# (10 + 20 + 30 + 40 + 50) ÷ 5 = 30\n",
    "# | Value | Distance from Mean | Squared |\n",
    "# | ----- | ------------------ | ------- |\n",
    "# | 10    | 10 - 30 = -20      | 400     |\n",
    "# | 20    | 20 - 30 = -10      | 100     |\n",
    "# | 30    | 30 - 30 = 0        | 0       |\n",
    "# | 40    | 40 - 30 = 10       | 100     |\n",
    "# | 50    | 50 - 30 = 20       | 400     |\n",
    "print(\"Std:\", s.std())\n",
    "\n",
    "# 📘 What is Median?\n",
    "# The median is the middle number when the values are arranged in order.\n",
    "#  - If there’s an odd number of values → it’s the middle value.\n",
    "#  - If there’s an even number → it's the average of the two middle values.\n",
    "print(\"Median:\", s.median())"
   ]
  },
  {
   "cell_type": "markdown",
   "id": "4705ebb9-97d6-4819-ac4f-d4b58ea8db84",
   "metadata": {},
   "source": [
    "# 📘 What is Mode?\n",
    "The **mode** is the value that appears the **most number of times** in a list or Series.\n",
    "\n",
    "---\n",
    "\n",
    "### ✅ How it works:\n",
    "- If **one value** appears the most → that's the mode.\n",
    "- If **multiple values** appear the most and equally → all of them are returned.\n",
    "- If **no value repeats** → all values may be considered modes.\n",
    "\n",
    "---"
   ]
  },
  {
   "cell_type": "code",
   "execution_count": 15,
   "id": "80962096-559c-4665-b712-5ae3d8e5a84f",
   "metadata": {},
   "outputs": [
    {
     "data": {
      "text/plain": [
       "3     3\n",
       "2     2\n",
       "1     1\n",
       "8     1\n",
       "11    1\n",
       "4     1\n",
       "Name: count, dtype: int64"
      ]
     },
     "execution_count": 15,
     "metadata": {},
     "output_type": "execute_result"
    }
   ],
   "source": [
    "# 🔢 4. value_counts()\n",
    "# Counts how many times each value appears:\n",
    "s = pd.Series([1, 2, 2, 8, 11, 3, 3, 3, 4])\n",
    "s.value_counts()"
   ]
  },
  {
   "cell_type": "code",
   "execution_count": 16,
   "id": "9abe57bf-cc17-4057-80a2-8e5c6ff17a44",
   "metadata": {},
   "outputs": [
    {
     "name": "stdout",
     "output_type": "stream",
     "text": [
      "[ 1  2  8 11  3  4]\n",
      "6\n"
     ]
    }
   ],
   "source": [
    "# ❓ 5. unique() and nunique()\n",
    "# s.unique() – Gives all unique values\n",
    "print(s.unique())\n",
    "# s.nunique() – Counts unique values\n",
    "print(s.nunique())"
   ]
  },
  {
   "cell_type": "code",
   "execution_count": 17,
   "id": "36931083-d6cb-43b7-8f59-c0d48c3b84b7",
   "metadata": {},
   "outputs": [
    {
     "name": "stdout",
     "output_type": "stream",
     "text": [
      "0     1\n",
      "1     2\n",
      "2     2\n",
      "5     3\n",
      "7     3\n",
      "6     3\n",
      "8     4\n",
      "3     8\n",
      "4    11\n",
      "dtype: int64\n",
      "0     1\n",
      "1     2\n",
      "2     2\n",
      "3     8\n",
      "4    11\n",
      "5     3\n",
      "6     3\n",
      "7     3\n",
      "8     4\n",
      "dtype: int64\n"
     ]
    }
   ],
   "source": [
    "# 🎭 6. sort_values() and sort_index()\n",
    "# s.sort_values() – Sort by values\n",
    "print(s.sort_values())\n",
    "# s.sort_index() – Sort by index labels\n",
    "print(s.sort_index())"
   ]
  },
  {
   "cell_type": "code",
   "execution_count": 18,
   "id": "c5618537-e836-4289-b50e-919cf6bfd5d9",
   "metadata": {},
   "outputs": [
    {
     "name": "stdout",
     "output_type": "stream",
     "text": [
      "0    1\n",
      "1    2\n",
      "2    2\n",
      "3    8\n",
      "5    3\n",
      "6    3\n",
      "7    3\n",
      "8    4\n",
      "dtype: int64\n"
     ]
    }
   ],
   "source": [
    "# 🧹 7. drop()\n",
    "# Removes item(s) by index label:\n",
    "print(s.drop(4)) # # Removes the element with index '4'"
   ]
  },
  {
   "cell_type": "code",
   "execution_count": 19,
   "id": "d85898f1-2bd7-4db8-a900-2b587a4556d1",
   "metadata": {},
   "outputs": [
    {
     "name": "stdout",
     "output_type": "stream",
     "text": [
      "0    False\n",
      "1     True\n",
      "2    False\n",
      "dtype: bool\n",
      "0     True\n",
      "1    False\n",
      "2     True\n",
      "dtype: bool\n"
     ]
    }
   ],
   "source": [
    "# 🧼 8. isnull() and notnull()\n",
    "# Checks for missing values:\n",
    "s = pd.Series([1, None, 3])\n",
    "print(s.isnull())     # True for missing values\n",
    "print(s.notnull())    # False for missing values"
   ]
  },
  {
   "cell_type": "code",
   "execution_count": 20,
   "id": "4e4d5457-9585-4be7-b1bc-c43f3d7008fe",
   "metadata": {},
   "outputs": [],
   "source": [
    "# 🧪 9. apply() – Apply custom function\n",
    "s = pd.Series([1, 2, 3])\n",
    "# s.apply(lambda x: x**2)  # Squares each element\n",
    "# s.apply(lambda x:x**3) # Cube each element"
   ]
  },
  {
   "cell_type": "code",
   "execution_count": 21,
   "id": "c04a628d-57b1-4e95-b79c-9d41050b0c7e",
   "metadata": {},
   "outputs": [
    {
     "data": {
      "text/plain": [
       "0    1.0\n",
       "1    2.0\n",
       "2    3.0\n",
       "dtype: float64"
      ]
     },
     "execution_count": 21,
     "metadata": {},
     "output_type": "execute_result"
    }
   ],
   "source": [
    "# 📜 10. astype() – Change data type\n",
    "s = pd.Series([1, 2, 3])\n",
    "s.astype(float)"
   ]
  },
  {
   "cell_type": "code",
   "execution_count": 22,
   "id": "0cd0bf35-e83d-4e52-bf4b-dc8088f18a59",
   "metadata": {},
   "outputs": [
    {
     "name": "stdout",
     "output_type": "stream",
     "text": [
      "0            Excellent\n",
      "1                 Good\n",
      "2            Excellent\n",
      "3              Average\n",
      "4                 Good\n",
      "5    Needs Improvement\n",
      "dtype: object\n"
     ]
    }
   ],
   "source": [
    "# 🔗 11. map() – Element-wise mapping\n",
    "grades = pd.Series(['A', 'B', 'A', 'C', 'B', 'D'])\n",
    "\n",
    "# Mapping dictionary: Grade ➡️ Comment\n",
    "grade_remark_map = {\n",
    "    'A': 'Excellent',\n",
    "    'B': 'Good',\n",
    "    'C': 'Average',\n",
    "    'D': 'Needs Improvement'\n",
    "}\n",
    "\n",
    "remarks = grades.map(grade_remark_map)\n",
    "print(remarks)"
   ]
  },
  {
   "cell_type": "code",
   "execution_count": 23,
   "id": "092e282e-1a51-4994-979e-d979711c951f",
   "metadata": {},
   "outputs": [
    {
     "data": {
      "text/plain": [
       "count    3.0\n",
       "mean     2.0\n",
       "std      1.0\n",
       "min      1.0\n",
       "25%      1.5\n",
       "50%      2.0\n",
       "75%      2.5\n",
       "max      3.0\n",
       "dtype: float64"
      ]
     },
     "execution_count": 23,
     "metadata": {},
     "output_type": "execute_result"
    }
   ],
   "source": [
    "# 📋 12. describe()\n",
    "# The .describe() method in Pandas gives you a summary of important statistics in a numeric Series.\n",
    "# | Statistic | What it Means                                       |\n",
    "# | --------- | --------------------------------------------------- |\n",
    "# | count     | How many numbers are there                          |\n",
    "# | mean      | The average (sum ÷ total numbers)                   |\n",
    "# | std       | How spread out the numbers are (standard deviation) |\n",
    "# | min       | The smallest number                                 |\n",
    "# | 25%       | 25th percentile (lower quarter)                     |\n",
    "# | 50%       | 50th percentile = median (middle value)             |\n",
    "# | 75%       | 75th percentile (upper quarter)                     |\n",
    "# | max       | The largest number                                  |\n",
    "s.describe()"
   ]
  },
  {
   "cell_type": "code",
   "execution_count": 24,
   "id": "61c256f0-c6ac-4f12-b34e-68af8e17e19e",
   "metadata": {},
   "outputs": [
    {
     "data": {
      "text/plain": [
       "0    1\n",
       "1    2\n",
       "2    3\n",
       "dtype: int64"
      ]
     },
     "execution_count": 24,
     "metadata": {},
     "output_type": "execute_result"
    }
   ],
   "source": [
    "# 🪞 13. copy()\n",
    "# Makes a copy of the Series (useful to avoid changing original):\n",
    "new_s = s.copy()\n",
    "new_s"
   ]
  },
  {
   "cell_type": "code",
   "execution_count": 25,
   "id": "21f56422-1837-4513-872c-762447d9ec64",
   "metadata": {},
   "outputs": [
    {
     "data": {
      "text/plain": [
       "Student\n",
       "0    1\n",
       "1    2\n",
       "2    3\n",
       "Name: Marks, dtype: int64"
      ]
     },
     "execution_count": 25,
     "metadata": {},
     "output_type": "execute_result"
    }
   ],
   "source": [
    "# 🧠 BONUS: s.name and s.index.name\n",
    "# Set a name for the Series or its index:\n",
    "s.name = \"Marks\"\n",
    "s.index.name = \"Student\"\n",
    "s"
   ]
  },
  {
   "cell_type": "markdown",
   "id": "d54e4582-60fb-4224-ab4f-5273a5c5f233",
   "metadata": {},
   "source": [
    "## ➕ Series Math Methods\n",
    "💡 You can do math operations directly on a Series!"
   ]
  },
  {
   "cell_type": "code",
   "execution_count": 26,
   "id": "53711f71-6cb3-4be6-9556-beda4705303a",
   "metadata": {},
   "outputs": [],
   "source": [
    "# 🔹 1. Basic Arithmetic Operations\n",
    "\n",
    "# These operations are done element-wise:\n",
    "s = pd.Series([10, 20, 30, 40])\n",
    "# | Operation | Syntax   | Output                    |\n",
    "# | --------- | -------- | ------------------------- |\n",
    "# | Addition  | `s + 5`  | `[15, 25, 35, 45]`        |\n",
    "# | Subtract  | `s - 2`  | `[8, 18, 28, 38]`         |\n",
    "# | Multiply  | `s * 2`  | `[20, 40, 60, 80]`        |\n",
    "# | Divide    | `s / 2`  | `[5.0, 10.0, 15.0, 20.0]` |\n",
    "# | Power     | `s ** 2` | `[100, 400, 900, 1600]`   |\n",
    "# | Modulo    | `s % 3`  | `[1, 2, 0, 1]`            |\n",
    "\n",
    "# print(s+2)"
   ]
  },
  {
   "cell_type": "code",
   "execution_count": 27,
   "id": "c9085f16-d7b0-4442-9d86-dc61893d1e11",
   "metadata": {},
   "outputs": [
    {
     "name": "stdout",
     "output_type": "stream",
     "text": [
      "0    11\n",
      "1    22\n",
      "2    33\n",
      "dtype: int64\n",
      "0    10\n",
      "1    40\n",
      "2    90\n",
      "dtype: int64\n"
     ]
    }
   ],
   "source": [
    "# 🔹 2. Math Between Two Series\n",
    "s1 = pd.Series([10, 20, 30])\n",
    "s2 = pd.Series([1, 2, 3])\n",
    "print(s1 + s2)\n",
    "print(s1 * s2)\n",
    "# 📌 Pandas aligns elements by index."
   ]
  },
  {
   "cell_type": "code",
   "execution_count": 28,
   "id": "63d4981e-7eaa-4907-b523-64acda867393",
   "metadata": {},
   "outputs": [
    {
     "name": "stdout",
     "output_type": "stream",
     "text": [
      "a     NaN\n",
      "b    21.0\n",
      "c     NaN\n",
      "dtype: float64\n"
     ]
    }
   ],
   "source": [
    "# 🔹 3. Math with Different Indexes\n",
    "s1 = pd.Series([10, 20], index=['a', 'b'])\n",
    "s2 = pd.Series([1, 2], index=['b', 'c'])\n",
    "\n",
    "print(s1 + s2)"
   ]
  },
  {
   "cell_type": "code",
   "execution_count": 29,
   "id": "c5a7e614-1ed4-421e-a6aa-ade045d2afa6",
   "metadata": {},
   "outputs": [
    {
     "data": {
      "text/plain": [
       "0    11\n",
       "1    22\n",
       "2    33\n",
       "dtype: int64"
      ]
     },
     "execution_count": 29,
     "metadata": {},
     "output_type": "execute_result"
    }
   ],
   "source": [
    "# 🔹 4. Built-in Series Math Methods\n",
    "# | Method  | Example      | Description                 |\n",
    "# | ------- | ------------ | --------------------------- |\n",
    "# | `add()` | `s1.add(s2)` | Element-wise addition       |\n",
    "# | `sub()` | `s1.sub(s2)` | Element-wise subtraction    |\n",
    "# | `mul()` | `s1.mul(s2)` | Element-wise multiplication |\n",
    "# | `div()` | `s1.div(s2)` | Element-wise division       |\n",
    "# | `pow()` | `s1.pow(s2)` | Power: `s1` raised to `s2`  |\n",
    "# | `mod()` | `s1.mod(s2)` | Remainder of division       |\n",
    "s1 = pd.Series([10, 20, 30])\n",
    "s2 = pd.Series([1, 2, 3])\n",
    "\n",
    "s1.add(s2)  # Same as s1 + s2\n"
   ]
  },
  {
   "cell_type": "code",
   "execution_count": 30,
   "id": "134ae1c3-52a7-4862-ae41-83b2631ccebd",
   "metadata": {},
   "outputs": [
    {
     "data": {
      "text/plain": [
       "2    30\n",
       "3    40\n",
       "dtype: int64"
      ]
     },
     "execution_count": 30,
     "metadata": {},
     "output_type": "execute_result"
    }
   ],
   "source": [
    "# 🔹 5. Math with Conditional Filtering\n",
    "s = pd.Series([5, 10, 15, 20])\n",
    "\n",
    "# Multiply only values > 10\n",
    "s[s > 10] * 2"
   ]
  },
  {
   "cell_type": "markdown",
   "id": "c7270c5e-1d19-4415-9e9d-8f4f2e502956",
   "metadata": {},
   "source": [
    "## ✅ How to Keep Full Series and Modify Only Matching Values\n",
    "\n",
    "Sometimes you want to keep the **original Series** but **only change values** that meet a certain condition.\n",
    "\n",
    "Pandas provides tools like:\n",
    "- `.where()` ✅ (Recommended)\n",
    "- `.mask()` ❗ (Opposite of `.where()`)\n",
    "- Direct assignment with conditions\n",
    "\n",
    "---\n",
    "\n",
    "### 🧪 What does `.where()` do?\n",
    "\n",
    "```python\n",
    "s.where(condition, other_value)\n"
   ]
  },
  {
   "cell_type": "code",
   "execution_count": 31,
   "id": "817a12e7-18f2-43c1-ae48-59034b2c4d66",
   "metadata": {},
   "outputs": [
    {
     "name": "stdout",
     "output_type": "stream",
     "text": [
      "0     5\n",
      "1    10\n",
      "2    30\n",
      "3    40\n",
      "dtype: int64\n"
     ]
    }
   ],
   "source": [
    "\n",
    "s = pd.Series([5, 10, 15, 20])\n",
    "s = s.where(s <= 10, s * 2)\n",
    "print(s)\n"
   ]
  },
  {
   "cell_type": "markdown",
   "id": "4dc02484-aa7c-421a-80b5-6ff1d52f83ad",
   "metadata": {},
   "source": [
    "## ❌ How to Replace Only Matching Values in a Series: Using `.mask()`\n",
    "\n",
    "Pandas provides the `.mask()` method, which is the **opposite** of `.where()`.\n",
    "\n",
    "---\n",
    "\n",
    "### ❓ What does `.mask()` do?\n",
    "\n",
    "The syntax is:\n",
    "\n",
    "```python\n",
    "s.mask(condition, other_value)\n",
    "```\n",
    "\n",
    "**Meaning**:\n",
    "\n",
    "- If the condition is True, replace with other_value\n",
    "\n",
    "- If the condition is False, keep the original value\n",
    "\n",
    "\n"
   ]
  },
  {
   "cell_type": "code",
   "execution_count": 32,
   "id": "8a2970ea-8b52-4b37-9181-11e1831106df",
   "metadata": {},
   "outputs": [
    {
     "name": "stdout",
     "output_type": "stream",
     "text": [
      "Original Series:\n",
      " 0     5\n",
      "1    10\n",
      "2    15\n",
      "3    20\n",
      "4    25\n",
      "dtype: int64\n",
      "\n",
      "Modified Series using mask():\n",
      " 0     5\n",
      "1    10\n",
      "2     0\n",
      "3     0\n",
      "4     0\n",
      "dtype: int64\n"
     ]
    }
   ],
   "source": [
    "# Original Series\n",
    "s = pd.Series([5, 10, 15, 20, 25])\n",
    "print(\"Original Series:\\n\", s)\n",
    "\n",
    "# Replace values >= 15 with 0 using mask()\n",
    "masked_s = s.mask(s >= 15, 0)\n",
    "print(\"\\nModified Series using mask():\\n\", masked_s)"
   ]
  },
  {
   "cell_type": "markdown",
   "id": "3175efad-e67c-4053-9493-ade254e694f1",
   "metadata": {},
   "source": [
    "## 🧠 Series with Python Functionalities\n",
    "\n",
    "A Pandas Series behaves like a combination of a Python **list** and a **dictionary** — so you can use many built-in Python features such as:\n",
    "\n",
    "- `for` loops\n",
    "- `if` conditions\n",
    "- Built-in functions like `len()`, `sorted()`, `max()`, `min()`\n",
    "\n",
    "---\n"
   ]
  },
  {
   "cell_type": "code",
   "execution_count": 33,
   "id": "7bfc3742-862b-4512-88e9-51d97aa81a90",
   "metadata": {},
   "outputs": [
    {
     "name": "stdout",
     "output_type": "stream",
     "text": [
      "index: 0, Value: 5\n",
      "index: 1, Value: 10\n",
      "index: 2, Value: 15\n",
      "index: 3, Value: 20\n"
     ]
    }
   ],
   "source": [
    "# 🌀 1. Using `for` loop\n",
    "\n",
    "# You can loop through a Series using `for` like a list:\n",
    "\n",
    "\n",
    "s = pd.Series([5, 10, 15, 20])\n",
    "\n",
    "# Loop through elements\n",
    "# You can also loop through both index and value using .items():\n",
    "for index, value in s.items():\n",
    "    print(f\"index: {index}, Value: {value}\")"
   ]
  },
  {
   "cell_type": "code",
   "execution_count": 34,
   "id": "2c040aa8-4377-4c38-86d3-e0fac296ec85",
   "metadata": {},
   "outputs": [
    {
     "name": "stdout",
     "output_type": "stream",
     "text": [
      "10 is in the Series\n",
      "15\n",
      "20\n"
     ]
    }
   ],
   "source": [
    "# 🔎 2. Using if condition\n",
    "# Check if 10 is in the Series\n",
    "if 10 in s.values:\n",
    "    print(\"10 is in the Series\")\n",
    "else:\n",
    "    print(\"10 is not in the Series\")\n",
    "\n",
    "# Print only values greater than 10\n",
    "for value in s:\n",
    "    if value > 10:\n",
    "        print(value)"
   ]
  },
  {
   "cell_type": "code",
   "execution_count": 35,
   "id": "ab534889-d9d1-424b-98ed-51a4b0be6982",
   "metadata": {},
   "outputs": [
    {
     "name": "stdout",
     "output_type": "stream",
     "text": [
      "Length of Series: 4\n",
      "Sorted values: [5, 10, 15, 20]\n",
      "Maximum value: 20\n",
      "Minimum value: 5\n",
      "Sum of values: 50\n"
     ]
    }
   ],
   "source": [
    "# 🔢 3. Using Built-in Python Functions\n",
    "# You can use several built-in functions directly on Series:\n",
    "print(\"Length of Series:\", len(s))       # Number of elements\n",
    "print(\"Sorted values:\", sorted(s))       # Sorted list\n",
    "print(\"Maximum value:\", max(s))          # Max value\n",
    "print(\"Minimum value:\", min(s))          # Min value\n",
    "print(\"Sum of values:\", sum(s))          # Sum"
   ]
  },
  {
   "cell_type": "code",
   "execution_count": 36,
   "id": "57fc1243-fad8-46b6-aa12-50d35ddee63d",
   "metadata": {},
   "outputs": [
    {
     "name": "stdout",
     "output_type": "stream",
     "text": [
      "0     25\n",
      "1    100\n",
      "2    225\n",
      "3    400\n",
      "dtype: int64\n"
     ]
    }
   ],
   "source": [
    "# 🧪 4. Use in Custom Python Functions\n",
    "# You can pass Series to your own Python functions:\n",
    "def square_elements(series):\n",
    "    return series ** 2\n",
    "\n",
    "print(square_elements(s))\n"
   ]
  },
  {
   "cell_type": "markdown",
   "id": "42823be5-90bb-4153-966f-83e61e2b81a0",
   "metadata": {},
   "source": [
    "## ✅ Boolean Indexing on Series\n",
    "\n",
    "**Boolean Indexing** means filtering or selecting items in a Series using **True/False conditions**.\n",
    "\n",
    "It’s like saying:  \n",
    "👉 “Give me only the values that meet a condition!”\n",
    "\n",
    "---\n"
   ]
  },
  {
   "cell_type": "code",
   "execution_count": 37,
   "id": "9fa959a5-3684-4ff8-8a89-417855c04031",
   "metadata": {},
   "outputs": [
    {
     "name": "stdout",
     "output_type": "stream",
     "text": [
      "Original Series:\n",
      " 0     5\n",
      "1    12\n",
      "2    18\n",
      "3     7\n",
      "4    25\n",
      "5     9\n",
      "dtype: int64\n",
      "Boolean Result:\n",
      " 0    False\n",
      "1     True\n",
      "2     True\n",
      "3    False\n",
      "4     True\n",
      "5    False\n",
      "dtype: bool\n"
     ]
    }
   ],
   "source": [
    "s = pd.Series([5, 12, 18, 7, 25, 9])\n",
    "print(\"Original Series:\\n\", s)\n",
    "# Check which values are greater than 10\n",
    "condition = s > 10\n",
    "print(\"Boolean Result:\\n\", condition)"
   ]
  },
  {
   "cell_type": "code",
   "execution_count": 38,
   "id": "806a866f-2fd7-41e5-86fc-10c3191fa658",
   "metadata": {},
   "outputs": [
    {
     "name": "stdout",
     "output_type": "stream",
     "text": [
      "Filtered Series:\n",
      " 1    12\n",
      "2    18\n",
      "4    25\n",
      "dtype: int64\n"
     ]
    }
   ],
   "source": [
    "# ✅ Use Boolean Index to Filter Values\n",
    "# Apply the condition to get filtered values\n",
    "filtered = s[s > 10]\n",
    "print(\"Filtered Series:\\n\", filtered)"
   ]
  },
  {
   "cell_type": "markdown",
   "id": "faa45709-c22d-45b7-95e2-67f7dda7735f",
   "metadata": {},
   "source": [
    "## 📌 Boolean Indexing = Smart Filtering\n",
    "It works just like filtering a list, but much more powerful because of Pandas' indexing.\n",
    "| Condition            | Meaning                            | Example           |\n",
    "| -------------------- | ---------------------------------- | ----------------- |\n",
    "| `s > 10`             | Greater than 10                    | `s[s > 10]`       |\n",
    "| `s == value`         | Equal to value                     | `s[s == 18]`      |\n",
    "| `s != value`         | Not equal to value                 | `s[s != 12]`      |\n",
    "| `s < 15`             | Less than 15                       | `s[s < 15]`       |\n",
    "| `(s > 5) & (s < 20)` | Between two values (AND condition) | `s[(s>5)&(s<20)]` |\n",
    "| `~(s > 10)`          | NOT greater than 10                | `s[~(s > 10)]`    |\n"
   ]
  },
  {
   "cell_type": "markdown",
   "id": "df0319e8-9897-4afa-9cc8-9ac3d2d90432",
   "metadata": {},
   "source": [
    "## 📊 Plotting Graphs on Series\n",
    "You can draw graphs using Series to make data **fun and visual** 🎨.\n",
    "\n",
    "Pandas has built-in support for plotting graphs if you have **matplotlib** installed.\n",
    "\n",
    "---\n",
    "### ⚙️ Step 1: Install matplotlib (if not already)\n",
    "\n",
    "```bash\n",
    "pip install matplotlib\n",
    "```"
   ]
  },
  {
   "cell_type": "code",
   "execution_count": 39,
   "id": "c1bf9515-9ec1-45b8-905d-11019374d674",
   "metadata": {},
   "outputs": [
    {
     "data": {
      "image/png": "[encoded data removed]",
      "text/plain": [
       "<Figure size 640x480 with 1 Axes>"
      ]
     },
     "metadata": {},
     "output_type": "display_data"
    }
   ],
   "source": [
    "import matplotlib.pyplot as plt\n",
    "\n",
    "# Create a Series of fruit sales\n",
    "sales = pd.Series([50, 80, 30, 90], index=['Apples', 'Bananas', 'Cherries', 'Dates'])\n",
    "\n",
    "# Plot the Series\n",
    "# sales.plot(kind='line', color='red', title='Fruit Sales')\n",
    "\n",
    "# # Show the graph\n",
    "# plt.ylabel(\"Quantity Sold\")\n",
    "# plt.xlabel(\"Fruits\")\n",
    "# plt.grid(True)\n",
    "# plt.show()\n",
    "\n",
    "sales.plot(kind='pie', autopct='%1.1f%%', title='Fruit Sales Share')\n",
    "plt.ylabel(\"\")  # Hide y-label in pie chart\n",
    "plt.show()\n"
   ]
  },
  {
   "cell_type": "code",
   "execution_count": null,
   "id": "cc324d38-f66b-4bd7-8431-37ea30ec7dc9",
   "metadata": {},
   "outputs": [],
   "source": []
  }
 ],
 "metadata": {
  "kernelspec": {
   "display_name": "Python 3 (ipykernel)",
   "language": "python",
   "name": "python3"
  },
  "language_info": {
   "codemirror_mode": {
    "name": "ipython",
    "version": 3
   },
   "file_extension": ".py",
   "mimetype": "text/x-python",
   "name": "python",
   "nbconvert_exporter": "python",
   "pygments_lexer": "ipython3",
   "version": "3.13.5"
  }
 },
 "nbformat": 4,
 "nbformat_minor": 5
}
