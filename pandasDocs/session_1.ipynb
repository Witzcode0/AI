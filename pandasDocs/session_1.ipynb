{
 "cells": [
  {
   "cell_type": "markdown",
   "id": "3e58c4e0-8333-496d-b96f-104f737d4fda",
   "metadata": {},
   "source": [
    "# Pandas Series – Session Outline\n",
    "\n",
    "In this session, we will cover the following topics:\n",
    "\n",
    "1. **What is Pandas?**  \n",
    "   - Introduction to the Pandas library and its importance in data analysis.\n",
    "\n",
    "2. **Introduction to Pandas Series**  \n",
    "   - Understanding Series as a one-dimensional data structure.\n",
    "   - How to create and access Series.\n",
    "\n",
    "3. **Series Methods**  \n",
    "   - Commonly used methods like `head()`, `tail()`, `unique()`, `value_counts()`, and more.\n",
    "\n",
    "4. **Series Math Methods**  \n",
    "   - Performing mathematical operations on Series: `sum()`, `mean()`, `max()`, `min()`, etc.\n",
    "\n",
    "5. **Series with Python Functionalities**  \n",
    "   - Using built-in Python functions with Series.\n",
    "   - Applying custom functions using `.apply()`.\n",
    "\n",
    "6. **Boolean Indexing on Series**  \n",
    "   - Filtering Series data using conditions.\n",
    "\n",
    "7. **Plotting Graphs on Series**  \n",
    "   - Visualizing Series data using Matplotlib and Pandas built-in plotting features.\n"
   ]
  },
  {
   "cell_type": "markdown",
   "id": "f7de958f-1117-4e68-9ec9-5294741acd15",
   "metadata": {},
   "source": [
    "## What is Pandas?\n",
    "\n",
    "- **Pandas** is a Python library used for working with data.  \n",
    "- It is built on top of **NumPy** and is mostly used for **data cleaning, analysis, and manipulation**.  \n",
    "- Think of Pandas as **Excel for Python – but much more powerful!**\n",
    "\n",
    "## Why was Pandas created?\n",
    "\n",
    "Before Pandas, handling large and messy datasets in Python was **hard and slow**.  \n",
    "Pandas was created to:\n",
    "\n",
    "- **Load data easily** from Excel, CSV, SQL, and other sources.  \n",
    "- **Organize data** into rows and columns (like tables).  \n",
    "- **Analyze data quickly** using built-in functions.  \n",
    "- **Handle missing or incorrect data** efficiently.\n",
    "\n",
    "## Key Features of Pandas\n",
    "\n",
    "- **Fast and Efficient** – Works on large datasets quickly.  \n",
    "- **Two Main Data Structures:**  \n",
    "  - **Series** – like a single column (1D).  \n",
    "  - **DataFrame** – like a table with rows & columns (2D).  \n",
    "- **Handles Missing Data** – You can fill, drop, or replace missing values.  \n",
    "- **Data Analysis** – Find sum, average, min, max, etc.  \n",
    "- **Powerful Indexing** – Access data by labels or conditions.  \n",
    "- **Data Cleaning** – Remove duplicates, fix data types, etc.  \n",
    "- **Data Visualization** – Works well with Matplotlib & Seaborn for charts.  \n",
    "- **Supports Many Data Formats** – CSV, Excel, JSON, SQL databases, etc.\n",
    "\n",
    "## Real-Life Example of Pandas\n",
    "\n",
    "Imagine you are a **teacher** and have student marks in an Excel file.\n",
    "\n",
    "With **Pandas**, you can:\n",
    "\n",
    "- **Read** that Excel file into Python.  \n",
    "- **Find average marks** of all students.  \n",
    "- **Sort students** by marks.  \n",
    "- **Find top 3 students.**  \n",
    "- **Draw a graph** of marks.\n"
   ]
  },
  {
   "cell_type": "code",
   "execution_count": 17,
   "id": "bada46df-166e-40af-8cb7-61863a07856c",
   "metadata": {},
   "outputs": [],
   "source": [
    "# !pip show pandas\n",
    "import numpy as np\n",
    "import pandas as pd"
   ]
  },
  {
   "cell_type": "code",
   "execution_count": 18,
   "id": "940093bb-0e7b-4459-9fb4-9a044117baa7",
   "metadata": {},
   "outputs": [
    {
     "data": {
      "text/plain": [
       "'2.3.1'"
      ]
     },
     "execution_count": 18,
     "metadata": {},
     "output_type": "execute_result"
    }
   ],
   "source": [
    "pandas_version = pd.__version__\n",
    "pandas_version"
   ]
  },
  {
   "cell_type": "markdown",
   "id": "f55522d0-ac23-4152-836f-ee21a286de3d",
   "metadata": {},
   "source": [
    "## What is a Pandas Series?\n",
    "- A **Series** is like a **single column of data** (1-dimensional).\n",
    "- It is **similar to a list or array**, but more powerful because it has **labels (indexes)**.\n",
    "- \n",
    "## Understanding Series as a One-Dimensional Data Structure\n",
    "Think of a **Series** like a single column in Excel.\n",
    "A Series has:\n",
    "- **Data** (the values).  \n",
    "- **Index** (like row numbers).\n",
    "\n",
    "## How to Create a Series?\n",
    "\n",
    "You can create a **Series** in many ways, such as:\n",
    "\n",
    "1. **From a Python list**\n",
    "2. **From a NumPy array**\n",
    "3. **From a dictionary**\n",
    "4. **Using scalar values**\n"
   ]
  },
  {
   "cell_type": "code",
   "execution_count": 19,
   "id": "46712374-565a-4683-94f9-ff0ee563c53f",
   "metadata": {},
   "outputs": [
    {
     "data": {
      "text/plain": [
       "a    5\n",
       "b    5\n",
       "c    5\n",
       "dtype: int64"
      ]
     },
     "execution_count": 19,
     "metadata": {},
     "output_type": "execute_result"
    }
   ],
   "source": [
    "# From a Python list\n",
    "marks = [89, 56, 81, 94, 98]\n",
    "s = pd.Series(marks)\n",
    "\n",
    "# From a NumPy array\n",
    "marks = np.array([89, 56, 81, 94, 98])\n",
    "\n",
    "# From a dictionary\n",
    "# You can create a Series from a Python dictionary where the keys become the index and values become the data.\n",
    "marks = {'Math': 90, 'Science': 85, 'English': 88}\n",
    "s = pd.Series(marks)\n",
    "\n",
    "# Using scalar values\n",
    "# You can create a Series using a single scalar value, but you must specify the index.\n",
    "s = pd.Series(5, index=['a', 'b', 'c'])\n",
    "s"
   ]
  },
  {
   "cell_type": "markdown",
   "id": "5a6de9a4-7d20-4fcd-b393-52cdf100dfb7",
   "metadata": {},
   "source": [
    "## How to Access Data in Series?\n",
    "### Using Index Number"
   ]
  },
  {
   "cell_type": "code",
   "execution_count": 20,
   "id": "d0092534-3c19-45c3-8e41-b5b2129182d3",
   "metadata": {},
   "outputs": [
    {
     "name": "stdout",
     "output_type": "stream",
     "text": [
      "85\n"
     ]
    },
    {
     "name": "stderr",
     "output_type": "stream",
     "text": [
      "C:\\Users\\brije\\AppData\\Local\\Temp\\ipykernel_8488\\2677022316.py:3: FutureWarning: Series.__getitem__ treating keys as positions is deprecated. In a future version, integer keys will always be treated as labels (consistent with DataFrame behavior). To access a value by position, use `ser.iloc[pos]`\n",
      "  print(s[0])\n"
     ]
    }
   ],
   "source": [
    "data = {'Amit': 85, 'Sara': 90, 'Ravi': 78}\n",
    "s = pd.Series(data)\n",
    "print(s[0])"
   ]
  },
  {
   "cell_type": "markdown",
   "id": "3beecf15-c238-47d3-b9ea-5a5e887dc4cf",
   "metadata": {},
   "source": [
    "### Using Label Name"
   ]
  },
  {
   "cell_type": "code",
   "execution_count": 21,
   "id": "12ffa06e-cbea-4ae8-ba62-171cae08ed2a",
   "metadata": {},
   "outputs": [
    {
     "data": {
      "text/plain": [
       "np.int64(85)"
      ]
     },
     "execution_count": 21,
     "metadata": {},
     "output_type": "execute_result"
    }
   ],
   "source": [
    "s[\"Amit\"]"
   ]
  },
  {
   "cell_type": "markdown",
   "id": "c050c1a6-87af-40d0-af0e-55ccdbfa5297",
   "metadata": {},
   "source": [
    "### Slicing (Like Python Lists)"
   ]
  },
  {
   "cell_type": "code",
   "execution_count": 22,
   "id": "a32fb54b-4c9b-48d3-90db-fe41b7ee61d4",
   "metadata": {},
   "outputs": [
    {
     "name": "stdout",
     "output_type": "stream",
     "text": [
      "Amit    85\n",
      "Sara    90\n",
      "dtype: int64\n"
     ]
    }
   ],
   "source": [
    "print(s[0:2])   # First two elements"
   ]
  },
  {
   "cell_type": "markdown",
   "id": "4890775c-27e1-4a66-98d2-aac69b720c2d",
   "metadata": {},
   "source": [
    "## Basic Information Methods\n",
    "These methods help you understand your data quickly:"
   ]
  },
  {
   "cell_type": "code",
   "execution_count": 38,
   "id": "6156fb03-26f0-407e-8877-dc0e3d16672e",
   "metadata": {},
   "outputs": [
    {
     "data": {
      "text/plain": [
       "0      10.0\n",
       "1      20.0\n",
       "2      30.0\n",
       "3      40.0\n",
       "4      50.0\n",
       "5      60.0\n",
       "6      70.0\n",
       "7      80.0\n",
       "8      90.0\n",
       "9     100.0\n",
       "10      NaN\n",
       "dtype: float64"
      ]
     },
     "execution_count": 38,
     "metadata": {},
     "output_type": "execute_result"
    }
   ],
   "source": [
    "s = pd.Series([10, 20, 30, 40, 50, 60, 70, 80, 90, 100, np.nan])\n",
    "s"
   ]
  },
  {
   "cell_type": "code",
   "execution_count": 39,
   "id": "4433c1b8-514b-4cbf-87a6-c3f3b06f7e09",
   "metadata": {},
   "outputs": [
    {
     "data": {
      "text/plain": [
       "0    10.0\n",
       "1    20.0\n",
       "2    30.0\n",
       "3    40.0\n",
       "4    50.0\n",
       "dtype: float64"
      ]
     },
     "execution_count": 39,
     "metadata": {},
     "output_type": "execute_result"
    }
   ],
   "source": [
    "# Shows the first 5 elements.\n",
    "s.head(5)"
   ]
  },
  {
   "cell_type": "code",
   "execution_count": 40,
   "id": "ee2b1432-ab3d-4c69-91fb-592097c1969c",
   "metadata": {},
   "outputs": [
    {
     "data": {
      "text/plain": [
       "6      70.0\n",
       "7      80.0\n",
       "8      90.0\n",
       "9     100.0\n",
       "10      NaN\n",
       "dtype: float64"
      ]
     },
     "execution_count": 40,
     "metadata": {},
     "output_type": "execute_result"
    }
   ],
   "source": [
    "# Shows the last 5 elements.\n",
    "s.tail(5)"
   ]
  },
  {
   "cell_type": "code",
   "execution_count": 41,
   "id": "ac235270-f4a9-47f1-9cad-53c02c8e3b3f",
   "metadata": {},
   "outputs": [
    {
     "data": {
      "text/plain": [
       "RangeIndex(start=0, stop=11, step=1)"
      ]
     },
     "execution_count": 41,
     "metadata": {},
     "output_type": "execute_result"
    }
   ],
   "source": [
    "# Shows the index values.\n",
    "s.index"
   ]
  },
  {
   "cell_type": "code",
   "execution_count": 42,
   "id": "01ca1264-4ccd-425e-b88d-06df04c38142",
   "metadata": {},
   "outputs": [
    {
     "data": {
      "text/plain": [
       "array([ 10.,  20.,  30.,  40.,  50.,  60.,  70.,  80.,  90., 100.,  nan])"
      ]
     },
     "execution_count": 42,
     "metadata": {},
     "output_type": "execute_result"
    }
   ],
   "source": [
    "# Shows the data values.\n",
    "s.values"
   ]
  },
  {
   "cell_type": "code",
   "execution_count": 43,
   "id": "27417837-22c8-4438-9699-9a45d11a6d6e",
   "metadata": {},
   "outputs": [
    {
     "data": {
      "text/plain": [
       "dtype('float64')"
      ]
     },
     "execution_count": 43,
     "metadata": {},
     "output_type": "execute_result"
    }
   ],
   "source": [
    "# Shows data type (e.g., int64, float64).\n",
    "s.dtype"
   ]
  },
  {
   "cell_type": "code",
   "execution_count": 44,
   "id": "89e4540d-8bf2-47e4-b4b5-a23f092344e4",
   "metadata": {},
   "outputs": [
    {
     "data": {
      "text/plain": [
       "11"
      ]
     },
     "execution_count": 44,
     "metadata": {},
     "output_type": "execute_result"
    }
   ],
   "source": [
    "# Number of elements.\n",
    "s.size"
   ]
  },
  {
   "cell_type": "code",
   "execution_count": 45,
   "id": "3e98a7c0-136b-448b-98f7-b9e49600e923",
   "metadata": {},
   "outputs": [
    {
     "data": {
      "text/plain": [
       "(11,)"
      ]
     },
     "execution_count": 45,
     "metadata": {},
     "output_type": "execute_result"
    }
   ],
   "source": [
    "# Shape (like (5,) for 5 elements).\n",
    "s.shape"
   ]
  },
  {
   "cell_type": "code",
   "execution_count": 46,
   "id": "07dc2d80-5fee-4a32-9964-d050680ebaf2",
   "metadata": {},
   "outputs": [
    {
     "data": {
      "text/plain": [
       "0     False\n",
       "1     False\n",
       "2     False\n",
       "3     False\n",
       "4     False\n",
       "5     False\n",
       "6     False\n",
       "7     False\n",
       "8     False\n",
       "9     False\n",
       "10     True\n",
       "dtype: bool"
      ]
     },
     "execution_count": 46,
     "metadata": {},
     "output_type": "execute_result"
    }
   ],
   "source": [
    "# Checks for missing values (True/False).\n",
    "s.isnull()"
   ]
  },
  {
   "cell_type": "code",
   "execution_count": 47,
   "id": "96cdf6ac-b64d-4c3c-aaf5-38d6c36a7bb4",
   "metadata": {},
   "outputs": [
    {
     "data": {
      "text/plain": [
       "0      True\n",
       "1      True\n",
       "2      True\n",
       "3      True\n",
       "4      True\n",
       "5      True\n",
       "6      True\n",
       "7      True\n",
       "8      True\n",
       "9      True\n",
       "10    False\n",
       "dtype: bool"
      ]
     },
     "execution_count": 47,
     "metadata": {},
     "output_type": "execute_result"
    }
   ],
   "source": [
    "# Opposite of isnull().\n",
    "s.notnull()"
   ]
  },
  {
   "cell_type": "markdown",
   "id": "34654522-ef8c-46f8-abd4-1ceeb53589dd",
   "metadata": {},
   "source": [
    "## Math & Stats Methods\n",
    "These methods calculate useful numbers:"
   ]
  },
  {
   "cell_type": "code",
   "execution_count": 48,
   "id": "fbec9655-62ef-46b8-ade3-bedc5c607ada",
   "metadata": {},
   "outputs": [
    {
     "data": {
      "text/plain": [
       "np.float64(550.0)"
      ]
     },
     "execution_count": 48,
     "metadata": {},
     "output_type": "execute_result"
    }
   ],
   "source": [
    "# Adds all values\n",
    "s.sum()"
   ]
  },
  {
   "cell_type": "code",
   "execution_count": 49,
   "id": "2fd885a0-e786-430b-85f5-bfbb0182f06e",
   "metadata": {},
   "outputs": [
    {
     "data": {
      "text/plain": [
       "np.float64(55.0)"
      ]
     },
     "execution_count": 49,
     "metadata": {},
     "output_type": "execute_result"
    }
   ],
   "source": [
    "# Average value\n",
    "s.mean()"
   ]
  },
  {
   "cell_type": "code",
   "execution_count": 51,
   "id": "a0e9ceb6-ec35-4197-b12e-f425bde56f18",
   "metadata": {},
   "outputs": [
    {
     "data": {
      "text/plain": [
       "np.float64(55.0)"
      ]
     },
     "execution_count": 51,
     "metadata": {},
     "output_type": "execute_result"
    }
   ],
   "source": [
    "# Middle value\n",
    "s.median()"
   ]
  },
  {
   "cell_type": "code",
   "execution_count": 52,
   "id": "b75bb211-33f1-4b3e-b261-5b83bcdad032",
   "metadata": {},
   "outputs": [
    {
     "data": {
      "text/plain": [
       "np.float64(100.0)"
      ]
     },
     "execution_count": 52,
     "metadata": {},
     "output_type": "execute_result"
    }
   ],
   "source": [
    "# Biggest number\n",
    "s.max()"
   ]
  },
  {
   "cell_type": "code",
   "execution_count": 53,
   "id": "b0ead170-3ba4-49ed-ba98-eaef857382f4",
   "metadata": {},
   "outputs": [
    {
     "data": {
      "text/plain": [
       "np.float64(10.0)"
      ]
     },
     "execution_count": 53,
     "metadata": {},
     "output_type": "execute_result"
    }
   ],
   "source": [
    "# Smallest number\n",
    "s.min()"
   ]
  },
  {
   "cell_type": "code",
   "execution_count": 54,
   "id": "25fd813f-2849-43cb-b5ec-106268b18039",
   "metadata": {},
   "outputs": [
    {
     "data": {
      "text/plain": [
       "np.float64(30.276503540974915)"
      ]
     },
     "execution_count": 54,
     "metadata": {},
     "output_type": "execute_result"
    }
   ],
   "source": [
    "# Standard deviation (spread of data)\n",
    "s.std()"
   ]
  },
  {
   "cell_type": "code",
   "execution_count": 55,
   "id": "666b8ee9-8316-432d-95f8-a77c8fb06242",
   "metadata": {},
   "outputs": [
    {
     "data": {
      "text/plain": [
       "np.int64(10)"
      ]
     },
     "execution_count": 55,
     "metadata": {},
     "output_type": "execute_result"
    }
   ],
   "source": [
    "# Counts non-null values.\n",
    "s.count()"
   ]
  },
  {
   "cell_type": "code",
   "execution_count": null,
   "id": "7646dac1-7506-4553-92e3-1b8fc8d85413",
   "metadata": {},
   "outputs": [],
   "source": []
  }
 ],
 "metadata": {
  "kernelspec": {
   "display_name": "Python 3 (ipykernel)",
   "language": "python",
   "name": "python3"
  },
  "language_info": {
   "codemirror_mode": {
    "name": "ipython",
    "version": 3
   },
   "file_extension": ".py",
   "mimetype": "text/x-python",
   "name": "python",
   "nbconvert_exporter": "python",
   "pygments_lexer": "ipython3",
   "version": "3.12.4"
  }
 },
 "nbformat": 4,
 "nbformat_minor": 5
}
