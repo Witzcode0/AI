{
 "cells": [
  {
   "cell_type": "code",
   "execution_count": 1,
   "id": "602a22da-40ae-4fbb-8985-04b53a3785fa",
   "metadata": {},
   "outputs": [],
   "source": [
    "import numpy as np\n",
    "import pandas as pd"
   ]
  },
  {
   "cell_type": "code",
   "execution_count": 2,
   "id": "07421c0c-1276-4ba5-a1b7-8f257ca74c2b",
   "metadata": {},
   "outputs": [
    {
     "data": {
      "text/html": [
       "<div>\n",
       "<style scoped>\n",
       "    .dataframe tbody tr th:only-of-type {\n",
       "        vertical-align: middle;\n",
       "    }\n",
       "\n",
       "    .dataframe tbody tr th {\n",
       "        vertical-align: top;\n",
       "    }\n",
       "\n",
       "    .dataframe thead th {\n",
       "        text-align: right;\n",
       "    }\n",
       "</style>\n",
       "<table border=\"1\" class=\"dataframe\">\n",
       "  <thead>\n",
       "    <tr style=\"text-align: right;\">\n",
       "      <th></th>\n",
       "      <th>date</th>\n",
       "      <th>sales</th>\n",
       "    </tr>\n",
       "  </thead>\n",
       "  <tbody>\n",
       "    <tr>\n",
       "      <th>0</th>\n",
       "      <td>2025-01-01</td>\n",
       "      <td>100</td>\n",
       "    </tr>\n",
       "    <tr>\n",
       "      <th>1</th>\n",
       "      <td>2025-01-02</td>\n",
       "      <td>120</td>\n",
       "    </tr>\n",
       "    <tr>\n",
       "      <th>2</th>\n",
       "      <td>2025-01-03</td>\n",
       "      <td>90</td>\n",
       "    </tr>\n",
       "    <tr>\n",
       "      <th>3</th>\n",
       "      <td>2025-01-04</td>\n",
       "      <td>150</td>\n",
       "    </tr>\n",
       "    <tr>\n",
       "      <th>4</th>\n",
       "      <td>2025-01-05</td>\n",
       "      <td>200</td>\n",
       "    </tr>\n",
       "    <tr>\n",
       "      <th>5</th>\n",
       "      <td>2025-01-06</td>\n",
       "      <td>130</td>\n",
       "    </tr>\n",
       "    <tr>\n",
       "      <th>6</th>\n",
       "      <td>2025-01-07</td>\n",
       "      <td>170</td>\n",
       "    </tr>\n",
       "    <tr>\n",
       "      <th>7</th>\n",
       "      <td>2025-01-08</td>\n",
       "      <td>180</td>\n",
       "    </tr>\n",
       "    <tr>\n",
       "      <th>8</th>\n",
       "      <td>2025-01-09</td>\n",
       "      <td>160</td>\n",
       "    </tr>\n",
       "    <tr>\n",
       "      <th>9</th>\n",
       "      <td>2025-01-10</td>\n",
       "      <td>190</td>\n",
       "    </tr>\n",
       "  </tbody>\n",
       "</table>\n",
       "</div>"
      ],
      "text/plain": [
       "        date  sales\n",
       "0 2025-01-01    100\n",
       "1 2025-01-02    120\n",
       "2 2025-01-03     90\n",
       "3 2025-01-04    150\n",
       "4 2025-01-05    200\n",
       "5 2025-01-06    130\n",
       "6 2025-01-07    170\n",
       "7 2025-01-08    180\n",
       "8 2025-01-09    160\n",
       "9 2025-01-10    190"
      ]
     },
     "execution_count": 2,
     "metadata": {},
     "output_type": "execute_result"
    }
   ],
   "source": [
    "# | Purpose         | Code (New) | Example Output                   |\n",
    "# |------------------|------------|----------------------------------|\n",
    "# | Daily            | 'D'        | 2024-01-01, 2024-01-02, ...      |\n",
    "# | Month-End        | 'ME'       | 2024-01-31, 2024-02-29, ...      |\n",
    "# | Quarter-End      | 'QE-DEC'   | 2024-03-31, 2024-06-30, ...      |\n",
    "# | Year-End         | 'YE'       | 2024-12-31, 2025-12-31, ...      |\n",
    "# | Hourly           | 'H'        | 2024-01-01 00:00, 2024-01-01 01:00 |\n",
    "\n",
    "dates = pd.date_range(start=\"2025-01-01\", periods=10, freq='D')\n",
    "df_ts = pd.DataFrame({\"date\":dates, \"sales\": [100, 120, 90, 150, 200, 130, 170, 180, 160, 190]})\n",
    "df_ts"
   ]
  },
  {
   "cell_type": "markdown",
   "id": "7272f788-9f32-4914-b4b7-196a0f0c063e",
   "metadata": {},
   "source": [
    "Date Parsing"
   ]
  },
  {
   "cell_type": "code",
   "execution_count": 4,
   "id": "8c63e564-4195-430b-a72c-c2b18ec73ff1",
   "metadata": {},
   "outputs": [
    {
     "name": "stdout",
     "output_type": "stream",
     "text": [
      "            sales\n",
      "date             \n",
      "2025-01-01    100\n",
      "2025-01-02    120\n",
      "2025-01-03     90\n",
      "2025-01-04    150\n",
      "2025-01-05    200\n",
      "2025-01-06    130\n",
      "2025-01-07    170\n",
      "2025-01-08    180\n",
      "2025-01-09    160\n",
      "2025-01-10    190\n"
     ]
    }
   ],
   "source": [
    "# Convert column to datetime format:\n",
    "df_ts[\"date\"] = pd.to_datetime(df_ts[\"date\"])\n",
    "df_ts.set_index('date', inplace=True)\n",
    "print(df_ts)"
   ]
  },
  {
   "cell_type": "markdown",
   "id": "2961b4a4-4ffe-4865-8180-dcc7bdd70927",
   "metadata": {},
   "source": [
    "Resampling (change frequency of time series)"
   ]
  },
  {
   "cell_type": "code",
   "execution_count": 13,
   "id": "3d5ccb37-42d7-475f-b7ce-8f0df75640fa",
   "metadata": {},
   "outputs": [
    {
     "data": {
      "text/plain": [
       "date\n",
       "2025-01-01           NaN\n",
       "2025-01-02           NaN\n",
       "2025-01-03    103.333333\n",
       "2025-01-04    120.000000\n",
       "2025-01-05    146.666667\n",
       "2025-01-06    160.000000\n",
       "2025-01-07    166.666667\n",
       "2025-01-08    160.000000\n",
       "2025-01-09    170.000000\n",
       "2025-01-10    176.666667\n",
       "Name: sales, dtype: float64"
      ]
     },
     "execution_count": 13,
     "metadata": {},
     "output_type": "execute_result"
    }
   ],
   "source": [
    "# Use .resample() to aggregate by different time periods.\n",
    "# Daily to Weekly (mean):\n",
    "# df_ts.resample('W').sum()\n",
    "df_ts['sales'].rolling(window=3).mean()"
   ]
  },
  {
   "cell_type": "code",
   "execution_count": null,
   "id": "abfb6f78-14d3-4c50-967c-dfea492fbc13",
   "metadata": {},
   "outputs": [],
   "source": []
  }
 ],
 "metadata": {
  "kernelspec": {
   "display_name": "Python 3 (ipykernel)",
   "language": "python",
   "name": "python3"
  },
  "language_info": {
   "codemirror_mode": {
    "name": "ipython",
    "version": 3
   },
   "file_extension": ".py",
   "mimetype": "text/x-python",
   "name": "python",
   "nbconvert_exporter": "python",
   "pygments_lexer": "ipython3",
   "version": "3.13.5"
  }
 },
 "nbformat": 4,
 "nbformat_minor": 5
}
