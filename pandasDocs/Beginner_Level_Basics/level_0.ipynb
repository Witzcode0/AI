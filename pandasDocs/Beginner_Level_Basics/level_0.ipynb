{
 "cells": [
  {
   "cell_type": "code",
   "execution_count": 1,
   "id": "4c9a65c9-31c4-4e83-bb26-68c6ad850f62",
   "metadata": {},
   "outputs": [
    {
     "data": {
      "text/plain": [
       "'2.3.0'"
      ]
     },
     "execution_count": 1,
     "metadata": {},
     "output_type": "execute_result"
    }
   ],
   "source": [
    "import numpy as np\n",
    "import pandas as pd\n",
    "\n",
    "# pip show pandas\n",
    "\n",
    "pandas_version = pd.__version__\n",
    "pandas_version"
   ]
  },
  {
   "cell_type": "markdown",
   "id": "4a18f07a-72dd-45e7-bad2-ce42241e3667",
   "metadata": {},
   "source": [
    "Pandas Series"
   ]
  },
  {
   "cell_type": "markdown",
   "id": "f800978d-22db-4dad-aa8e-252631520901",
   "metadata": {},
   "source": [
    "A Series is a one-dimensional labeled array that can hold any data type.\n",
    "It automatically creates an index (0, 1, 2...)."
   ]
  },
  {
   "cell_type": "code",
   "execution_count": 2,
   "id": "00d6c402-8d3c-4d2e-9f01-6d4067854522",
   "metadata": {},
   "outputs": [
    {
     "data": {
      "text/plain": [
       "0    1\n",
       "1    2\n",
       "2    3\n",
       "3    4\n",
       "4    5\n",
       "dtype: int64"
      ]
     },
     "execution_count": 2,
     "metadata": {},
     "output_type": "execute_result"
    }
   ],
   "source": [
    "array = np.array([1,2,3,4,5])\n",
    "pandas_series = pd.Series(array)\n",
    "pandas_series"
   ]
  },
  {
   "cell_type": "markdown",
   "id": "f554d589-9c86-4b54-a763-7446f2c6cac1",
   "metadata": {},
   "source": [
    "Pandas DataFrame"
   ]
  },
  {
   "cell_type": "markdown",
   "id": "681afefc-0647-4c7f-bcd0-d7ab67074eef",
   "metadata": {},
   "source": [
    "A DataFrame is a two-dimensional labeled data structure with rows and columns (like a table or spreadsheet)."
   ]
  },
  {
   "cell_type": "code",
   "execution_count": 3,
   "id": "22f655d2-55a7-4e86-9a39-335395baa4d2",
   "metadata": {},
   "outputs": [
    {
     "data": {
      "text/html": [
       "<div>\n",
       "<style scoped>\n",
       "    .dataframe tbody tr th:only-of-type {\n",
       "        vertical-align: middle;\n",
       "    }\n",
       "\n",
       "    .dataframe tbody tr th {\n",
       "        vertical-align: top;\n",
       "    }\n",
       "\n",
       "    .dataframe thead th {\n",
       "        text-align: right;\n",
       "    }\n",
       "</style>\n",
       "<table border=\"1\" class=\"dataframe\">\n",
       "  <thead>\n",
       "    <tr style=\"text-align: right;\">\n",
       "      <th></th>\n",
       "      <th>employee_id</th>\n",
       "      <th>department</th>\n",
       "    </tr>\n",
       "  </thead>\n",
       "  <tbody>\n",
       "    <tr>\n",
       "      <th>0</th>\n",
       "      <td>EMP0001</td>\n",
       "      <td>Executive team</td>\n",
       "    </tr>\n",
       "    <tr>\n",
       "      <th>1</th>\n",
       "      <td>EMP0002</td>\n",
       "      <td>HR</td>\n",
       "    </tr>\n",
       "    <tr>\n",
       "      <th>2</th>\n",
       "      <td>EMP0003</td>\n",
       "      <td>IT</td>\n",
       "    </tr>\n",
       "  </tbody>\n",
       "</table>\n",
       "</div>"
      ],
      "text/plain": [
       "  employee_id      department\n",
       "0     EMP0001  Executive team\n",
       "1     EMP0002              HR\n",
       "2     EMP0003              IT"
      ]
     },
     "execution_count": 3,
     "metadata": {},
     "output_type": "execute_result"
    }
   ],
   "source": [
    "# Creating DataFrames from Dictionary\n",
    "employees = {\n",
    "    \"employee_id\": [\"EMP0001\",\"EMP0002\",\"EMP0003\"],\n",
    "    \"department\": [\"Executive team\", \"HR\", \"IT\"],\n",
    "}\n",
    "pd_dict_df = pd.DataFrame(employees)\n",
    "pd_dict_df"
   ]
  },
  {
   "cell_type": "code",
   "execution_count": 4,
   "id": "82f3f4e8-292d-4fde-bbb5-674812c7c6e2",
   "metadata": {},
   "outputs": [
    {
     "data": {
      "text/html": [
       "<div>\n",
       "<style scoped>\n",
       "    .dataframe tbody tr th:only-of-type {\n",
       "        vertical-align: middle;\n",
       "    }\n",
       "\n",
       "    .dataframe tbody tr th {\n",
       "        vertical-align: top;\n",
       "    }\n",
       "\n",
       "    .dataframe thead th {\n",
       "        text-align: right;\n",
       "    }\n",
       "</style>\n",
       "<table border=\"1\" class=\"dataframe\">\n",
       "  <thead>\n",
       "    <tr style=\"text-align: right;\">\n",
       "      <th></th>\n",
       "      <th>Fullname</th>\n",
       "      <th>Age</th>\n",
       "      <th>Date_Of_Birth</th>\n",
       "    </tr>\n",
       "  </thead>\n",
       "  <tbody>\n",
       "    <tr>\n",
       "      <th>0</th>\n",
       "      <td>Brijesh Gondaliya</td>\n",
       "      <td>28</td>\n",
       "      <td>23-12-1996</td>\n",
       "    </tr>\n",
       "    <tr>\n",
       "      <th>1</th>\n",
       "      <td>Divyesh Mangroliya</td>\n",
       "      <td>27</td>\n",
       "      <td>02-08-1997</td>\n",
       "    </tr>\n",
       "    <tr>\n",
       "      <th>2</th>\n",
       "      <td>Mushrat Arab</td>\n",
       "      <td>18</td>\n",
       "      <td>11-06-2007</td>\n",
       "    </tr>\n",
       "  </tbody>\n",
       "</table>\n",
       "</div>"
      ],
      "text/plain": [
       "             Fullname  Age Date_Of_Birth\n",
       "0   Brijesh Gondaliya   28    23-12-1996\n",
       "1  Divyesh Mangroliya   27    02-08-1997\n",
       "2        Mushrat Arab   18    11-06-2007"
      ]
     },
     "execution_count": 4,
     "metadata": {},
     "output_type": "execute_result"
    }
   ],
   "source": [
    "# Creating DataFrames from List\n",
    "users = [\n",
    "    [\"Brijesh Gondaliya\", 28, \"23-12-1996\"],\n",
    "    [\"Divyesh Mangroliya\", 27, \"02-08-1997\"],\n",
    "    [\"Mushrat Arab\", 18, \"11-06-2007\"]\n",
    "]\n",
    "\n",
    "columns_ = [\"Fullname\", \"Age\", \"Date_Of_Birth\"]\n",
    "pd_list_df = pd.DataFrame(users, columns=columns_)\n",
    "pd_list_df"
   ]
  },
  {
   "cell_type": "markdown",
   "id": "0845f3e1-3fb0-4d02-9c20-50a6b3cf9641",
   "metadata": {},
   "source": [
    "Data Loading and Saving:"
   ]
  },
  {
   "cell_type": "code",
   "execution_count": 5,
   "id": "f6ac0a3e-1f98-4e1b-bd89-54f273b4dbb7",
   "metadata": {},
   "outputs": [
    {
     "data": {
      "text/html": [
       "<div>\n",
       "<style scoped>\n",
       "    .dataframe tbody tr th:only-of-type {\n",
       "        vertical-align: middle;\n",
       "    }\n",
       "\n",
       "    .dataframe tbody tr th {\n",
       "        vertical-align: top;\n",
       "    }\n",
       "\n",
       "    .dataframe thead th {\n",
       "        text-align: right;\n",
       "    }\n",
       "</style>\n",
       "<table border=\"1\" class=\"dataframe\">\n",
       "  <thead>\n",
       "    <tr style=\"text-align: right;\">\n",
       "      <th></th>\n",
       "      <th>ID</th>\n",
       "      <th>Name</th>\n",
       "      <th>Age</th>\n",
       "      <th>Gender</th>\n",
       "      <th>Department</th>\n",
       "      <th>Salary</th>\n",
       "      <th>JoinDate</th>\n",
       "      <th>Rating</th>\n",
       "    </tr>\n",
       "  </thead>\n",
       "  <tbody>\n",
       "    <tr>\n",
       "      <th>0</th>\n",
       "      <td>1</td>\n",
       "      <td>Alice</td>\n",
       "      <td>25.0</td>\n",
       "      <td>Female</td>\n",
       "      <td>Sales</td>\n",
       "      <td>50000.0</td>\n",
       "      <td>2020-01-15</td>\n",
       "      <td>4.5</td>\n",
       "    </tr>\n",
       "    <tr>\n",
       "      <th>1</th>\n",
       "      <td>2</td>\n",
       "      <td>Bob</td>\n",
       "      <td>28.0</td>\n",
       "      <td>Male</td>\n",
       "      <td>Marketing</td>\n",
       "      <td>52000.0</td>\n",
       "      <td>2019-03-22</td>\n",
       "      <td>4.0</td>\n",
       "    </tr>\n",
       "    <tr>\n",
       "      <th>2</th>\n",
       "      <td>3</td>\n",
       "      <td>Charlie</td>\n",
       "      <td>30.0</td>\n",
       "      <td>Male</td>\n",
       "      <td>HR</td>\n",
       "      <td>NaN</td>\n",
       "      <td>2018-07-30</td>\n",
       "      <td>3.8</td>\n",
       "    </tr>\n",
       "    <tr>\n",
       "      <th>3</th>\n",
       "      <td>4</td>\n",
       "      <td>David</td>\n",
       "      <td>24.0</td>\n",
       "      <td>Male</td>\n",
       "      <td>Sales</td>\n",
       "      <td>48000.0</td>\n",
       "      <td>2021-05-19</td>\n",
       "      <td>4.2</td>\n",
       "    </tr>\n",
       "    <tr>\n",
       "      <th>4</th>\n",
       "      <td>5</td>\n",
       "      <td>Eva</td>\n",
       "      <td>27.0</td>\n",
       "      <td>Female</td>\n",
       "      <td>IT</td>\n",
       "      <td>NaN</td>\n",
       "      <td>2022-02-11</td>\n",
       "      <td>4.7</td>\n",
       "    </tr>\n",
       "    <tr>\n",
       "      <th>5</th>\n",
       "      <td>6</td>\n",
       "      <td>Frank</td>\n",
       "      <td>NaN</td>\n",
       "      <td>Male</td>\n",
       "      <td>Marketing</td>\n",
       "      <td>53000.0</td>\n",
       "      <td>2020-11-03</td>\n",
       "      <td>NaN</td>\n",
       "    </tr>\n",
       "    <tr>\n",
       "      <th>6</th>\n",
       "      <td>7</td>\n",
       "      <td>Grace</td>\n",
       "      <td>26.0</td>\n",
       "      <td>Female</td>\n",
       "      <td>IT</td>\n",
       "      <td>56000.0</td>\n",
       "      <td>2021-12-01</td>\n",
       "      <td>4.9</td>\n",
       "    </tr>\n",
       "    <tr>\n",
       "      <th>7</th>\n",
       "      <td>8</td>\n",
       "      <td>Hank</td>\n",
       "      <td>31.0</td>\n",
       "      <td>Male</td>\n",
       "      <td>HR</td>\n",
       "      <td>51000.0</td>\n",
       "      <td>2017-08-16</td>\n",
       "      <td>3.6</td>\n",
       "    </tr>\n",
       "    <tr>\n",
       "      <th>8</th>\n",
       "      <td>9</td>\n",
       "      <td>Ivy</td>\n",
       "      <td>29.0</td>\n",
       "      <td>Female</td>\n",
       "      <td>Sales</td>\n",
       "      <td>50000.0</td>\n",
       "      <td>2020-09-25</td>\n",
       "      <td>4.1</td>\n",
       "    </tr>\n",
       "    <tr>\n",
       "      <th>9</th>\n",
       "      <td>10</td>\n",
       "      <td>John</td>\n",
       "      <td>28.0</td>\n",
       "      <td>Male</td>\n",
       "      <td>IT</td>\n",
       "      <td>57000.0</td>\n",
       "      <td>2019-06-14</td>\n",
       "      <td>4.3</td>\n",
       "    </tr>\n",
       "  </tbody>\n",
       "</table>\n",
       "</div>"
      ],
      "text/plain": [
       "   ID     Name   Age  Gender Department   Salary    JoinDate  Rating\n",
       "0   1    Alice  25.0  Female      Sales  50000.0  2020-01-15     4.5\n",
       "1   2      Bob  28.0    Male  Marketing  52000.0  2019-03-22     4.0\n",
       "2   3  Charlie  30.0    Male         HR      NaN  2018-07-30     3.8\n",
       "3   4    David  24.0    Male      Sales  48000.0  2021-05-19     4.2\n",
       "4   5      Eva  27.0  Female         IT      NaN  2022-02-11     4.7\n",
       "5   6    Frank   NaN    Male  Marketing  53000.0  2020-11-03     NaN\n",
       "6   7    Grace  26.0  Female         IT  56000.0  2021-12-01     4.9\n",
       "7   8     Hank  31.0    Male         HR  51000.0  2017-08-16     3.6\n",
       "8   9      Ivy  29.0  Female      Sales  50000.0  2020-09-25     4.1\n",
       "9  10     John  28.0    Male         IT  57000.0  2019-06-14     4.3"
      ]
     },
     "execution_count": 5,
     "metadata": {},
     "output_type": "execute_result"
    }
   ],
   "source": [
    "# Creating DataFrames from CSV File\n",
    "pd_csv_df = pd.read_csv(\"data/employee.csv\")\n",
    "# pd_csv_df.to_csv()"
   ]
  },
  {
   "cell_type": "code",
   "execution_count": 6,
   "id": "52210f73-7971-4682-b4a2-95607cfc13f1",
   "metadata": {},
   "outputs": [
    {
     "data": {
      "text/html": [
       "<div>\n",
       "<style scoped>\n",
       "    .dataframe tbody tr th:only-of-type {\n",
       "        vertical-align: middle;\n",
       "    }\n",
       "\n",
       "    .dataframe tbody tr th {\n",
       "        vertical-align: top;\n",
       "    }\n",
       "\n",
       "    .dataframe thead th {\n",
       "        text-align: right;\n",
       "    }\n",
       "</style>\n",
       "<table border=\"1\" class=\"dataframe\">\n",
       "  <thead>\n",
       "    <tr style=\"text-align: right;\">\n",
       "      <th></th>\n",
       "      <th>ProductID</th>\n",
       "      <th>ProductName</th>\n",
       "      <th>Category</th>\n",
       "      <th>Price</th>\n",
       "      <th>Stock</th>\n",
       "      <th>Rating</th>\n",
       "      <th>LaunchDate</th>\n",
       "    </tr>\n",
       "  </thead>\n",
       "  <tbody>\n",
       "    <tr>\n",
       "      <th>0</th>\n",
       "      <td>101</td>\n",
       "      <td>Laptop</td>\n",
       "      <td>Electronics</td>\n",
       "      <td>75000</td>\n",
       "      <td>50</td>\n",
       "      <td>4.5</td>\n",
       "      <td>2021-05-10</td>\n",
       "    </tr>\n",
       "    <tr>\n",
       "      <th>1</th>\n",
       "      <td>102</td>\n",
       "      <td>Mouse</td>\n",
       "      <td>Accessories</td>\n",
       "      <td>1500</td>\n",
       "      <td>200</td>\n",
       "      <td>4.0</td>\n",
       "      <td>2020-11-20</td>\n",
       "    </tr>\n",
       "    <tr>\n",
       "      <th>2</th>\n",
       "      <td>103</td>\n",
       "      <td>Keyboard</td>\n",
       "      <td>Accessories</td>\n",
       "      <td>2500</td>\n",
       "      <td>150</td>\n",
       "      <td>3.8</td>\n",
       "      <td>2021-01-15</td>\n",
       "    </tr>\n",
       "    <tr>\n",
       "      <th>3</th>\n",
       "      <td>104</td>\n",
       "      <td>Monitor</td>\n",
       "      <td>Electronics</td>\n",
       "      <td>12000</td>\n",
       "      <td>75</td>\n",
       "      <td>4.2</td>\n",
       "      <td>2019-07-30</td>\n",
       "    </tr>\n",
       "    <tr>\n",
       "      <th>4</th>\n",
       "      <td>105</td>\n",
       "      <td>Printer</td>\n",
       "      <td>Electronics</td>\n",
       "      <td>8000</td>\n",
       "      <td>30</td>\n",
       "      <td>4.1</td>\n",
       "      <td>2022-02-01</td>\n",
       "    </tr>\n",
       "    <tr>\n",
       "      <th>5</th>\n",
       "      <td>106</td>\n",
       "      <td>Webcam</td>\n",
       "      <td>Accessories</td>\n",
       "      <td>3000</td>\n",
       "      <td>60</td>\n",
       "      <td>4.3</td>\n",
       "      <td>2021-08-12</td>\n",
       "    </tr>\n",
       "    <tr>\n",
       "      <th>6</th>\n",
       "      <td>107</td>\n",
       "      <td>Speaker</td>\n",
       "      <td>Accessories</td>\n",
       "      <td>2000</td>\n",
       "      <td>90</td>\n",
       "      <td>3.9</td>\n",
       "      <td>2020-03-05</td>\n",
       "    </tr>\n",
       "    <tr>\n",
       "      <th>7</th>\n",
       "      <td>108</td>\n",
       "      <td>Headset</td>\n",
       "      <td>Accessories</td>\n",
       "      <td>3500</td>\n",
       "      <td>40</td>\n",
       "      <td>4.0</td>\n",
       "      <td>2022-10-18</td>\n",
       "    </tr>\n",
       "  </tbody>\n",
       "</table>\n",
       "</div>"
      ],
      "text/plain": [
       "   ProductID ProductName     Category  Price  Stock  Rating  LaunchDate\n",
       "0        101      Laptop  Electronics  75000     50     4.5  2021-05-10\n",
       "1        102       Mouse  Accessories   1500    200     4.0  2020-11-20\n",
       "2        103    Keyboard  Accessories   2500    150     3.8  2021-01-15\n",
       "3        104     Monitor  Electronics  12000     75     4.2  2019-07-30\n",
       "4        105     Printer  Electronics   8000     30     4.1  2022-02-01\n",
       "5        106      Webcam  Accessories   3000     60     4.3  2021-08-12\n",
       "6        107     Speaker  Accessories   2000     90     3.9  2020-03-05\n",
       "7        108     Headset  Accessories   3500     40     4.0  2022-10-18"
      ]
     },
     "execution_count": 6,
     "metadata": {},
     "output_type": "execute_result"
    }
   ],
   "source": [
    "# Creating DataFrames from Excel File\n",
    "pd_excel_df = pd.read_excel(\"data/product.xlsx\") # # You need openpyxl or xlrd installed\n",
    "pd_excel_df"
   ]
  },
  {
   "cell_type": "markdown",
   "id": "04ef0903-c896-4cf1-a440-b9dd81fe4c2a",
   "metadata": {},
   "source": [
    ".shape :\n",
    "Gives the number of rows and columns in a DataFrame."
   ]
  },
  {
   "cell_type": "code",
   "execution_count": 7,
   "id": "6aa7ed85-27b7-410b-98dc-b298fca643ef",
   "metadata": {},
   "outputs": [
    {
     "data": {
      "text/plain": [
       "(8, 7)"
      ]
     },
     "execution_count": 7,
     "metadata": {},
     "output_type": "execute_result"
    }
   ],
   "source": [
    "pd_excel_df.shape # (8, 7) # 8 rows, 7 columns"
   ]
  },
  {
   "cell_type": "markdown",
   "id": "96b9ac53-ce33-4f07-923f-ed35ee55c749",
   "metadata": {},
   "source": [
    ".columns: Returns the list of column names.\n",
    ".keys(): Alias of .columns()"
   ]
  },
  {
   "cell_type": "code",
   "execution_count": 8,
   "id": "a7dba6f5-8b9e-480b-9a59-0fd9ce55fcee",
   "metadata": {},
   "outputs": [
    {
     "data": {
      "text/plain": [
       "Index(['ProductID', 'ProductName', 'Category', 'Price', 'Stock', 'Rating',\n",
       "       'LaunchDate'],\n",
       "      dtype='object')"
      ]
     },
     "execution_count": 8,
     "metadata": {},
     "output_type": "execute_result"
    }
   ],
   "source": [
    "# pd_excel_df.columns\n",
    "pd_excel_df.keys()"
   ]
  },
  {
   "cell_type": "markdown",
   "id": "a8cb6595-853a-4a1e-8f40-aa8acde5cc17",
   "metadata": {},
   "source": [
    "list(df): Column names as list"
   ]
  },
  {
   "cell_type": "markdown",
   "id": "70e98125-4836-41be-878d-d87b3b0674fb",
   "metadata": {},
   "source": [
    ".dtypes: \n",
    "Shows the data type of each column."
   ]
  },
  {
   "cell_type": "code",
   "execution_count": 9,
   "id": "fd5d3c16-2386-4528-a5d0-84f190dd39e8",
   "metadata": {},
   "outputs": [
    {
     "data": {
      "text/plain": [
       "['ProductID',\n",
       " 'ProductName',\n",
       " 'Category',\n",
       " 'Price',\n",
       " 'Stock',\n",
       " 'Rating',\n",
       " 'LaunchDate']"
      ]
     },
     "execution_count": 9,
     "metadata": {},
     "output_type": "execute_result"
    }
   ],
   "source": [
    "list(pd_excel_df)"
   ]
  },
  {
   "cell_type": "code",
   "execution_count": 10,
   "id": "3f68cd3b-9174-4359-b2ff-1af951814540",
   "metadata": {},
   "outputs": [
    {
     "data": {
      "text/plain": [
       "ProductID        int64\n",
       "ProductName     object\n",
       "Category        object\n",
       "Price            int64\n",
       "Stock            int64\n",
       "Rating         float64\n",
       "LaunchDate      object\n",
       "dtype: object"
      ]
     },
     "execution_count": 10,
     "metadata": {},
     "output_type": "execute_result"
    }
   ],
   "source": [
    "pd_excel_df.dtypes"
   ]
  },
  {
   "cell_type": "markdown",
   "id": "4dab5a37-44d2-47e7-989c-1b9dd6dcb70e",
   "metadata": {},
   "source": [
    ".size: Total elements (rows × columns)"
   ]
  },
  {
   "cell_type": "code",
   "execution_count": 11,
   "id": "887e81e8-b4e8-4ce8-a682-bf3826387b57",
   "metadata": {},
   "outputs": [
    {
     "data": {
      "text/plain": [
       "56"
      ]
     },
     "execution_count": 11,
     "metadata": {},
     "output_type": "execute_result"
    }
   ],
   "source": [
    "pd_excel_df.size"
   ]
  },
  {
   "cell_type": "markdown",
   "id": "51c1e86d-6542-4e28-bd93-1b1486900b33",
   "metadata": {},
   "source": [
    ".ndim: Number of dimensions"
   ]
  },
  {
   "cell_type": "code",
   "execution_count": 12,
   "id": "26d49c6c-6b2b-4f31-9d2d-59248d26d111",
   "metadata": {},
   "outputs": [
    {
     "data": {
      "text/plain": [
       "2"
      ]
     },
     "execution_count": 12,
     "metadata": {},
     "output_type": "execute_result"
    }
   ],
   "source": [
    "pd_excel_df.ndim"
   ]
  },
  {
   "cell_type": "code",
   "execution_count": 13,
   "id": "a362bba7-e55f-48e4-85c2-c2d96ee8a3f4",
   "metadata": {},
   "outputs": [
    {
     "data": {
      "text/plain": [
       "Index(['ProductID', 'ProductName', 'Category', 'Price', 'Stock', 'Rating',\n",
       "       'LaunchDate'],\n",
       "      dtype='object')"
      ]
     },
     "execution_count": 13,
     "metadata": {},
     "output_type": "execute_result"
    }
   ],
   "source": [
    "pd_excel_df.keys()"
   ]
  },
  {
   "cell_type": "markdown",
   "id": "a2784ca3-ec84-4876-99a7-05683198c263",
   "metadata": {},
   "source": [
    ".axes: List of row and column index"
   ]
  },
  {
   "cell_type": "code",
   "execution_count": 14,
   "id": "6504e9d5-8319-4ead-b2cc-af0b01e2b483",
   "metadata": {},
   "outputs": [
    {
     "data": {
      "text/plain": [
       "[RangeIndex(start=0, stop=8, step=1),\n",
       " Index(['ProductID', 'ProductName', 'Category', 'Price', 'Stock', 'Rating',\n",
       "        'LaunchDate'],\n",
       "       dtype='object')]"
      ]
     },
     "execution_count": 14,
     "metadata": {},
     "output_type": "execute_result"
    }
   ],
   "source": [
    "pd_excel_df.axes"
   ]
  },
  {
   "cell_type": "markdown",
   "id": "4969747c-b0ea-4075-aced-b4d2c27524dd",
   "metadata": {},
   "source": [
    ".info(): Summary including dtypes & nulls"
   ]
  },
  {
   "cell_type": "code",
   "execution_count": 15,
   "id": "a91a8ded-b02b-42e0-996f-90709aacb007",
   "metadata": {},
   "outputs": [
    {
     "name": "stdout",
     "output_type": "stream",
     "text": [
      "<class 'pandas.core.frame.DataFrame'>\n",
      "RangeIndex: 10 entries, 0 to 9\n",
      "Data columns (total 8 columns):\n",
      " #   Column      Non-Null Count  Dtype  \n",
      "---  ------      --------------  -----  \n",
      " 0   ID          10 non-null     int64  \n",
      " 1   Name        10 non-null     object \n",
      " 2   Age         9 non-null      float64\n",
      " 3   Gender      10 non-null     object \n",
      " 4   Department  10 non-null     object \n",
      " 5   Salary      8 non-null      float64\n",
      " 6   JoinDate    10 non-null     object \n",
      " 7   Rating      9 non-null      float64\n",
      "dtypes: float64(3), int64(1), object(4)\n",
      "memory usage: 772.0+ bytes\n"
     ]
    }
   ],
   "source": [
    "pd_csv_df.info()"
   ]
  },
  {
   "cell_type": "markdown",
   "id": "cd90931e-0ca9-4a76-a46b-f6c59d79fb5e",
   "metadata": {},
   "source": [
    ".select_dtypes() is a DataFrame method used to filter columns based on their data types."
   ]
  },
  {
   "cell_type": "code",
   "execution_count": 16,
   "id": "16587409-99e1-46c3-a8d9-030a7fa56bce",
   "metadata": {},
   "outputs": [
    {
     "data": {
      "text/html": [
       "<div>\n",
       "<style scoped>\n",
       "    .dataframe tbody tr th:only-of-type {\n",
       "        vertical-align: middle;\n",
       "    }\n",
       "\n",
       "    .dataframe tbody tr th {\n",
       "        vertical-align: top;\n",
       "    }\n",
       "\n",
       "    .dataframe thead th {\n",
       "        text-align: right;\n",
       "    }\n",
       "</style>\n",
       "<table border=\"1\" class=\"dataframe\">\n",
       "  <thead>\n",
       "    <tr style=\"text-align: right;\">\n",
       "      <th></th>\n",
       "      <th>ID</th>\n",
       "    </tr>\n",
       "  </thead>\n",
       "  <tbody>\n",
       "    <tr>\n",
       "      <th>0</th>\n",
       "      <td>1</td>\n",
       "    </tr>\n",
       "    <tr>\n",
       "      <th>1</th>\n",
       "      <td>2</td>\n",
       "    </tr>\n",
       "    <tr>\n",
       "      <th>2</th>\n",
       "      <td>3</td>\n",
       "    </tr>\n",
       "    <tr>\n",
       "      <th>3</th>\n",
       "      <td>4</td>\n",
       "    </tr>\n",
       "    <tr>\n",
       "      <th>4</th>\n",
       "      <td>5</td>\n",
       "    </tr>\n",
       "    <tr>\n",
       "      <th>5</th>\n",
       "      <td>6</td>\n",
       "    </tr>\n",
       "    <tr>\n",
       "      <th>6</th>\n",
       "      <td>7</td>\n",
       "    </tr>\n",
       "    <tr>\n",
       "      <th>7</th>\n",
       "      <td>8</td>\n",
       "    </tr>\n",
       "    <tr>\n",
       "      <th>8</th>\n",
       "      <td>9</td>\n",
       "    </tr>\n",
       "    <tr>\n",
       "      <th>9</th>\n",
       "      <td>10</td>\n",
       "    </tr>\n",
       "  </tbody>\n",
       "</table>\n",
       "</div>"
      ],
      "text/plain": [
       "   ID\n",
       "0   1\n",
       "1   2\n",
       "2   3\n",
       "3   4\n",
       "4   5\n",
       "5   6\n",
       "6   7\n",
       "7   8\n",
       "8   9\n",
       "9  10"
      ]
     },
     "execution_count": 16,
     "metadata": {},
     "output_type": "execute_result"
    }
   ],
   "source": [
    "# df.select_dtypes(include=None, exclude=None)\n",
    "pd_csv_df.select_dtypes(include=\"object\")\n",
    "pd_csv_df.select_dtypes(exclude=\"object\")\n",
    "pd_csv_df.select_dtypes(exclude=\"number\")\n",
    "pd_csv_df.select_dtypes(include=\"number\", exclude=\"float64\")\n"
   ]
  },
  {
   "cell_type": "raw",
   "id": "641d86d7-d707-46b3-88fa-f60e546bf5dd",
   "metadata": {},
   "source": [
    "Indexing & Slicing in Pandas\n",
    "____________________________\n",
    ".loc[] → Label-Based Selection\n",
    "\n",
    "🧠 Think: \"I want to select data using names of rows or columns\"\n",
    ".loc[] works on row and column labels (not numbers).\n",
    "\n",
    "You can select:\n",
    "\n",
    "A single row/column by label\n",
    "\n",
    "A range of rows (inclusive)\n",
    "\n",
    "A subset of rows/columns\n",
    "\n",
    "Use .loc[] when your DataFrame has meaningful index/column names."
   ]
  },
  {
   "cell_type": "code",
   "execution_count": 17,
   "id": "bdf9b300-a198-4014-a746-72276ca1f847",
   "metadata": {},
   "outputs": [
    {
     "data": {
      "text/html": [
       "<div>\n",
       "<style scoped>\n",
       "    .dataframe tbody tr th:only-of-type {\n",
       "        vertical-align: middle;\n",
       "    }\n",
       "\n",
       "    .dataframe tbody tr th {\n",
       "        vertical-align: top;\n",
       "    }\n",
       "\n",
       "    .dataframe thead th {\n",
       "        text-align: right;\n",
       "    }\n",
       "</style>\n",
       "<table border=\"1\" class=\"dataframe\">\n",
       "  <thead>\n",
       "    <tr style=\"text-align: right;\">\n",
       "      <th></th>\n",
       "      <th>Name</th>\n",
       "      <th>Age</th>\n",
       "    </tr>\n",
       "  </thead>\n",
       "  <tbody>\n",
       "    <tr>\n",
       "      <th>0</th>\n",
       "      <td>Alice</td>\n",
       "      <td>25.0</td>\n",
       "    </tr>\n",
       "    <tr>\n",
       "      <th>1</th>\n",
       "      <td>Bob</td>\n",
       "      <td>28.0</td>\n",
       "    </tr>\n",
       "    <tr>\n",
       "      <th>2</th>\n",
       "      <td>Charlie</td>\n",
       "      <td>30.0</td>\n",
       "    </tr>\n",
       "    <tr>\n",
       "      <th>3</th>\n",
       "      <td>David</td>\n",
       "      <td>24.0</td>\n",
       "    </tr>\n",
       "    <tr>\n",
       "      <th>4</th>\n",
       "      <td>Eva</td>\n",
       "      <td>27.0</td>\n",
       "    </tr>\n",
       "    <tr>\n",
       "      <th>5</th>\n",
       "      <td>Frank</td>\n",
       "      <td>NaN</td>\n",
       "    </tr>\n",
       "    <tr>\n",
       "      <th>6</th>\n",
       "      <td>Grace</td>\n",
       "      <td>26.0</td>\n",
       "    </tr>\n",
       "    <tr>\n",
       "      <th>7</th>\n",
       "      <td>Hank</td>\n",
       "      <td>31.0</td>\n",
       "    </tr>\n",
       "    <tr>\n",
       "      <th>8</th>\n",
       "      <td>Ivy</td>\n",
       "      <td>29.0</td>\n",
       "    </tr>\n",
       "    <tr>\n",
       "      <th>9</th>\n",
       "      <td>John</td>\n",
       "      <td>28.0</td>\n",
       "    </tr>\n",
       "  </tbody>\n",
       "</table>\n",
       "</div>"
      ],
      "text/plain": [
       "      Name   Age\n",
       "0    Alice  25.0\n",
       "1      Bob  28.0\n",
       "2  Charlie  30.0\n",
       "3    David  24.0\n",
       "4      Eva  27.0\n",
       "5    Frank   NaN\n",
       "6    Grace  26.0\n",
       "7     Hank  31.0\n",
       "8      Ivy  29.0\n",
       "9     John  28.0"
      ]
     },
     "execution_count": 17,
     "metadata": {},
     "output_type": "execute_result"
    }
   ],
   "source": [
    "pd_csv_df = pd.read_csv(\"data/employee.csv\")\n",
    "# pd_csv_df.loc[0] # lect row with index label 0\n",
    "# pd_csv_df.loc[0, \"Name\"] # Select a single value\n",
    "# pd_csv_df.loc[0, [\"Name\",\"Age\"]] # select only one row with Name and Age \n",
    "# ⚠️ .loc[start:end] is inclusive of both start and end\n",
    "pd_csv_df.loc[:, [\"Name\",\"Age\"]] # All rows, only 'Name' and 'Age' columns"
   ]
  },
  {
   "cell_type": "raw",
   "id": "ba5b76b2-a55a-4061-8fb4-7af91e1fd69a",
   "metadata": {},
   "source": [
    ".iloc[] → Position-Based Selection\n",
    "🧠 Think: \"I want to access data by row and column number\"\n",
    ".iloc[] works like a NumPy array: it uses integer positions\n",
    "\n",
    "Indexing is zero-based\n",
    "\n",
    "You can select:\n",
    "\n",
    "Specific row/column by number\n",
    "\n",
    "Slices of rows/columns"
   ]
  },
  {
   "cell_type": "code",
   "execution_count": 18,
   "id": "6749a187-5588-4712-ab9c-cbec0df870a4",
   "metadata": {},
   "outputs": [
    {
     "data": {
      "text/html": [
       "<div>\n",
       "<style scoped>\n",
       "    .dataframe tbody tr th:only-of-type {\n",
       "        vertical-align: middle;\n",
       "    }\n",
       "\n",
       "    .dataframe tbody tr th {\n",
       "        vertical-align: top;\n",
       "    }\n",
       "\n",
       "    .dataframe thead th {\n",
       "        text-align: right;\n",
       "    }\n",
       "</style>\n",
       "<table border=\"1\" class=\"dataframe\">\n",
       "  <thead>\n",
       "    <tr style=\"text-align: right;\">\n",
       "      <th></th>\n",
       "      <th>Name</th>\n",
       "      <th>Age</th>\n",
       "    </tr>\n",
       "  </thead>\n",
       "  <tbody>\n",
       "    <tr>\n",
       "      <th>0</th>\n",
       "      <td>Alice</td>\n",
       "      <td>25.0</td>\n",
       "    </tr>\n",
       "    <tr>\n",
       "      <th>1</th>\n",
       "      <td>Bob</td>\n",
       "      <td>28.0</td>\n",
       "    </tr>\n",
       "  </tbody>\n",
       "</table>\n",
       "</div>"
      ],
      "text/plain": [
       "    Name   Age\n",
       "0  Alice  25.0\n",
       "1    Bob  28.0"
      ]
     },
     "execution_count": 18,
     "metadata": {},
     "output_type": "execute_result"
    }
   ],
   "source": [
    "# pd_csv_df.iloc[0] # First row\n",
    "# pd_csv_df.iloc[0, 1] # First row, second column\n",
    "# ⚠️ .iloc[start:end] is exclusive of the end\n",
    "pd_csv_df.iloc[0:2, 1:3] # First 2 rows, column 2 to 3 (exclusive of end)"
   ]
  },
  {
   "cell_type": "raw",
   "id": "5ef137e8-d076-41de-883e-650cfd89fbbd",
   "metadata": {},
   "source": [
    ".at[] → Fast Scalar Access (Label-Based)\n",
    "🧠 Think: \"I just need one value, and I know the row/column name\"\n",
    "\n",
    ".at[] is like .loc[] but only for single cell\n",
    "\n",
    "It is faster than .loc[] for scalar lookups\n",
    "\n",
    "Only allows one row label and one column label"
   ]
  },
  {
   "cell_type": "code",
   "execution_count": 19,
   "id": "b00126f4-2a1c-4502-868a-1b1fa58c097f",
   "metadata": {},
   "outputs": [
    {
     "name": "stdout",
     "output_type": "stream",
     "text": [
      "Bob\n",
      "Brijesh\n"
     ]
    }
   ],
   "source": [
    "pd_csv_df.at[0, \"Name\"]\n",
    "pd_csv_df.at[0, \"Age\"]\n",
    "before = pd_csv_df.at[1, \"Name\"] # Get a single value\n",
    "print(before)\n",
    "pd_csv_df.at[1, \"Name\"] = \"Brijesh\"\n",
    "after = pd_csv_df.at[1, \"Name\"] # Get a single value\n",
    "print(after)"
   ]
  },
  {
   "cell_type": "raw",
   "id": "8398697a-03f8-4805-9116-aa364ff9e2df",
   "metadata": {},
   "source": [
    "| Scenario                                   | Use       |\n",
    "| ------------------------------------------ | --------- |\n",
    "| You know row/column **names**              | `.loc[]`  |\n",
    "| You know **position** (row 0, col 1, etc.) | `.iloc[]` |\n",
    "| You need **one specific cell (by name)**   | `.at[]`   |\n",
    "| You want **fast performance on one value** | `.at[]`   |"
   ]
  },
  {
   "cell_type": "code",
   "execution_count": 20,
   "id": "219f1933-3013-40e8-b3ac-404550377087",
   "metadata": {},
   "outputs": [
    {
     "data": {
      "text/html": [
       "<div>\n",
       "<style scoped>\n",
       "    .dataframe tbody tr th:only-of-type {\n",
       "        vertical-align: middle;\n",
       "    }\n",
       "\n",
       "    .dataframe tbody tr th {\n",
       "        vertical-align: top;\n",
       "    }\n",
       "\n",
       "    .dataframe thead th {\n",
       "        text-align: right;\n",
       "    }\n",
       "</style>\n",
       "<table border=\"1\" class=\"dataframe\">\n",
       "  <thead>\n",
       "    <tr style=\"text-align: right;\">\n",
       "      <th></th>\n",
       "      <th>Name</th>\n",
       "      <th>Salary</th>\n",
       "    </tr>\n",
       "  </thead>\n",
       "  <tbody>\n",
       "    <tr>\n",
       "      <th>0</th>\n",
       "      <td>Alice</td>\n",
       "      <td>50000.0</td>\n",
       "    </tr>\n",
       "    <tr>\n",
       "      <th>1</th>\n",
       "      <td>Brijesh</td>\n",
       "      <td>52000.0</td>\n",
       "    </tr>\n",
       "    <tr>\n",
       "      <th>2</th>\n",
       "      <td>Charlie</td>\n",
       "      <td>NaN</td>\n",
       "    </tr>\n",
       "    <tr>\n",
       "      <th>3</th>\n",
       "      <td>David</td>\n",
       "      <td>48000.0</td>\n",
       "    </tr>\n",
       "    <tr>\n",
       "      <th>4</th>\n",
       "      <td>Eva</td>\n",
       "      <td>NaN</td>\n",
       "    </tr>\n",
       "    <tr>\n",
       "      <th>5</th>\n",
       "      <td>Frank</td>\n",
       "      <td>53000.0</td>\n",
       "    </tr>\n",
       "    <tr>\n",
       "      <th>6</th>\n",
       "      <td>Grace</td>\n",
       "      <td>56000.0</td>\n",
       "    </tr>\n",
       "    <tr>\n",
       "      <th>7</th>\n",
       "      <td>Hank</td>\n",
       "      <td>51000.0</td>\n",
       "    </tr>\n",
       "    <tr>\n",
       "      <th>8</th>\n",
       "      <td>Ivy</td>\n",
       "      <td>50000.0</td>\n",
       "    </tr>\n",
       "    <tr>\n",
       "      <th>9</th>\n",
       "      <td>John</td>\n",
       "      <td>57000.0</td>\n",
       "    </tr>\n",
       "  </tbody>\n",
       "</table>\n",
       "</div>"
      ],
      "text/plain": [
       "      Name   Salary\n",
       "0    Alice  50000.0\n",
       "1  Brijesh  52000.0\n",
       "2  Charlie      NaN\n",
       "3    David  48000.0\n",
       "4      Eva      NaN\n",
       "5    Frank  53000.0\n",
       "6    Grace  56000.0\n",
       "7     Hank  51000.0\n",
       "8      Ivy  50000.0\n",
       "9     John  57000.0"
      ]
     },
     "execution_count": 20,
     "metadata": {},
     "output_type": "execute_result"
    }
   ],
   "source": [
    "# Selecting Columns Only\n",
    "# pd_csv_df.columns\n",
    "# pd_csv_df['Name'] # Returns a Series\n",
    "# pd_csv_df.Name  # Also valid (if no space in column name)\n",
    "pd_csv_df[[\"Name\", \"Salary\"]] # Returns a DataFrame"
   ]
  },
  {
   "cell_type": "code",
   "execution_count": 21,
   "id": "390b91d0-2b9c-4cb2-897f-8340b6009a74",
   "metadata": {},
   "outputs": [
    {
     "data": {
      "text/html": [
       "<div>\n",
       "<style scoped>\n",
       "    .dataframe tbody tr th:only-of-type {\n",
       "        vertical-align: middle;\n",
       "    }\n",
       "\n",
       "    .dataframe tbody tr th {\n",
       "        vertical-align: top;\n",
       "    }\n",
       "\n",
       "    .dataframe thead th {\n",
       "        text-align: right;\n",
       "    }\n",
       "</style>\n",
       "<table border=\"1\" class=\"dataframe\">\n",
       "  <thead>\n",
       "    <tr style=\"text-align: right;\">\n",
       "      <th></th>\n",
       "      <th>ID</th>\n",
       "      <th>Name</th>\n",
       "      <th>Age</th>\n",
       "      <th>Gender</th>\n",
       "      <th>Department</th>\n",
       "      <th>Salary</th>\n",
       "      <th>JoinDate</th>\n",
       "      <th>Rating</th>\n",
       "    </tr>\n",
       "  </thead>\n",
       "  <tbody>\n",
       "    <tr>\n",
       "      <th>0</th>\n",
       "      <td>1</td>\n",
       "      <td>Alice</td>\n",
       "      <td>25.0</td>\n",
       "      <td>Female</td>\n",
       "      <td>Sales</td>\n",
       "      <td>50000.0</td>\n",
       "      <td>2020-01-15</td>\n",
       "      <td>4.5</td>\n",
       "    </tr>\n",
       "    <tr>\n",
       "      <th>2</th>\n",
       "      <td>3</td>\n",
       "      <td>Charlie</td>\n",
       "      <td>30.0</td>\n",
       "      <td>Male</td>\n",
       "      <td>HR</td>\n",
       "      <td>NaN</td>\n",
       "      <td>2018-07-30</td>\n",
       "      <td>3.8</td>\n",
       "    </tr>\n",
       "  </tbody>\n",
       "</table>\n",
       "</div>"
      ],
      "text/plain": [
       "   ID     Name   Age  Gender Department   Salary    JoinDate  Rating\n",
       "0   1    Alice  25.0  Female      Sales  50000.0  2020-01-15     4.5\n",
       "2   3  Charlie  30.0    Male         HR      NaN  2018-07-30     3.8"
      ]
     },
     "execution_count": 21,
     "metadata": {},
     "output_type": "execute_result"
    }
   ],
   "source": [
    "# Selecting Rows Only\n",
    "# Using .loc[] with label\n",
    "pd_csv_df.loc[0] # Row with label 0\n",
    "pd_csv_df.loc[[0, 3]] # Multiple rows\n",
    "pd_csv_df.loc[0:3] # # Row slice (inclusive)\n",
    "\n",
    "# Using .iloc[] with index\n",
    "pd_csv_df.iloc[0]           # First row\n",
    "pd_csv_df.iloc[0:2]         # First two rows\n",
    "pd_csv_df.iloc[[0, 2]]      # Row 0 and 2"
   ]
  },
  {
   "cell_type": "code",
   "execution_count": 22,
   "id": "a8254bbc-d713-4004-824f-117482f88ae7",
   "metadata": {},
   "outputs": [
    {
     "data": {
      "text/html": [
       "<div>\n",
       "<style scoped>\n",
       "    .dataframe tbody tr th:only-of-type {\n",
       "        vertical-align: middle;\n",
       "    }\n",
       "\n",
       "    .dataframe tbody tr th {\n",
       "        vertical-align: top;\n",
       "    }\n",
       "\n",
       "    .dataframe thead th {\n",
       "        text-align: right;\n",
       "    }\n",
       "</style>\n",
       "<table border=\"1\" class=\"dataframe\">\n",
       "  <thead>\n",
       "    <tr style=\"text-align: right;\">\n",
       "      <th></th>\n",
       "      <th>ID</th>\n",
       "      <th>Age</th>\n",
       "    </tr>\n",
       "  </thead>\n",
       "  <tbody>\n",
       "    <tr>\n",
       "      <th>0</th>\n",
       "      <td>1</td>\n",
       "      <td>25.0</td>\n",
       "    </tr>\n",
       "    <tr>\n",
       "      <th>2</th>\n",
       "      <td>3</td>\n",
       "      <td>30.0</td>\n",
       "    </tr>\n",
       "  </tbody>\n",
       "</table>\n",
       "</div>"
      ],
      "text/plain": [
       "   ID   Age\n",
       "0   1  25.0\n",
       "2   3  30.0"
      ]
     },
     "execution_count": 22,
     "metadata": {},
     "output_type": "execute_result"
    }
   ],
   "source": [
    "# Selecting Rows and Columns\n",
    "# Label-based: .loc[row_label, column_label]\n",
    "pd_csv_df.loc[0, 'Name'] # Single value\n",
    "pd_csv_df.loc[0, [\"Name\", \"Salary\"]] # Row 0, columns 'Name' & 'Salary'\n",
    "pd_csv_df.loc[0:2, [\"Name\", \"Salary\"]]\n",
    "pd_csv_df.loc[[0,2], [\"Name\", \"Age\"]]\n",
    "\n",
    "# Position-based: .iloc[row_index, column_index]\n",
    "pd_csv_df.iloc[0, 1]            # Row 0, Column 1 → 'Alice'\n",
    "pd_csv_df.iloc[[0, 2], [0, 2]]  # Rows 0 & 2, Columns 0 & 2"
   ]
  },
  {
   "cell_type": "code",
   "execution_count": 23,
   "id": "4d9c342b-f457-44ec-89e0-0985303f6f74",
   "metadata": {},
   "outputs": [
    {
     "data": {
      "text/html": [
       "<div>\n",
       "<style scoped>\n",
       "    .dataframe tbody tr th:only-of-type {\n",
       "        vertical-align: middle;\n",
       "    }\n",
       "\n",
       "    .dataframe tbody tr th {\n",
       "        vertical-align: top;\n",
       "    }\n",
       "\n",
       "    .dataframe thead th {\n",
       "        text-align: right;\n",
       "    }\n",
       "</style>\n",
       "<table border=\"1\" class=\"dataframe\">\n",
       "  <thead>\n",
       "    <tr style=\"text-align: right;\">\n",
       "      <th></th>\n",
       "      <th>ID</th>\n",
       "      <th>Name</th>\n",
       "      <th>Age</th>\n",
       "      <th>Gender</th>\n",
       "      <th>Department</th>\n",
       "      <th>Salary</th>\n",
       "      <th>JoinDate</th>\n",
       "      <th>Rating</th>\n",
       "    </tr>\n",
       "  </thead>\n",
       "  <tbody>\n",
       "    <tr>\n",
       "      <th>1</th>\n",
       "      <td>2</td>\n",
       "      <td>Brijesh</td>\n",
       "      <td>28.0</td>\n",
       "      <td>Male</td>\n",
       "      <td>Marketing</td>\n",
       "      <td>52000.0</td>\n",
       "      <td>2019-03-22</td>\n",
       "      <td>4.0</td>\n",
       "    </tr>\n",
       "    <tr>\n",
       "      <th>6</th>\n",
       "      <td>7</td>\n",
       "      <td>Grace</td>\n",
       "      <td>26.0</td>\n",
       "      <td>Female</td>\n",
       "      <td>IT</td>\n",
       "      <td>56000.0</td>\n",
       "      <td>2021-12-01</td>\n",
       "      <td>4.9</td>\n",
       "    </tr>\n",
       "    <tr>\n",
       "      <th>7</th>\n",
       "      <td>8</td>\n",
       "      <td>Hank</td>\n",
       "      <td>31.0</td>\n",
       "      <td>Male</td>\n",
       "      <td>HR</td>\n",
       "      <td>51000.0</td>\n",
       "      <td>2017-08-16</td>\n",
       "      <td>3.6</td>\n",
       "    </tr>\n",
       "    <tr>\n",
       "      <th>8</th>\n",
       "      <td>9</td>\n",
       "      <td>Ivy</td>\n",
       "      <td>29.0</td>\n",
       "      <td>Female</td>\n",
       "      <td>Sales</td>\n",
       "      <td>50000.0</td>\n",
       "      <td>2020-09-25</td>\n",
       "      <td>4.1</td>\n",
       "    </tr>\n",
       "    <tr>\n",
       "      <th>9</th>\n",
       "      <td>10</td>\n",
       "      <td>John</td>\n",
       "      <td>28.0</td>\n",
       "      <td>Male</td>\n",
       "      <td>IT</td>\n",
       "      <td>57000.0</td>\n",
       "      <td>2019-06-14</td>\n",
       "      <td>4.3</td>\n",
       "    </tr>\n",
       "  </tbody>\n",
       "</table>\n",
       "</div>"
      ],
      "text/plain": [
       "   ID     Name   Age  Gender Department   Salary    JoinDate  Rating\n",
       "1   2  Brijesh  28.0    Male  Marketing  52000.0  2019-03-22     4.0\n",
       "6   7    Grace  26.0  Female         IT  56000.0  2021-12-01     4.9\n",
       "7   8     Hank  31.0    Male         HR  51000.0  2017-08-16     3.6\n",
       "8   9      Ivy  29.0  Female      Sales  50000.0  2020-09-25     4.1\n",
       "9  10     John  28.0    Male         IT  57000.0  2019-06-14     4.3"
      ]
     },
     "execution_count": 23,
     "metadata": {},
     "output_type": "execute_result"
    }
   ],
   "source": [
    "# Select Based on Conditions (Boolean Filtering)\n",
    "pd_csv_df[pd_csv_df[\"Age\"] > 25]\n",
    "pd_csv_df[(pd_csv_df[\"Age\"] > 25) & (pd_csv_df[\"Salary\"] <= 50000)]\n",
    "pd_csv_df[(pd_csv_df[\"Age\"] > 25) | (pd_csv_df[\"Salary\"] >= 50000)]\n",
    "pd_csv_df[(pd_csv_df[\"Age\"] > 25) & (pd_csv_df[\"Salary\"] >= 50000)]"
   ]
  },
  {
   "cell_type": "code",
   "execution_count": 24,
   "id": "6b8c1cf2-1208-49a2-b166-2706a1321f37",
   "metadata": {},
   "outputs": [
    {
     "data": {
      "text/html": [
       "<div>\n",
       "<style scoped>\n",
       "    .dataframe tbody tr th:only-of-type {\n",
       "        vertical-align: middle;\n",
       "    }\n",
       "\n",
       "    .dataframe tbody tr th {\n",
       "        vertical-align: top;\n",
       "    }\n",
       "\n",
       "    .dataframe thead th {\n",
       "        text-align: right;\n",
       "    }\n",
       "</style>\n",
       "<table border=\"1\" class=\"dataframe\">\n",
       "  <thead>\n",
       "    <tr style=\"text-align: right;\">\n",
       "      <th></th>\n",
       "      <th>ID</th>\n",
       "      <th>Name</th>\n",
       "      <th>Age</th>\n",
       "      <th>Gender</th>\n",
       "      <th>Department</th>\n",
       "      <th>Salary</th>\n",
       "      <th>JoinDate</th>\n",
       "      <th>Rating</th>\n",
       "    </tr>\n",
       "  </thead>\n",
       "  <tbody>\n",
       "    <tr>\n",
       "      <th>5</th>\n",
       "      <td>6</td>\n",
       "      <td>Frank</td>\n",
       "      <td>NaN</td>\n",
       "      <td>Male</td>\n",
       "      <td>Marketing</td>\n",
       "      <td>53000.0</td>\n",
       "      <td>2020-11-03</td>\n",
       "      <td>NaN</td>\n",
       "    </tr>\n",
       "  </tbody>\n",
       "</table>\n",
       "</div>"
      ],
      "text/plain": [
       "   ID   Name  Age Gender Department   Salary    JoinDate  Rating\n",
       "5   6  Frank  NaN   Male  Marketing  53000.0  2020-11-03     NaN"
      ]
     },
     "execution_count": 24,
     "metadata": {},
     "output_type": "execute_result"
    }
   ],
   "source": [
    "# Pandas functions:\n",
    "# head() – View Top Rows\n",
    "pd_csv_df.head(5)\n",
    "# tail() – View Bottom Rows\n",
    "pd_csv_df.tail(5)\n",
    "# isin() – Filter Specific Departments\n",
    "pd_csv_df.isin([\"IT\", \"HR\"])\n",
    "pd_csv_df[pd_csv_df[\"Department\"].isin([\"IT\", \"HR\"])]\n",
    "# notna() – Check for Non-Null Salary\n",
    "pd_csv_df[pd_csv_df['Salary'].notna()]\n",
    "# isna() – Check for Missing Rating\n",
    "pd_csv_df[pd_csv_df[\"Rating\"].isna()]"
   ]
  },
  {
   "cell_type": "code",
   "execution_count": null,
   "id": "b2a21969-5099-4747-b05e-7ae39ae62715",
   "metadata": {},
   "outputs": [],
   "source": []
  }
 ],
 "metadata": {
  "kernelspec": {
   "display_name": "Python 3 (ipykernel)",
   "language": "python",
   "name": "python3"
  },
  "language_info": {
   "codemirror_mode": {
    "name": "ipython",
    "version": 3
   },
   "file_extension": ".py",
   "mimetype": "text/x-python",
   "name": "python",
   "nbconvert_exporter": "python",
   "pygments_lexer": "ipython3",
   "version": "3.12.4"
  }
 },
 "nbformat": 4,
 "nbformat_minor": 5
}
