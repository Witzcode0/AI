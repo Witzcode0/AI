{
 "cells": [
  {
   "cell_type": "code",
   "execution_count": 1,
   "id": "602a22da-40ae-4fbb-8985-04b53a3785fa",
   "metadata": {},
   "outputs": [],
   "source": [
    "import numpy as np\n",
    "import pandas as pd"
   ]
  },
  {
   "cell_type": "code",
   "execution_count": 2,
   "id": "07421c0c-1276-4ba5-a1b7-8f257ca74c2b",
   "metadata": {},
   "outputs": [
    {
     "data": {
      "text/html": [
       "<div>\n",
       "<style scoped>\n",
       "    .dataframe tbody tr th:only-of-type {\n",
       "        vertical-align: middle;\n",
       "    }\n",
       "\n",
       "    .dataframe tbody tr th {\n",
       "        vertical-align: top;\n",
       "    }\n",
       "\n",
       "    .dataframe thead th {\n",
       "        text-align: right;\n",
       "    }\n",
       "</style>\n",
       "<table border=\"1\" class=\"dataframe\">\n",
       "  <thead>\n",
       "    <tr style=\"text-align: right;\">\n",
       "      <th></th>\n",
       "      <th>date</th>\n",
       "      <th>sales</th>\n",
       "    </tr>\n",
       "  </thead>\n",
       "  <tbody>\n",
       "    <tr>\n",
       "      <th>0</th>\n",
       "      <td>2025-01-01</td>\n",
       "      <td>100</td>\n",
       "    </tr>\n",
       "    <tr>\n",
       "      <th>1</th>\n",
       "      <td>2025-01-02</td>\n",
       "      <td>120</td>\n",
       "    </tr>\n",
       "    <tr>\n",
       "      <th>2</th>\n",
       "      <td>2025-01-03</td>\n",
       "      <td>90</td>\n",
       "    </tr>\n",
       "    <tr>\n",
       "      <th>3</th>\n",
       "      <td>2025-01-04</td>\n",
       "      <td>150</td>\n",
       "    </tr>\n",
       "    <tr>\n",
       "      <th>4</th>\n",
       "      <td>2025-01-05</td>\n",
       "      <td>200</td>\n",
       "    </tr>\n",
       "    <tr>\n",
       "      <th>5</th>\n",
       "      <td>2025-01-06</td>\n",
       "      <td>130</td>\n",
       "    </tr>\n",
       "    <tr>\n",
       "      <th>6</th>\n",
       "      <td>2025-01-07</td>\n",
       "      <td>170</td>\n",
       "    </tr>\n",
       "    <tr>\n",
       "      <th>7</th>\n",
       "      <td>2025-01-08</td>\n",
       "      <td>180</td>\n",
       "    </tr>\n",
       "    <tr>\n",
       "      <th>8</th>\n",
       "      <td>2025-01-09</td>\n",
       "      <td>160</td>\n",
       "    </tr>\n",
       "    <tr>\n",
       "      <th>9</th>\n",
       "      <td>2025-01-10</td>\n",
       "      <td>190</td>\n",
       "    </tr>\n",
       "  </tbody>\n",
       "</table>\n",
       "</div>"
      ],
      "text/plain": [
       "        date  sales\n",
       "0 2025-01-01    100\n",
       "1 2025-01-02    120\n",
       "2 2025-01-03     90\n",
       "3 2025-01-04    150\n",
       "4 2025-01-05    200\n",
       "5 2025-01-06    130\n",
       "6 2025-01-07    170\n",
       "7 2025-01-08    180\n",
       "8 2025-01-09    160\n",
       "9 2025-01-10    190"
      ]
     },
     "execution_count": 2,
     "metadata": {},
     "output_type": "execute_result"
    }
   ],
   "source": [
    "# | Purpose         | Code (New) | Example Output                   |\n",
    "# |------------------|------------|----------------------------------|\n",
    "# | Daily            | 'D'        | 2024-01-01, 2024-01-02, ...      |\n",
    "# | Month-End        | 'ME'       | 2024-01-31, 2024-02-29, ...      |\n",
    "# | Quarter-End      | 'QE-DEC'   | 2024-03-31, 2024-06-30, ...      |\n",
    "# | Year-End         | 'YE'       | 2024-12-31, 2025-12-31, ...      |\n",
    "# | Hourly           | 'H'        | 2024-01-01 00:00, 2024-01-01 01:00 |\n",
    "\n",
    "dates = pd.date_range(start=\"2025-01-01\", periods=10, freq='D')\n",
    "df_ts = pd.DataFrame({\"date\":dates, \"sales\": [100, 120, 90, 150, 200, 130, 170, 180, 160, 190]})\n",
    "df_ts"
   ]
  },
  {
   "cell_type": "markdown",
   "id": "7272f788-9f32-4914-b4b7-196a0f0c063e",
   "metadata": {},
   "source": [
    "Date Parsing"
   ]
  },
  {
   "cell_type": "code",
   "execution_count": 3,
   "id": "8c63e564-4195-430b-a72c-c2b18ec73ff1",
   "metadata": {},
   "outputs": [
    {
     "name": "stdout",
     "output_type": "stream",
     "text": [
      "            sales\n",
      "date             \n",
      "2025-01-01    100\n",
      "2025-01-02    120\n",
      "2025-01-03     90\n",
      "2025-01-04    150\n",
      "2025-01-05    200\n",
      "2025-01-06    130\n",
      "2025-01-07    170\n",
      "2025-01-08    180\n",
      "2025-01-09    160\n",
      "2025-01-10    190\n"
     ]
    }
   ],
   "source": [
    "# Convert column to datetime format:\n",
    "df_ts[\"date\"] = pd.to_datetime(df_ts[\"date\"])\n",
    "df_ts.set_index('date', inplace=True)\n",
    "print(df_ts)"
   ]
  },
  {
   "cell_type": "markdown",
   "id": "2961b4a4-4ffe-4865-8180-dcc7bdd70927",
   "metadata": {},
   "source": [
    "Resampling (change frequency of time series)"
   ]
  },
  {
   "cell_type": "code",
   "execution_count": 15,
   "id": "3d5ccb37-42d7-475f-b7ce-8f0df75640fa",
   "metadata": {
    "scrolled": true
   },
   "outputs": [
    {
     "data": {
      "text/html": [
       "<div>\n",
       "<style scoped>\n",
       "    .dataframe tbody tr th:only-of-type {\n",
       "        vertical-align: middle;\n",
       "    }\n",
       "\n",
       "    .dataframe tbody tr th {\n",
       "        vertical-align: top;\n",
       "    }\n",
       "\n",
       "    .dataframe thead th {\n",
       "        text-align: right;\n",
       "    }\n",
       "</style>\n",
       "<table border=\"1\" class=\"dataframe\">\n",
       "  <thead>\n",
       "    <tr style=\"text-align: right;\">\n",
       "      <th></th>\n",
       "      <th>sales</th>\n",
       "      <th>rolling_avg</th>\n",
       "    </tr>\n",
       "    <tr>\n",
       "      <th>date</th>\n",
       "      <th></th>\n",
       "      <th></th>\n",
       "    </tr>\n",
       "  </thead>\n",
       "  <tbody>\n",
       "    <tr>\n",
       "      <th>2025-01-05</th>\n",
       "      <td>660</td>\n",
       "      <td>640.000000</td>\n",
       "    </tr>\n",
       "    <tr>\n",
       "      <th>2025-01-12</th>\n",
       "      <td>830</td>\n",
       "      <td>848.333333</td>\n",
       "    </tr>\n",
       "  </tbody>\n",
       "</table>\n",
       "</div>"
      ],
      "text/plain": [
       "            sales  rolling_avg\n",
       "date                          \n",
       "2025-01-05    660   640.000000\n",
       "2025-01-12    830   848.333333"
      ]
     },
     "execution_count": 15,
     "metadata": {},
     "output_type": "execute_result"
    }
   ],
   "source": [
    "# Use .resample() to aggregate by different time periods.\n",
    "# Daily to Weekly (mean):\n",
    "df_ts.resample('W').sum()\n",
    "\n",
    "# Daily to Monthly (sum):\n",
    "# df_ts.resample('M').sum()"
   ]
  },
  {
   "cell_type": "markdown",
   "id": "16ec2a2e-9bd6-4be4-8cb2-7479c80372f6",
   "metadata": {},
   "source": [
    "Rolling Statistics"
   ]
  },
  {
   "cell_type": "code",
   "execution_count": 17,
   "id": "abfb6f78-14d3-4c50-967c-dfea492fbc13",
   "metadata": {
    "scrolled": true
   },
   "outputs": [
    {
     "name": "stdout",
     "output_type": "stream",
     "text": [
      "            sales  rolling_avg\n",
      "date                          \n",
      "2025-01-01    100   110.000000\n",
      "2025-01-02    120   103.333333\n",
      "2025-01-03     90   120.000000\n",
      "2025-01-04    150   146.666667\n",
      "2025-01-05    200   160.000000\n",
      "2025-01-06    130   166.666667\n",
      "2025-01-07    170   160.000000\n",
      "2025-01-08    180   170.000000\n",
      "2025-01-09    160   176.666667\n",
      "2025-01-10    190   175.000000\n"
     ]
    }
   ],
   "source": [
    "# Use .rolling() to apply moving windows (e.g., moving average).\n",
    "\n",
    "# Note : The first (window - 1) rows will be NaN\n",
    "\n",
    "# 3-day rolling mean:\n",
    "df_ts['sales'].rolling(window=3).mean()\n",
    "\n",
    "# Rolling sum:\n",
    "df_ts['sales'].rolling(window=3).sum()\n",
    "\n",
    "# 3-day moving average of sales, resampled weekly\n",
    "df_ts['sales'].resample('D').mean().rolling(window=2).mean()\n",
    "\n",
    "# Rolling with min_periods and center\n",
    "df_ts['rolling_avg'] = df_ts['sales'].rolling(window=3, min_periods=2, center=True).mean()\n",
    "print(df_ts)"
   ]
  },
  {
   "cell_type": "raw",
   "id": "6c949247-e1f7-49c8-ac7a-14ba3d929228",
   "metadata": {},
   "source": [
    "| Task               | Code Example                  |\n",
    "| ------------------ | ----------------------------- |\n",
    "| Parse datetime     | `pd.to_datetime(df['Date'])`  |\n",
    "| Set datetime index | `df.set_index('Date')`        |\n",
    "| Resample weekly    | `df.resample('W').mean()`     |\n",
    "| Rolling mean       | `df['col'].rolling(3).mean()` |\n",
    "| Rolling sum        | `df['col'].rolling(7).sum()`  |"
   ]
  },
  {
   "cell_type": "markdown",
   "id": "e9d0ac87-4fdf-4a13-b938-7f74b4615b71",
   "metadata": {},
   "source": [
    "Pivot Tables & Cross-Tabulations in Pandas"
   ]
  },
  {
   "cell_type": "code",
   "execution_count": 25,
   "id": "39ada164-44de-4383-8671-0735f3cb5b70",
   "metadata": {},
   "outputs": [
    {
     "data": {
      "text/html": [
       "<div>\n",
       "<style scoped>\n",
       "    .dataframe tbody tr th:only-of-type {\n",
       "        vertical-align: middle;\n",
       "    }\n",
       "\n",
       "    .dataframe tbody tr th {\n",
       "        vertical-align: top;\n",
       "    }\n",
       "\n",
       "    .dataframe thead th {\n",
       "        text-align: right;\n",
       "    }\n",
       "</style>\n",
       "<table border=\"1\" class=\"dataframe\">\n",
       "  <thead>\n",
       "    <tr style=\"text-align: right;\">\n",
       "      <th></th>\n",
       "      <th>Sales</th>\n",
       "    </tr>\n",
       "    <tr>\n",
       "      <th>Department</th>\n",
       "      <th></th>\n",
       "    </tr>\n",
       "  </thead>\n",
       "  <tbody>\n",
       "    <tr>\n",
       "      <th>Finance</th>\n",
       "      <td>1300.000000</td>\n",
       "    </tr>\n",
       "    <tr>\n",
       "      <th>HR</th>\n",
       "      <td>1033.333333</td>\n",
       "    </tr>\n",
       "    <tr>\n",
       "      <th>IT</th>\n",
       "      <td>1600.000000</td>\n",
       "    </tr>\n",
       "  </tbody>\n",
       "</table>\n",
       "</div>"
      ],
      "text/plain": [
       "                  Sales\n",
       "Department             \n",
       "Finance     1300.000000\n",
       "HR          1033.333333\n",
       "IT          1600.000000"
      ]
     },
     "execution_count": 25,
     "metadata": {},
     "output_type": "execute_result"
    }
   ],
   "source": [
    "# Pivot Table (pivot_table())\n",
    "# A pivot table is used to summarize and aggregate data based on multiple dimensions.\n",
    "\n",
    "# Syntax:\n",
    "# pd.pivot_table(data, index=..., columns=..., values=..., aggfunc=...)\n",
    "\n",
    "df = pd.DataFrame({\n",
    "    'Employee': ['Alice', 'Bob', 'Alice', 'David', 'Bob', 'Alice'],\n",
    "    'Department': ['HR', 'IT', 'HR', 'Finance', 'IT', 'HR'],\n",
    "    'Month': ['Jan', 'Jan', 'Feb', 'Jan', 'Feb', 'Mar'],\n",
    "    'Sales': [1000, 1500, 1200, 1300, 1700, 900]\n",
    "})\n",
    "\n",
    "# Example 1: Total sales per employee\n",
    "pd.pivot_table(df, index=\"Employee\", values=\"Sales\", aggfunc=\"sum\")\n",
    "pd.pivot_table(df, index=\"Employee\", values=\"Sales\", aggfunc=\"mean\")\n",
    "\n",
    "# Example 2: Sales by Employee and Month\n",
    "pd.pivot_table(df, index='Employee', columns='Month', values='Sales', aggfunc='sum', fill_value=0)\n",
    "\n",
    "# Example 3: Average sales by Department\n",
    "pd.pivot_table(df, index='Department', values='Sales', aggfunc='mean')"
   ]
  },
  {
   "cell_type": "code",
   "execution_count": 29,
   "id": "863719ab-4d07-4d8c-bbed-3d649b810f5e",
   "metadata": {},
   "outputs": [
    {
     "data": {
      "text/html": [
       "<div>\n",
       "<style scoped>\n",
       "    .dataframe tbody tr th:only-of-type {\n",
       "        vertical-align: middle;\n",
       "    }\n",
       "\n",
       "    .dataframe tbody tr th {\n",
       "        vertical-align: top;\n",
       "    }\n",
       "\n",
       "    .dataframe thead th {\n",
       "        text-align: right;\n",
       "    }\n",
       "</style>\n",
       "<table border=\"1\" class=\"dataframe\">\n",
       "  <thead>\n",
       "    <tr style=\"text-align: right;\">\n",
       "      <th>Gender</th>\n",
       "      <th>Female</th>\n",
       "      <th>Male</th>\n",
       "    </tr>\n",
       "    <tr>\n",
       "      <th>Department</th>\n",
       "      <th></th>\n",
       "      <th></th>\n",
       "    </tr>\n",
       "  </thead>\n",
       "  <tbody>\n",
       "    <tr>\n",
       "      <th>Finance</th>\n",
       "      <td>0.5</td>\n",
       "      <td>0.5</td>\n",
       "    </tr>\n",
       "    <tr>\n",
       "      <th>HR</th>\n",
       "      <td>0.5</td>\n",
       "      <td>0.5</td>\n",
       "    </tr>\n",
       "    <tr>\n",
       "      <th>IT</th>\n",
       "      <td>0.0</td>\n",
       "      <td>1.0</td>\n",
       "    </tr>\n",
       "  </tbody>\n",
       "</table>\n",
       "</div>"
      ],
      "text/plain": [
       "Gender      Female  Male\n",
       "Department              \n",
       "Finance        0.5   0.5\n",
       "HR             0.5   0.5\n",
       "IT             0.0   1.0"
      ]
     },
     "execution_count": 29,
     "metadata": {},
     "output_type": "execute_result"
    }
   ],
   "source": [
    "# Cross-Tabulation (pd.crosstab())\n",
    "# A cross-tab (like an Excel contingency table) is used to compute frequency counts between two or more categories.\n",
    "\n",
    "df = pd.DataFrame({\n",
    "    'Gender': ['Male', 'Female', 'Female', 'Male', 'Male', 'Male'],\n",
    "    'Department': ['IT', 'HR', 'Finance', 'Finance', 'IT', 'HR']\n",
    "})\n",
    "\n",
    "# Example 1: Frequency of gender in departments\n",
    "pd.crosstab(df['Department'], df['Gender'])\n",
    "\n",
    "# Example 2: With margins (totals)\n",
    "pd.crosstab(df['Department'], df['Gender'], margins=True)\n",
    "\n",
    "# Example 3: Normalize (percent by row)\n",
    "pd.crosstab(df['Department'], df['Gender'], normalize='index')"
   ]
  },
  {
   "cell_type": "raw",
   "id": "606f23c2-8a01-4e2c-8391-5c9696b2cfea",
   "metadata": {},
   "source": [
    "| Function        | Purpose                       | Key Feature                      |\n",
    "| --------------- | ----------------------------- | -------------------------------- |\n",
    "| `pivot_table()` | Aggregation (sum, mean, etc.) | Works with numerical data        |\n",
    "| `crosstab()`    | Frequency counts (like Excel) | Great for categorical comparison |"
   ]
  },
  {
   "cell_type": "markdown",
   "id": "0256fe48-8437-448d-8265-d96f14d09a60",
   "metadata": {},
   "source": [
    "Window Functions in Pandas"
   ]
  },
  {
   "cell_type": "code",
   "execution_count": 44,
   "id": "8fad0fd3-9b69-4860-91c4-e49cb33b18bb",
   "metadata": {},
   "outputs": [
    {
     "data": {
      "text/plain": [
       "Day\n",
       "2024-01-01    100.000000\n",
       "2024-01-02    113.333333\n",
       "2024-01-03    100.000000\n",
       "2024-01-04    126.666667\n",
       "2024-01-05    164.516129\n",
       "2024-01-06    146.984127\n",
       "2024-01-07    158.582677\n",
       "Name: Sales, dtype: float64"
      ]
     },
     "execution_count": 44,
     "metadata": {},
     "output_type": "execute_result"
    }
   ],
   "source": [
    "data = {\n",
    "    'Day': pd.date_range(start='2024-01-01', periods=7, freq='D'),\n",
    "    'Sales': [100, 120, 90, 150, 200, 130, 170]\n",
    "}\n",
    "\n",
    "df = pd.DataFrame(data).set_index('Day')\n",
    "# df\n",
    "\n",
    "# .rolling() — Moving Window\n",
    "# df[\"Sales\"].rolling(window=3).mean()\n",
    "# df[\"Sales\"].rolling(window=3).max()\n",
    "# df[\"Sales\"].rolling(window=3).std()\n",
    "\n",
    "# .expanding() — Cumulative from the start\n",
    "df[\"Expanding Mean\"] = df['Sales'].expanding().mean()\n",
    "\n",
    "# .ewm() — Exponential Weighted Average\n",
    "# With smoothing factor (alpha):\n",
    "df['Sales'].ewm(alpha=0.5).mean()"
   ]
  },
  {
   "cell_type": "raw",
   "id": "a8bcad01-efa2-47c5-b86e-c6b2f0c6c26f",
   "metadata": {},
   "source": [
    "| Method         | Purpose                    | Best For                          |\n",
    "| -------------- | -------------------------- | --------------------------------- |\n",
    "| `.rolling()`   | Fixed-size moving window   | Short-term trends / smoothing     |\n",
    "| `.expanding()` | Cumulative from start      | Running averages                  |\n",
    "| `.ewm()`       | Exponentially weighted avg | Real-time smoothing / forecasting |"
   ]
  }
 ],
 "metadata": {
  "kernelspec": {
   "display_name": "Python 3 (ipykernel)",
   "language": "python",
   "name": "python3"
  },
  "language_info": {
   "codemirror_mode": {
    "name": "ipython",
    "version": 3
   },
   "file_extension": ".py",
   "mimetype": "text/x-python",
   "name": "python",
   "nbconvert_exporter": "python",
   "pygments_lexer": "ipython3",
   "version": "3.13.3"
  }
 },
 "nbformat": 4,
 "nbformat_minor": 5
}
