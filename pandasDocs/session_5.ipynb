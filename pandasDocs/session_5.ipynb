{
 "cells": [
  {
   "cell_type": "markdown",
   "id": "675f018f-d89b-4463-91d8-3ae0a209ce08",
   "metadata": {},
   "source": [
    "# Merging, Joining, Concatenating in Pandas\n",
    "\n",
    "## 🔗 1. concat() Method\n",
    "\n",
    "**hat is concat()?**\n",
    "Used to **stack** multiple DataFrames either **vertically (row-wise)** or **horizontally (column-wise)**.\n",
    "\n",
    "Like putting class attendance of **Class A + Class B** into one big file."
   ]
  },
  {
   "cell_type": "code",
   "execution_count": 5,
   "id": "ac8b5a2f-45ad-4394-bd10-0eca5419be90",
   "metadata": {},
   "outputs": [
    {
     "data": {
      "text/html": [
       "<div>\n",
       "<style scoped>\n",
       "    .dataframe tbody tr th:only-of-type {\n",
       "        vertical-align: middle;\n",
       "    }\n",
       "\n",
       "    .dataframe tbody tr th {\n",
       "        vertical-align: top;\n",
       "    }\n",
       "\n",
       "    .dataframe thead th {\n",
       "        text-align: right;\n",
       "    }\n",
       "</style>\n",
       "<table border=\"1\" class=\"dataframe\">\n",
       "  <thead>\n",
       "    <tr style=\"text-align: right;\">\n",
       "      <th></th>\n",
       "      <th>0</th>\n",
       "      <th>0</th>\n",
       "    </tr>\n",
       "  </thead>\n",
       "  <tbody>\n",
       "    <tr>\n",
       "      <th>0</th>\n",
       "      <td>1</td>\n",
       "      <td>11</td>\n",
       "    </tr>\n",
       "    <tr>\n",
       "      <th>1</th>\n",
       "      <td>2</td>\n",
       "      <td>22</td>\n",
       "    </tr>\n",
       "    <tr>\n",
       "      <th>2</th>\n",
       "      <td>3</td>\n",
       "      <td>33</td>\n",
       "    </tr>\n",
       "    <tr>\n",
       "      <th>3</th>\n",
       "      <td>4</td>\n",
       "      <td>44</td>\n",
       "    </tr>\n",
       "    <tr>\n",
       "      <th>4</th>\n",
       "      <td>5</td>\n",
       "      <td>55</td>\n",
       "    </tr>\n",
       "  </tbody>\n",
       "</table>\n",
       "</div>"
      ],
      "text/plain": [
       "   0   0\n",
       "0  1  11\n",
       "1  2  22\n",
       "2  3  33\n",
       "3  4  44\n",
       "4  5  55"
      ]
     },
     "execution_count": 5,
     "metadata": {},
     "output_type": "execute_result"
    }
   ],
   "source": [
    "import pandas as pd\n",
    "df1 = pd.DataFrame([1,2,3,4,5])\n",
    "df2 = pd.DataFrame([11,22,33,44,55])\n",
    "pd.concat([df1, df2], axis=0) # row-wise (default)\n",
    "pd.concat([df1, df2], axis=1) # col-wise"
   ]
  },
  {
   "cell_type": "markdown",
   "id": "71385d17-ba74-4ac7-9867-df300eca34f7",
   "metadata": {},
   "source": [
    "## 🔀 2. merge() Method\n",
    "**📘 What is merge()?**\n",
    "- Like SQL join.\n",
    "- Combines data from two tables based on a **common column**.\n",
    "\n",
    "**Syntax:**\n",
    "`pd.merge(df1, df2, on='common_column', how='inner')`\n",
    "\n",
    "| `how` option | Meaning                         |\n",
    "| ------------ | ------------------------------- |\n",
    "| `'inner'`    | Only matching rows              |\n",
    "| `'left'`     | All rows from left, match right |\n",
    "| `'right'`    | All rows from right, match left |\n",
    "| `'outer'`    | All rows from both sides        |\n"
   ]
  },
  {
   "cell_type": "code",
   "execution_count": 11,
   "id": "aa8d627b-b853-4e22-9d2a-ce0c9445f9bb",
   "metadata": {},
   "outputs": [
    {
     "data": {
      "text/html": [
       "<div>\n",
       "<style scoped>\n",
       "    .dataframe tbody tr th:only-of-type {\n",
       "        vertical-align: middle;\n",
       "    }\n",
       "\n",
       "    .dataframe tbody tr th {\n",
       "        vertical-align: top;\n",
       "    }\n",
       "\n",
       "    .dataframe thead th {\n",
       "        text-align: right;\n",
       "    }\n",
       "</style>\n",
       "<table border=\"1\" class=\"dataframe\">\n",
       "  <thead>\n",
       "    <tr style=\"text-align: right;\">\n",
       "      <th></th>\n",
       "      <th>StudentID</th>\n",
       "      <th>Name</th>\n",
       "      <th>Class</th>\n",
       "    </tr>\n",
       "  </thead>\n",
       "  <tbody>\n",
       "    <tr>\n",
       "      <th>0</th>\n",
       "      <td>1</td>\n",
       "      <td>Alice</td>\n",
       "      <td>A</td>\n",
       "    </tr>\n",
       "    <tr>\n",
       "      <th>1</th>\n",
       "      <td>2</td>\n",
       "      <td>Bob</td>\n",
       "      <td>B</td>\n",
       "    </tr>\n",
       "    <tr>\n",
       "      <th>2</th>\n",
       "      <td>3</td>\n",
       "      <td>Charlie</td>\n",
       "      <td>NaN</td>\n",
       "    </tr>\n",
       "    <tr>\n",
       "      <th>3</th>\n",
       "      <td>4</td>\n",
       "      <td>NaN</td>\n",
       "      <td>C</td>\n",
       "    </tr>\n",
       "  </tbody>\n",
       "</table>\n",
       "</div>"
      ],
      "text/plain": [
       "   StudentID     Name Class\n",
       "0          1    Alice     A\n",
       "1          2      Bob     B\n",
       "2          3  Charlie   NaN\n",
       "3          4      NaN     C"
      ]
     },
     "execution_count": 11,
     "metadata": {},
     "output_type": "execute_result"
    }
   ],
   "source": [
    "students = pd.DataFrame({\n",
    "    'StudentID': [1, 2, 3],\n",
    "    'Name': ['Alice', 'Bob', 'Charlie']\n",
    "})\n",
    "\n",
    "classes = pd.DataFrame({\n",
    "    'StudentID': [1, 2, 4],\n",
    "    'Class': ['A', 'B', 'C']\n",
    "})\n",
    "\n",
    "merged = pd.merge(students, classes, on='StudentID', how='inner')\n",
    "pd.merge(students, classes, on='StudentID', how='left')\n",
    "pd.merge(students, classes, on='StudentID', how='outer')\n",
    "\n",
    "\n"
   ]
  },
  {
   "cell_type": "markdown",
   "id": "25e20736-5cd9-41ef-8eaa-b1d47ee285f6",
   "metadata": {},
   "source": [
    "## 🤝 3. join() Method\n",
    "**📘 What is join()?**\n",
    "\n",
    "- Joins DataFrames on **index**.\n",
    "- Like matching two notebooks page-by-page 📘.\n",
    "\n",
    "**Syntax:**\n",
    "\n",
    "`df1.join(df2, how='left')`\n"
   ]
  },
  {
   "cell_type": "code",
   "execution_count": 13,
   "id": "90763227-8862-4953-821d-2524190fc2ac",
   "metadata": {},
   "outputs": [
    {
     "name": "stdout",
     "output_type": "stream",
     "text": [
      "       Marks  Age\n",
      "Alice     80   21\n",
      "Bob       90   22\n"
     ]
    }
   ],
   "source": [
    "df1 = pd.DataFrame({'Marks': [80, 90]}, index=['Alice', 'Bob'])\n",
    "df2 = pd.DataFrame({'Age': [21, 22]}, index=['Alice', 'Bob'])\n",
    "\n",
    "result = df1.join(df2)\n",
    "print(result)\n"
   ]
  },
  {
   "cell_type": "markdown",
   "id": "cdcfc596-f19c-4412-b8c5-0ad1185de392",
   "metadata": {},
   "source": [
    "| Method     | Use Case                             | Key Column Required? | Based on Index? |\n",
    "| ---------- | ------------------------------------ | -------------------- | --------------- |\n",
    "| `concat()` | Stack tables                         | ❌ No                 | ❌ Not required  |\n",
    "| `merge()`  | SQL-style joins (inner, outer, etc.) | ✅ Yes                | ❌               |\n",
    "| `join()`   | Join on index                        | ❌ Optional           | ✅ Yes           |\n"
   ]
  },
  {
   "cell_type": "code",
   "execution_count": null,
   "id": "688ef244-8549-4603-ae14-35683a9629f5",
   "metadata": {},
   "outputs": [],
   "source": []
  }
 ],
 "metadata": {
  "kernelspec": {
   "display_name": "Python 3 (ipykernel)",
   "language": "python",
   "name": "python3"
  },
  "language_info": {
   "codemirror_mode": {
    "name": "ipython",
    "version": 3
   },
   "file_extension": ".py",
   "mimetype": "text/x-python",
   "name": "python",
   "nbconvert_exporter": "python",
   "pygments_lexer": "ipython3",
   "version": "3.13.5"
  }
 },
 "nbformat": 4,
 "nbformat_minor": 5
}
