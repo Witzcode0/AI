{
 "cells": [
  {
   "cell_type": "code",
   "execution_count": 30,
   "id": "b6753be3-fc3a-4584-96d8-e0437e15b26d",
   "metadata": {},
   "outputs": [],
   "source": [
    "from selenium import webdriver\n",
    "from selenium.webdriver.chrome.service import Service\n",
    "from selenium.webdriver.chrome.options import Options\n",
    "from selenium.webdriver.common.by import By\n",
    "from selenium.webdriver.support.ui import WebDriverWait\n",
    "from selenium.webdriver.support import expected_conditions as EC\n",
    "import time\n",
    "import pandas as pd\n",
    "\n",
    "# Set up Chrome options (Optional for headless mode)\n",
    "chrome_options = Options()\n",
    "chrome_options.add_argument(\"--headless\")  # Comment this line if you want to see the browser\n",
    "\n",
    "# Specify the path to your chromedriver.exe\n",
    "service = Service(\"C:/BITBRIJESHSIR/upgrade/AI/Selenium/chromedriver-win64/chromedriver.exe\")\n",
    "\n",
    "# Initialize the WebDriver\n",
    "driver = webdriver.Chrome(service=service, options=chrome_options)\n",
    "\n",
    "# Open the target URL\n",
    "driver.get(\"https://www.worldometers.info/geography/how-many-countries-are-there-in-the-world/\")\n",
    "\n",
    "# Wait for the list to be loaded on the page\n",
    "WebDriverWait(driver, 10).until(\n",
    "    EC.presence_of_all_elements_located((By.CSS_SELECTOR, \"table\"))\n",
    ")\n",
    "\n",
    "# Find all the list items containing technology links\n",
    "country_elements = driver.find_elements(By.CSS_SELECTOR, \"table tbody tr\")\n",
    "country_elements\n",
    "# Extract and print the technology names and their URLs\n",
    "countries = []\n",
    "for country in country_elements:\n",
    "    td_elements = country.find_elements(By.TAG_NAME, \"td\")\n",
    "    country = {}\n",
    "    country[\"No\"] = td_elements[0].text\n",
    "    country[\"Country\"] = td_elements[1].text\n",
    "    country[\"Population(2025)\"] = td_elements[2].text\n",
    "    country[\"World Share\"] = td_elements[3].text\n",
    "    country[\"Land Area km2\"] = td_elements[4].text\n",
    "    countries.append(country)\n",
    "\n",
    "df = pd.DataFrame(countries)\n",
    "df.to_excel(\"countries.xlsx\", index=False, engine='openpyxl')\n",
    "\n",
    "# Close the browser window after scraping\n",
    "# driver.quit()\n"
   ]
  },
  {
   "cell_type": "code",
   "execution_count": null,
   "id": "bad7d6e9-c461-4bde-8a7a-4a8d2686fb80",
   "metadata": {},
   "outputs": [],
   "source": []
  }
 ],
 "metadata": {
  "kernelspec": {
   "display_name": "Python 3 (ipykernel)",
   "language": "python",
   "name": "python3"
  },
  "language_info": {
   "codemirror_mode": {
    "name": "ipython",
    "version": 3
   },
   "file_extension": ".py",
   "mimetype": "text/x-python",
   "name": "python",
   "nbconvert_exporter": "python",
   "pygments_lexer": "ipython3",
   "version": "3.13.5"
  }
 },
 "nbformat": 4,
 "nbformat_minor": 5
}
