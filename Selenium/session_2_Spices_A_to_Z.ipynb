{
 "cells": [
  {
   "cell_type": "code",
   "execution_count": 48,
   "id": "b7dcf92b-b423-4a16-95ba-5d30baa61bc7",
   "metadata": {},
   "outputs": [
    {
     "name": "stdout",
     "output_type": "stream",
     "text": [
      "                     spice_name  \\\n",
      "0    Adobo, Salt-Free Seasoning   \n",
      "1                  Ajowan Seeds   \n",
      "2      Allspice Berries, Ground   \n",
      "3       Allspice Berries, Whole   \n",
      "4                Amchoor Powder   \n",
      "..                          ...   \n",
      "280           Virtual Gift Card   \n",
      "281          Vulcan's Fire Salt   \n",
      "282        World's Fair BBQ Rub   \n",
      "283           Yuzu Kosho Powder   \n",
      "284                     Za'atar   \n",
      "\n",
      "                                              variants  \n",
      "0    [{'packaging_type': 'Jar', 'weight': '2.6oz.',...  \n",
      "1    [{'packaging_type': 'Flatpack', 'weight': '1.9...  \n",
      "2    [{'packaging_type': 'Jar', 'weight': '2.2oz.',...  \n",
      "3    [{'packaging_type': 'Flatpack', 'weight': '1.5...  \n",
      "4    [{'packaging_type': 'Flatpack', 'weight': '2.5...  \n",
      "..                                                 ...  \n",
      "280  [{'price': '$25.00'}, {'price': '$50.00'}, {'p...  \n",
      "281  [{'packaging_type': 'Jar', 'weight': '2.5oz.',...  \n",
      "282  [{'packaging_type': 'Jar', 'weight': '2.7oz.',...  \n",
      "283  [{'packaging_type': 'Jar', 'weight': '2.5oz.',...  \n",
      "284  [{'packaging_type': 'Jar', 'weight': '1.6oz.',...  \n",
      "\n",
      "[285 rows x 2 columns]\n"
     ]
    }
   ],
   "source": [
    "from selenium import webdriver\n",
    "from selenium.webdriver.chrome.service import Service\n",
    "from selenium.webdriver.chrome.options import Options\n",
    "from selenium.webdriver.common.by import By\n",
    "from selenium.webdriver.support.ui import WebDriverWait\n",
    "from selenium.webdriver.support import expected_conditions as EC\n",
    "import time\n",
    "import pandas as pd\n",
    "import string\n",
    "\n",
    "# Set up Chrome options (Optional for headless mode)\n",
    "chrome_options = Options()\n",
    "chrome_options.add_argument(\"--headless\")  # Comment this line if you want to see the browser\n",
    "\n",
    "# Specify the path to your chromedriver.exe\n",
    "service = Service(\"C:/BITBRIJESHSIR/upgrade/AI/Selenium/chromedriver-win64/chromedriver.exe\")\n",
    "\n",
    "# Initialize the WebDriver\n",
    "driver = webdriver.Chrome(service=service, options=chrome_options)\n",
    "\n",
    "spices = []\n",
    "\n",
    "for letter in string.ascii_lowercase[:26]:  # Looping from 'a' to 'z'\n",
    "    # Open the target URL\n",
    "    driver.get(f\"https://www.thespicehouse.com/collections/letter-{letter}\")\n",
    "\n",
    "    # Wait for the product list to load on the page\n",
    "    WebDriverWait(driver, 10).until(\n",
    "        EC.presence_of_all_elements_located((By.CLASS_NAME, \"products-list\"))\n",
    "    )\n",
    "\n",
    "    # Find all product rows on the page\n",
    "    products_elements = driver.find_elements(By.CLASS_NAME, \"product-row\")\n",
    "    \n",
    "    for product in products_elements:\n",
    "        spice = {}  # Initialize a dictionary for each spice\n",
    "        \n",
    "        # Extract the spice name (product name)\n",
    "        item = product.find_elements(By.TAG_NAME, \"a\")\n",
    "        if len(item) > 0:\n",
    "            spice_name = item[0].find_elements(By.TAG_NAME, \"div\")[1].find_elements(By.TAG_NAME, \"h3\")[0].text\n",
    "            spice[\"spice_name\"] = spice_name\n",
    "        \n",
    "        # Extract variants (packaging, weight, price)\n",
    "        variants = product.find_elements(By.CLASS_NAME, \"product__variants\")\n",
    "        if variants:\n",
    "            variant_details = []  \n",
    "\n",
    "            for variant in variants[0].find_elements(By.TAG_NAME, \"option\"):\n",
    "                variant_data = {}\n",
    "                variant_title = variant.get_attribute(\"data-variant-title\")\n",
    "                if variant_title:\n",
    "                    variant_split = variant_title.split(\",\")\n",
    "                    if len(variant_split) > 1:\n",
    "                        variant_data[\"packaging_type\"] = variant_split[0]\n",
    "                        variant_data[\"weight\"] = variant_split[1].strip()\n",
    "                variant_data[\"price\"] = variant.get_attribute(\"data-price\")\n",
    "                \n",
    "                variant_details.append(variant_data)\n",
    "            \n",
    "            spice[\"variants\"] = variant_details\n",
    "        \n",
    "        spices.append(spice)\n",
    "\n",
    "driver.quit()\n",
    "\n",
    "df = pd.DataFrame(spices)\n",
    "\n",
    "df.to_excel(\"spices.xlsx\", index=False, engine='openpyxl')  # Save as Excel\n",
    "\n",
    "print(df)\n"
   ]
  },
  {
   "cell_type": "code",
   "execution_count": 52,
   "id": "932d9177-a3cc-41b2-afa1-469543312dbe",
   "metadata": {},
   "outputs": [
    {
     "name": "stdout",
     "output_type": "stream",
     "text": [
      "Scraping complete. Data saved to spices.json.\n"
     ]
    }
   ],
   "source": [
    "import json\n",
    "with open(\"spices.json\", \"w\", encoding=\"utf-8\") as json_file:\n",
    "    json.dump(spices, json_file, indent=4, ensure_ascii=False)\n",
    "\n",
    "print(\"Scraping complete. Data saved to spices.json.\")"
   ]
  },
  {
   "cell_type": "code",
   "execution_count": null,
   "id": "12669559-c37b-447f-91da-4cadeab65bc7",
   "metadata": {},
   "outputs": [],
   "source": []
  }
 ],
 "metadata": {
  "kernelspec": {
   "display_name": "Python 3 (ipykernel)",
   "language": "python",
   "name": "python3"
  },
  "language_info": {
   "codemirror_mode": {
    "name": "ipython",
    "version": 3
   },
   "file_extension": ".py",
   "mimetype": "text/x-python",
   "name": "python",
   "nbconvert_exporter": "python",
   "pygments_lexer": "ipython3",
   "version": "3.13.5"
  }
 },
 "nbformat": 4,
 "nbformat_minor": 5
}
