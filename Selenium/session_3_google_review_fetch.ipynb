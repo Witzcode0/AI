{
 "cells": [
  {
   "cell_type": "code",
   "execution_count": 5,
   "id": "c768c2d8-3cf1-4581-84c3-755bd3916b75",
   "metadata": {},
   "outputs": [
    {
     "ename": "AttributeError",
     "evalue": "'str' object has no attribute 'get_attribute'",
     "output_type": "error",
     "traceback": [
      "\u001b[31m---------------------------------------------------------------------------\u001b[39m",
      "\u001b[31mAttributeError\u001b[39m                            Traceback (most recent call last)",
      "\u001b[36mCell\u001b[39m\u001b[36m \u001b[39m\u001b[32mIn[5]\u001b[39m\u001b[32m, line 23\u001b[39m\n\u001b[32m     21\u001b[39m \u001b[38;5;66;03m# Open Google search page for the business \"Bharat Futurist AI\"\u001b[39;00m\n\u001b[32m     22\u001b[39m search_url = \u001b[33m\"\u001b[39m\u001b[33mhttps://www.google.com/search?q=Bharat+Futurist+AI\u001b[39m\u001b[33m\"\u001b[39m\n\u001b[32m---> \u001b[39m\u001b[32m23\u001b[39m driver.get(\u001b[43msearch_url\u001b[49m\u001b[43m.\u001b[49m\u001b[43mget_attribute\u001b[49m())\n",
      "\u001b[31mAttributeError\u001b[39m: 'str' object has no attribute 'get_attribute'"
     ]
    }
   ],
   "source": [
    "from selenium import webdriver\n",
    "from selenium.webdriver.chrome.service import Service\n",
    "from selenium.webdriver.chrome.options import Options\n",
    "from selenium.webdriver.common.by import By\n",
    "from selenium.webdriver.support.ui import WebDriverWait\n",
    "from selenium.webdriver.support import expected_conditions as EC\n",
    "import time\n",
    "import json\n",
    "\n",
    "# Set up Chrome options\n",
    "chrome_options = Options()\n",
    "chrome_options.add_argument(\"--headless\")  # Optional: Headless mode (no UI)\n",
    "chrome_options.add_argument(\"--disable-gpu\")  # Disable GPU acceleration for headless mode\n",
    "\n",
    "# Path to your chromedriver executable\n",
    "service = Service(\"C:/BITBRIJESHSIR/upgrade/AI/Selenium/chromedriver-win64/chromedriver.exe\")\n",
    "\n",
    "# Initialize the WebDriver\n",
    "driver = webdriver.Chrome(service=service, options=chrome_options)\n",
    "\n",
    "# Open Google search page for the business \"Bharat Futurist AI\"\n",
    "search_url = \"https://www.google.com/search?q=Bharat+Futurist+AI\"\n",
    "driver.get(search_url.get_attribute())"
   ]
  },
  {
   "cell_type": "code",
   "execution_count": null,
   "id": "5b13f81e-836d-4bbd-8d9a-d2003ecec86f",
   "metadata": {},
   "outputs": [],
   "source": []
  }
 ],
 "metadata": {
  "kernelspec": {
   "display_name": "Python 3 (ipykernel)",
   "language": "python",
   "name": "python3"
  },
  "language_info": {
   "codemirror_mode": {
    "name": "ipython",
    "version": 3
   },
   "file_extension": ".py",
   "mimetype": "text/x-python",
   "name": "python",
   "nbconvert_exporter": "python",
   "pygments_lexer": "ipython3",
   "version": "3.13.5"
  }
 },
 "nbformat": 4,
 "nbformat_minor": 5
}
