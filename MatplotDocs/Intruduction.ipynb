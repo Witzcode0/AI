{
 "cells": [
  {
   "cell_type": "markdown",
   "id": "fc341feb-1624-424b-b2a1-2d113f4f6310",
   "metadata": {},
   "source": [
    " # What is Matplotlib?"
   ]
  },
  {
   "cell_type": "markdown",
   "id": "ffe1d24a-070b-4014-8eeb-0161a7af2052",
   "metadata": {},
   "source": [
    "# 📊 Introduction to Matplotlib\n",
    "\n",
    "**Matplotlib** is a powerful data visualization library in Python, widely used in:\n",
    "\n",
    "- Data Science  \n",
    "- Machine Learning  \n",
    "- Scientific Computing  \n",
    "\n",
    "It allows you to create a wide range of **static**, **animated**, and **interactive** plots.\n",
    "\n",
    "---\n",
    "\n",
    "## ✅ What You Can Do with Matplotlib\n",
    "\n",
    "- Create basic plots using `matplotlib.pyplot`\n",
    "- Put axis **labels** and **titles**\n",
    "- Create multiple plots (**subplots**) in the same figure\n",
    "- Change the **scales** of x and y axes\n",
    "- Create common types of plots:\n",
    "  - Line charts  \n",
    "  - Bar charts  \n",
    "  - Scatter plots  \n",
    "  - Histograms  \n",
    "  - Pie charts  \n",
    "  - Stem plots  \n",
    "  - Step plots  \n",
    "  - Box plots  \n",
    "  - Fill_Between plots\n",
    "\n",
    "---\n",
    "\n",
    "📚 [Matplotlib's official Documentation](https://matplotlib.org/2.0.2/api/pyplot_api.html#matplotlib.pyplot.plot)\n"
   ]
  },
  {
   "cell_type": "markdown",
   "id": "a02bbcb2-9e85-4b8d-a8d7-fdfa03368808",
   "metadata": {},
   "source": [
    "## How to Install Matplotlib"
   ]
  },
  {
   "cell_type": "code",
   "execution_count": 1,
   "id": "11337550-9162-4572-b32e-148072c02e22",
   "metadata": {},
   "outputs": [],
   "source": [
    "# !pip install matplotlib"
   ]
  },
  {
   "cell_type": "code",
   "execution_count": null,
   "id": "a1197231-277b-4868-9770-c7edde2f8e81",
   "metadata": {},
   "outputs": [],
   "source": []
  }
 ],
 "metadata": {
  "kernelspec": {
   "display_name": "Python 3 (ipykernel)",
   "language": "python",
   "name": "python3"
  },
  "language_info": {
   "codemirror_mode": {
    "name": "ipython",
    "version": 3
   },
   "file_extension": ".py",
   "mimetype": "text/x-python",
   "name": "python",
   "nbconvert_exporter": "python",
   "pygments_lexer": "ipython3",
   "version": "3.13.3"
  }
 },
 "nbformat": 4,
 "nbformat_minor": 5
}
