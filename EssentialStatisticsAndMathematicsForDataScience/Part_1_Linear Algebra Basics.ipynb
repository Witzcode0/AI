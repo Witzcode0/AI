{
 "cells": [
  {
   "cell_type": "markdown",
   "id": "c68795a4-0a4b-4fc1-a414-7ed0ae09a329",
   "metadata": {},
   "source": [
    "# 🧮 Part 1: Linear Algebra Basics\n",
    "Welcome to the child-friendly introduction to Linear Algebra for Data Science! Let's learn with simple words and practical examples.\n",
    "\n",
    "## 📌 What is a Vector?\n",
    "A vector is like a direction on a treasure map. It tells you how far to go in each direction.\n",
    "\n",
    "Example: [3, 4] means 3 steps right, 4 steps up.\n"
   ]
  },
  {
   "cell_type": "code",
   "execution_count": 1,
   "id": "a8c03fc9-32aa-4ef5-b57b-bc9b4f31a633",
   "metadata": {},
   "outputs": [
    {
     "name": "stdout",
     "output_type": "stream",
     "text": [
      "Vector: [1 2 3 4 5]\n"
     ]
    }
   ],
   "source": [
    "import numpy as np\n",
    "\n",
    "\n",
    "# Define a vector\n",
    "vector = np.array([1,2,3,4,5])\n",
    "print(\"Vector:\", vector)"
   ]
  },
  {
   "cell_type": "markdown",
   "id": "184b3953-bfb2-487e-b422-f8e8a39c6ccb",
   "metadata": {},
   "source": [
    "## ➕ Vector Operations\n",
    "You can add, subtract, or multiply vectors by a number."
   ]
  },
  {
   "cell_type": "code",
   "execution_count": 7,
   "id": "0eca367b-551d-4435-8ba1-064ff4a89f27",
   "metadata": {},
   "outputs": [
    {
     "data": {
      "text/plain": [
       "array([1, 2])"
      ]
     },
     "execution_count": 7,
     "metadata": {},
     "output_type": "execute_result"
    }
   ],
   "source": [
    "vector1 = np.array([1,2])\n",
    "vector2 = np.array([3,4])\n",
    "\n",
    "# Addition\n",
    "vector1 + vector2\n",
    "# Multiplication\n",
    "vector1 * vector2\n",
    "# Substraction\n",
    "vector1 - vector2\n",
    "# Division\n",
    "vector1 / vector2"
   ]
  },
  {
   "cell_type": "code",
   "execution_count": 8,
   "id": "e7d6c0a1-71c3-4857-88c4-4b45e1a3cdd7",
   "metadata": {},
   "outputs": [
    {
     "data": {
      "text/plain": [
       "array([2, 4])"
      ]
     },
     "execution_count": 8,
     "metadata": {},
     "output_type": "execute_result"
    }
   ],
   "source": [
    "# Scalar multiplication\n",
    "2 * vector1"
   ]
  },
  {
   "cell_type": "markdown",
   "id": "9054740b-170b-4857-82a2-443889fed44a",
   "metadata": {},
   "source": [
    "## 🔸 Dot Product\n",
    "It shows how similar two vectors are. If the result is large, they point in similar directions.\n",
    "\n",
    "- Formula: Multiply the numbers and add them.\n",
    "`→ [1, 2] • [3, 4] = (1×3) + (2×4) = 3 + 8 = 11`"
   ]
  },
  {
   "cell_type": "code",
   "execution_count": 10,
   "id": "3b6449e2-9433-45d8-82d9-78e6ea2aeb5d",
   "metadata": {},
   "outputs": [
    {
     "data": {
      "text/plain": [
       "np.int64(11)"
      ]
     },
     "execution_count": 10,
     "metadata": {},
     "output_type": "execute_result"
    }
   ],
   "source": [
    "# Dot Product\n",
    "dot_product = np.dot(vector1, vector2)\n",
    "dot_product"
   ]
  },
  {
   "cell_type": "markdown",
   "id": "6ff89905-9a82-4177-86c7-7130e7a36232",
   "metadata": {},
   "source": [
    "## 📏 Vector Norm (Length of a Vector)\n",
    "The norm tells us how long a vector is — like the length of a rope.\n",
    "\n",
    "- L2 Norm: The regular straight-line length.\n",
    "`→ For [3, 4], it’s √(3² + 4²) = √25 = 5`"
   ]
  },
  {
   "cell_type": "code",
   "execution_count": 11,
   "id": "a9891b0d-d0c9-4d97-9cf7-c3f417ee43a1",
   "metadata": {},
   "outputs": [
    {
     "data": {
      "text/plain": [
       "np.float64(3.7416573867739413)"
      ]
     },
     "execution_count": 11,
     "metadata": {},
     "output_type": "execute_result"
    }
   ],
   "source": [
    "# Vector Norm\n",
    "vector3 = np.array([1,2,3])\n",
    "length = np.linalg.norm(vector3)\n",
    "length"
   ]
  },
  {
   "cell_type": "markdown",
   "id": "e9a3b864-9094-49b7-986d-acfe33fff18b",
   "metadata": {},
   "source": [
    "## 📏 Extra: L3 Norm (Third Order Norm)\n",
    "\n",
    "The **L3 norm** is another way to measure the length of a vector, like L2 norm, but instead of squaring the numbers, it **cubes** them.\n",
    "\n",
    "### 🧮 Formula:\n",
    "$$\n",
    "L_3 = \\left( \\sum |x_i|^3 \\right)^{1/3}\n",
    "$$\n",
    "\n",
    "This means we:\n",
    "- Take the absolute value of each number\n",
    "- Raise it to the power of 3\n",
    "- Add them all together\n",
    "- Then take the cube root of the result\n"
   ]
  },
  {
   "cell_type": "code",
   "execution_count": 13,
   "id": "2254e3d7-1c18-4139-bb99-50f81e05b189",
   "metadata": {},
   "outputs": [
    {
     "name": "stdout",
     "output_type": "stream",
     "text": [
      "L3 Norm of [1,2,3]: 3.3019272488946263\n"
     ]
    }
   ],
   "source": [
    "# L3 Norm (Manually)\n",
    "def l3_norm(v):\n",
    "    return np.sum(np.abs(v)**3)**(1/3)\n",
    "\n",
    "print(\"L3 Norm of [1,2,3]:\", l3_norm(vector3))"
   ]
  },
  {
   "cell_type": "markdown",
   "id": "546f3086-3d82-4447-b7be-c60c17448562",
   "metadata": {},
   "source": [
    "## 🧾 What is a Matrix?\n",
    "A matrix is a table of numbers (like an Excel sheet).\n",
    "\n",
    "Example:\n",
    "```\n",
    "[ [1, 2],\n",
    "  [3, 4] ]\n",
    "```"
   ]
  },
  {
   "cell_type": "code",
   "execution_count": 14,
   "id": "b696a186-b23a-4865-87bc-539b883e3bde",
   "metadata": {},
   "outputs": [
    {
     "name": "stdout",
     "output_type": "stream",
     "text": [
      "Matrix:\n",
      " [[1 2]\n",
      " [3 4]]\n"
     ]
    }
   ],
   "source": [
    "# Define a matrix\n",
    "matrix = np.array([[1, 2], [3, 4]])\n",
    "print(\"Matrix:\\n\", matrix)"
   ]
  },
  {
   "cell_type": "markdown",
   "id": "15f4906d-1109-4c23-9132-301079d399ab",
   "metadata": {},
   "source": [
    "## ⚙️ Matrix Operations\n",
    "You can add, multiply, or transpose a matrix."
   ]
  },
  {
   "cell_type": "code",
   "execution_count": 16,
   "id": "2e73ec3c-e755-405c-82fa-88082bb239ac",
   "metadata": {},
   "outputs": [
    {
     "name": "stdout",
     "output_type": "stream",
     "text": [
      "Transpose : \n",
      " [[1 3]\n",
      " [2 4]]\n"
     ]
    }
   ],
   "source": [
    "# Transpose\n",
    "\n",
    "transpose = matrix.T\n",
    "print(\"Transpose : \\n\", transpose)"
   ]
  },
  {
   "cell_type": "code",
   "execution_count": 19,
   "id": "570fd418-9aa6-4f4e-959d-77dc5befbacd",
   "metadata": {},
   "outputs": [
    {
     "name": "stdout",
     "output_type": "stream",
     "text": [
      "Matrix × Transpose:\n",
      " [[ 5 11]\n",
      " [11 25]]\n"
     ]
    }
   ],
   "source": [
    "# Matrix multiplication\n",
    "multiplied = np.dot(matrix, transpose)\n",
    "print(\"Matrix × Transpose:\\n\", multiplied)"
   ]
  },
  {
   "cell_type": "markdown",
   "id": "270e71b5-4a63-4443-a273-a587293cbab6",
   "metadata": {},
   "source": [
    "## 🔄 Inverse and Determinant\n",
    "The **inverse** is like undoing the effect of the matrix. The **determinant** helps us know if an inverse exists.\n"
   ]
  },
  {
   "cell_type": "code",
   "execution_count": 22,
   "id": "f2348858-97dc-4191-b37e-1fee39659bbe",
   "metadata": {},
   "outputs": [
    {
     "name": "stdout",
     "output_type": "stream",
     "text": [
      "Determinant: -2.0\n",
      "Inverse:\n",
      " [[-2.   1. ]\n",
      " [ 1.5 -0.5]]\n"
     ]
    }
   ],
   "source": [
    "# Determinant and Inverse\n",
    "from numpy.linalg import det, inv\n",
    "\n",
    "# Calculate determinant\n",
    "determinant = det(matrix)\n",
    "print(\"Determinant:\", determinant)\n",
    "\n",
    "# Calculate inverse (if determinant is not zero)\n",
    "if determinant != 0:\n",
    "    inverse = inv(matrix)\n",
    "    print(\"Inverse:\\n\", inverse)\n",
    "else:\n",
    "    print(\"Inverse does not exist.\")"
   ]
  },
  {
   "cell_type": "markdown",
   "id": "f1ccc5f3-2aad-4453-9262-bb3a23f6f097",
   "metadata": {},
   "source": [
    "## 🔍 Eigenvalues and Eigenvectors\n",
    "These are special values and directions that help in data reduction (like PCA)."
   ]
  },
  {
   "cell_type": "code",
   "execution_count": 23,
   "id": "7623a25d-fad2-4db5-9c9d-078c78917d26",
   "metadata": {},
   "outputs": [
    {
     "name": "stdout",
     "output_type": "stream",
     "text": [
      "Eigenvalues: [-0.37228132  5.37228132]\n",
      "Eigenvectors:\n",
      " [[-0.82456484 -0.41597356]\n",
      " [ 0.56576746 -0.90937671]]\n"
     ]
    }
   ],
   "source": [
    "# Eigenvalues and Eigenvectors\n",
    "eigenvalues, eigenvectors = np.linalg.eig(matrix)\n",
    "print(\"Eigenvalues:\", eigenvalues)\n",
    "print(\"Eigenvectors:\\n\", eigenvectors)"
   ]
  },
  {
   "cell_type": "markdown",
   "id": "358a5ead-1b0b-4d88-9d28-e36aa19ae40e",
   "metadata": {},
   "source": [
    "## ✅ Where We Use This in Data Science\n",
    "- Data tables are stored as matrices\n",
    "- PCA uses eigenvalues to reduce columns\n",
    "- Neural networks use vectors and matrices to learn\n",
    "\n",
    "Great job! 🎉 You’ve finished Part 1 of your Data Science Math Journey!\n"
   ]
  },
  {
   "cell_type": "code",
   "execution_count": null,
   "id": "e22a2780-fe0b-45f1-9e66-91d731b710cf",
   "metadata": {},
   "outputs": [],
   "source": []
  }
 ],
 "metadata": {
  "kernelspec": {
   "display_name": "Python 3 (ipykernel)",
   "language": "python",
   "name": "python3"
  },
  "language_info": {
   "codemirror_mode": {
    "name": "ipython",
    "version": 3
   },
   "file_extension": ".py",
   "mimetype": "text/x-python",
   "name": "python",
   "nbconvert_exporter": "python",
   "pygments_lexer": "ipython3",
   "version": "3.13.3"
  }
 },
 "nbformat": 4,
 "nbformat_minor": 5
}
