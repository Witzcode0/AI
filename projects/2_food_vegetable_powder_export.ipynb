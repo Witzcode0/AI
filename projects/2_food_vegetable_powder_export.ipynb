{
 "cells": [
  {
   "cell_type": "code",
   "execution_count": 3,
   "id": "061bbaf8-da37-4a14-adb0-16a94186d4c8",
   "metadata": {},
   "outputs": [],
   "source": [
    "import numpy as np\n",
    "import pandas as pd\n",
    "import matplotlib.pyplot as plt\n",
    "import seaborn as sns"
   ]
  },
  {
   "cell_type": "code",
   "execution_count": 5,
   "id": "28b46848-8f63-4599-85d4-d85d700f1a14",
   "metadata": {},
   "outputs": [],
   "source": [
    "dataset = pd.read_excel(\"/upgrade/AI/projects/data/food_vegetable_powder_export.xlsx\")"
   ]
  },
  {
   "cell_type": "code",
   "execution_count": 7,
   "id": "130177dd-2fc9-4dd2-a7bb-fcd3c957793b",
   "metadata": {},
   "outputs": [
    {
     "data": {
      "text/html": [
       "<div>\n",
       "<style scoped>\n",
       "    .dataframe tbody tr th:only-of-type {\n",
       "        vertical-align: middle;\n",
       "    }\n",
       "\n",
       "    .dataframe tbody tr th {\n",
       "        vertical-align: top;\n",
       "    }\n",
       "\n",
       "    .dataframe thead th {\n",
       "        text-align: right;\n",
       "    }\n",
       "</style>\n",
       "<table border=\"1\" class=\"dataframe\">\n",
       "  <thead>\n",
       "    <tr style=\"text-align: right;\">\n",
       "      <th></th>\n",
       "      <th>Year</th>\n",
       "      <th>Product_Name</th>\n",
       "      <th>Category</th>\n",
       "      <th>Country</th>\n",
       "      <th>Continent</th>\n",
       "      <th>Import_Quantity_Tons</th>\n",
       "      <th>Export_Value_USD</th>\n",
       "      <th>Avg_Unit_Price_USD_per_kg</th>\n",
       "      <th>Primary_Usage</th>\n",
       "      <th>Market_Share_%</th>\n",
       "      <th>Growth_Rate_%</th>\n",
       "      <th>Peak_Consumption_Month</th>\n",
       "      <th>Preferred_Packaging</th>\n",
       "      <th>Top_Buyers</th>\n",
       "      <th>Variety_Used</th>\n",
       "    </tr>\n",
       "  </thead>\n",
       "  <tbody>\n",
       "    <tr>\n",
       "      <th>0</th>\n",
       "      <td>2022</td>\n",
       "      <td>Strawberry Powder</td>\n",
       "      <td>Fruit</td>\n",
       "      <td>Malaysia</td>\n",
       "      <td>Asia</td>\n",
       "      <td>3648.44</td>\n",
       "      <td>8610318.4</td>\n",
       "      <td>2.36</td>\n",
       "      <td>Smoothies</td>\n",
       "      <td>14.74</td>\n",
       "      <td>8.68</td>\n",
       "      <td>April</td>\n",
       "      <td>Retail 1kg</td>\n",
       "      <td>Bebivita</td>\n",
       "      <td>Nendran</td>\n",
       "    </tr>\n",
       "    <tr>\n",
       "      <th>1</th>\n",
       "      <td>2025</td>\n",
       "      <td>Onion Powder</td>\n",
       "      <td>Vegetable</td>\n",
       "      <td>UK</td>\n",
       "      <td>Europe</td>\n",
       "      <td>7470.94</td>\n",
       "      <td>55733212.4</td>\n",
       "      <td>7.46</td>\n",
       "      <td>Food Processing</td>\n",
       "      <td>2.16</td>\n",
       "      <td>5.66</td>\n",
       "      <td>December</td>\n",
       "      <td>Bulk 25kg</td>\n",
       "      <td>Organic Valley</td>\n",
       "      <td>Robusta</td>\n",
       "    </tr>\n",
       "    <tr>\n",
       "      <th>2</th>\n",
       "      <td>2025</td>\n",
       "      <td>Coriander Powder</td>\n",
       "      <td>Spice-Herb</td>\n",
       "      <td>UK</td>\n",
       "      <td>Europe</td>\n",
       "      <td>332.92</td>\n",
       "      <td>1188524.4</td>\n",
       "      <td>3.57</td>\n",
       "      <td>Beverages</td>\n",
       "      <td>24.05</td>\n",
       "      <td>1.07</td>\n",
       "      <td>December</td>\n",
       "      <td>Sachet 500g</td>\n",
       "      <td>Organic Valley</td>\n",
       "      <td>Nendran</td>\n",
       "    </tr>\n",
       "    <tr>\n",
       "      <th>3</th>\n",
       "      <td>2021</td>\n",
       "      <td>Mango Powder</td>\n",
       "      <td>Fruit</td>\n",
       "      <td>UK</td>\n",
       "      <td>Europe</td>\n",
       "      <td>306.97</td>\n",
       "      <td>2428132.7</td>\n",
       "      <td>7.91</td>\n",
       "      <td>Pharmaceuticals</td>\n",
       "      <td>15.34</td>\n",
       "      <td>7.25</td>\n",
       "      <td>October</td>\n",
       "      <td>Retail 1kg</td>\n",
       "      <td>Hipp</td>\n",
       "      <td>Cavendish</td>\n",
       "    </tr>\n",
       "    <tr>\n",
       "      <th>4</th>\n",
       "      <td>2025</td>\n",
       "      <td>Tomato Powder</td>\n",
       "      <td>Vegetable</td>\n",
       "      <td>UAE</td>\n",
       "      <td>Asia</td>\n",
       "      <td>6260.63</td>\n",
       "      <td>14837693.1</td>\n",
       "      <td>2.37</td>\n",
       "      <td>Spices</td>\n",
       "      <td>17.94</td>\n",
       "      <td>2.48</td>\n",
       "      <td>July</td>\n",
       "      <td>Bulk 50kg</td>\n",
       "      <td>Carrefour</td>\n",
       "      <td>Nendran</td>\n",
       "    </tr>\n",
       "  </tbody>\n",
       "</table>\n",
       "</div>"
      ],
      "text/plain": [
       "   Year       Product_Name    Category   Country Continent  \\\n",
       "0  2022  Strawberry Powder       Fruit  Malaysia      Asia   \n",
       "1  2025       Onion Powder   Vegetable        UK    Europe   \n",
       "2  2025   Coriander Powder  Spice-Herb        UK    Europe   \n",
       "3  2021       Mango Powder       Fruit        UK    Europe   \n",
       "4  2025      Tomato Powder   Vegetable       UAE      Asia   \n",
       "\n",
       "   Import_Quantity_Tons  Export_Value_USD  Avg_Unit_Price_USD_per_kg  \\\n",
       "0               3648.44         8610318.4                       2.36   \n",
       "1               7470.94        55733212.4                       7.46   \n",
       "2                332.92         1188524.4                       3.57   \n",
       "3                306.97         2428132.7                       7.91   \n",
       "4               6260.63        14837693.1                       2.37   \n",
       "\n",
       "     Primary_Usage  Market_Share_%  Growth_Rate_% Peak_Consumption_Month  \\\n",
       "0        Smoothies           14.74           8.68                  April   \n",
       "1  Food Processing            2.16           5.66               December   \n",
       "2        Beverages           24.05           1.07               December   \n",
       "3  Pharmaceuticals           15.34           7.25                October   \n",
       "4           Spices           17.94           2.48                   July   \n",
       "\n",
       "  Preferred_Packaging      Top_Buyers Variety_Used  \n",
       "0          Retail 1kg        Bebivita      Nendran  \n",
       "1           Bulk 25kg  Organic Valley      Robusta  \n",
       "2         Sachet 500g  Organic Valley      Nendran  \n",
       "3          Retail 1kg            Hipp    Cavendish  \n",
       "4           Bulk 50kg       Carrefour      Nendran  "
      ]
     },
     "execution_count": 7,
     "metadata": {},
     "output_type": "execute_result"
    }
   ],
   "source": [
    "dataset.head()"
   ]
  },
  {
   "cell_type": "markdown",
   "id": "52a20503-c2d2-4685-a8f9-742cfbf898cd",
   "metadata": {},
   "source": [
    "### 1] What is the total export quantity for each product category (Fruit, Vegetable, Spice-Herb)?"
   ]
  },
  {
   "cell_type": "code",
   "execution_count": 13,
   "id": "0bff4305-d417-406c-a018-df651670fceb",
   "metadata": {},
   "outputs": [
    {
     "data": {
      "text/plain": [
       "Index(['Year', 'Product_Name', 'Category', 'Country', 'Continent',\n",
       "       'Import_Quantity_Tons', 'Export_Value_USD', 'Avg_Unit_Price_USD_per_kg',\n",
       "       'Primary_Usage', 'Market_Share_%', 'Growth_Rate_%',\n",
       "       'Peak_Consumption_Month', 'Preferred_Packaging', 'Top_Buyers',\n",
       "       'Variety_Used'],\n",
       "      dtype='object')"
      ]
     },
     "execution_count": 13,
     "metadata": {},
     "output_type": "execute_result"
    }
   ],
   "source": [
    "dataset.columns"
   ]
  },
  {
   "cell_type": "code",
   "execution_count": 22,
   "id": "57f06b74-f205-4845-8a97-3ed85e0038a6",
   "metadata": {},
   "outputs": [
    {
     "data": {
      "text/plain": [
       "Category\n",
       "Fruit         6.838718e+09\n",
       "Spice-Herb    6.105781e+09\n",
       "Vegetable     6.981284e+09\n",
       "Name: Export_Value_USD, dtype: float64"
      ]
     },
     "execution_count": 22,
     "metadata": {},
     "output_type": "execute_result"
    }
   ],
   "source": [
    "dataset.groupby(by=\"Category\")[\"Export_Value_USD\"].sum()"
   ]
  },
  {
   "cell_type": "code",
   "execution_count": 23,
   "id": "b07bf03b-bd6b-4c4e-b0b0-7cd4f751285c",
   "metadata": {},
   "outputs": [
    {
     "data": {
      "image/png": "[encoded data removed]",
      "text/plain": [
       "<Figure size 640x480 with 1 Axes>"
      ]
     },
     "metadata": {},
     "output_type": "display_data"
    }
   ],
   "source": [
    "sns.histplot(x=\"Category\", data=dataset)\n",
    "plt.show()"
   ]
  },
  {
   "cell_type": "markdown",
   "id": "9655a6e1-88fe-421b-a834-c10ab12af28f",
   "metadata": {},
   "source": [
    "### 2] Which country imported the highest total quantity of each powder type?"
   ]
  },
  {
   "cell_type": "code",
   "execution_count": 24,
   "id": "6638c40e-c832-4006-963c-d2426c9363ed",
   "metadata": {},
   "outputs": [
    {
     "data": {
      "text/plain": [
       "Index(['Year', 'Product_Name', 'Category', 'Country', 'Continent',\n",
       "       'Import_Quantity_Tons', 'Export_Value_USD', 'Avg_Unit_Price_USD_per_kg',\n",
       "       'Primary_Usage', 'Market_Share_%', 'Growth_Rate_%',\n",
       "       'Peak_Consumption_Month', 'Preferred_Packaging', 'Top_Buyers',\n",
       "       'Variety_Used'],\n",
       "      dtype='object')"
      ]
     },
     "execution_count": 24,
     "metadata": {},
     "output_type": "execute_result"
    }
   ],
   "source": [
    "dataset.columns"
   ]
  },
  {
   "cell_type": "code",
   "execution_count": 29,
   "id": "dcad05df-e4e9-499a-a451-f857c7bd6c70",
   "metadata": {},
   "outputs": [
    {
     "data": {
      "text/html": [
       "<div>\n",
       "<style scoped>\n",
       "    .dataframe tbody tr th:only-of-type {\n",
       "        vertical-align: middle;\n",
       "    }\n",
       "\n",
       "    .dataframe tbody tr th {\n",
       "        vertical-align: top;\n",
       "    }\n",
       "\n",
       "    .dataframe thead th {\n",
       "        text-align: right;\n",
       "    }\n",
       "</style>\n",
       "<table border=\"1\" class=\"dataframe\">\n",
       "  <thead>\n",
       "    <tr style=\"text-align: right;\">\n",
       "      <th></th>\n",
       "      <th>Country</th>\n",
       "      <th>Product_Name</th>\n",
       "      <th>Import_Quantity_Tons</th>\n",
       "    </tr>\n",
       "  </thead>\n",
       "  <tbody>\n",
       "    <tr>\n",
       "      <th>0</th>\n",
       "      <td>Australia</td>\n",
       "      <td>Banana Powder</td>\n",
       "      <td>27549.97</td>\n",
       "    </tr>\n",
       "    <tr>\n",
       "      <th>1</th>\n",
       "      <td>Australia</td>\n",
       "      <td>Carrot Powder</td>\n",
       "      <td>4509.31</td>\n",
       "    </tr>\n",
       "    <tr>\n",
       "      <th>2</th>\n",
       "      <td>Australia</td>\n",
       "      <td>Chili Powder</td>\n",
       "      <td>2525.47</td>\n",
       "    </tr>\n",
       "    <tr>\n",
       "      <th>3</th>\n",
       "      <td>Australia</td>\n",
       "      <td>Coriander Powder</td>\n",
       "      <td>17138.17</td>\n",
       "    </tr>\n",
       "    <tr>\n",
       "      <th>4</th>\n",
       "      <td>Australia</td>\n",
       "      <td>Garlic Powder</td>\n",
       "      <td>13945.27</td>\n",
       "    </tr>\n",
       "    <tr>\n",
       "      <th>...</th>\n",
       "      <td>...</td>\n",
       "      <td>...</td>\n",
       "      <td>...</td>\n",
       "    </tr>\n",
       "    <tr>\n",
       "      <th>285</th>\n",
       "      <td>USA</td>\n",
       "      <td>Pineapple Powder</td>\n",
       "      <td>14204.95</td>\n",
       "    </tr>\n",
       "    <tr>\n",
       "      <th>286</th>\n",
       "      <td>USA</td>\n",
       "      <td>Spinach Powder</td>\n",
       "      <td>15787.96</td>\n",
       "    </tr>\n",
       "    <tr>\n",
       "      <th>287</th>\n",
       "      <td>USA</td>\n",
       "      <td>Strawberry Powder</td>\n",
       "      <td>20024.48</td>\n",
       "    </tr>\n",
       "    <tr>\n",
       "      <th>288</th>\n",
       "      <td>USA</td>\n",
       "      <td>Tomato Powder</td>\n",
       "      <td>11575.94</td>\n",
       "    </tr>\n",
       "    <tr>\n",
       "      <th>289</th>\n",
       "      <td>USA</td>\n",
       "      <td>Turmeric Powder</td>\n",
       "      <td>26619.28</td>\n",
       "    </tr>\n",
       "  </tbody>\n",
       "</table>\n",
       "<p>290 rows × 3 columns</p>\n",
       "</div>"
      ],
      "text/plain": [
       "       Country       Product_Name  Import_Quantity_Tons\n",
       "0    Australia      Banana Powder              27549.97\n",
       "1    Australia      Carrot Powder               4509.31\n",
       "2    Australia       Chili Powder               2525.47\n",
       "3    Australia   Coriander Powder              17138.17\n",
       "4    Australia      Garlic Powder              13945.27\n",
       "..         ...                ...                   ...\n",
       "285        USA   Pineapple Powder              14204.95\n",
       "286        USA     Spinach Powder              15787.96\n",
       "287        USA  Strawberry Powder              20024.48\n",
       "288        USA      Tomato Powder              11575.94\n",
       "289        USA    Turmeric Powder              26619.28\n",
       "\n",
       "[290 rows x 3 columns]"
      ]
     },
     "execution_count": 29,
     "metadata": {},
     "output_type": "execute_result"
    }
   ],
   "source": [
    "grouped = dataset.groupby([\"Country\", \"Product_Name\"])[\"Import_Quantity_Tons\"].sum().reset_index()\n",
    "grouped"
   ]
  },
  {
   "cell_type": "code",
   "execution_count": null,
   "id": "e45e50a7-cf77-4205-8a3c-4d485d98e486",
   "metadata": {},
   "outputs": [],
   "source": []
  }
 ],
 "metadata": {
  "kernelspec": {
   "display_name": "Python 3 (ipykernel)",
   "language": "python",
   "name": "python3"
  },
  "language_info": {
   "codemirror_mode": {
    "name": "ipython",
    "version": 3
   },
   "file_extension": ".py",
   "mimetype": "text/x-python",
   "name": "python",
   "nbconvert_exporter": "python",
   "pygments_lexer": "ipython3",
   "version": "3.13.3"
  }
 },
 "nbformat": 4,
 "nbformat_minor": 5
}
