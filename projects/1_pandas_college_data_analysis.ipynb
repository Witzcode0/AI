{
 "cells": [
  {
   "cell_type": "code",
   "execution_count": 2,
   "id": "c3a757e5-c321-4015-8779-737865475c73",
   "metadata": {},
   "outputs": [
    {
     "name": "stderr",
     "output_type": "stream",
     "text": [
      "<>:3: SyntaxWarning: invalid escape sequence '\\c'\n",
      "<>:3: SyntaxWarning: invalid escape sequence '\\c'\n",
      "C:\\Users\\HELLO\\AppData\\Local\\Temp\\ipykernel_13008\\2232885395.py:3: SyntaxWarning: invalid escape sequence '\\c'\n",
      "  colleges = pd.read_excel(\"data\\colleges.xlsx\")\n"
     ]
    },
    {
     "data": {
      "text/plain": [
       "pandas.core.frame.DataFrame"
      ]
     },
     "execution_count": 2,
     "metadata": {},
     "output_type": "execute_result"
    }
   ],
   "source": [
    "import pandas as pd\n",
    "\n",
    "colleges = pd.read_excel(\"data\\colleges.xlsx\")"
   ]
  },
  {
   "cell_type": "code",
   "execution_count": 3,
   "id": "336b670d-fa12-4e23-884c-216140dbaf9d",
   "metadata": {},
   "outputs": [
    {
     "data": {
      "text/plain": [
       "Index(['Location', 'College Name', 'Degree', 'Contact Name', 'Designation',\n",
       "       'Contact No', 'Email'],\n",
       "      dtype='object')"
      ]
     },
     "execution_count": 3,
     "metadata": {},
     "output_type": "execute_result"
    }
   ],
   "source": [
    "colleges.columns"
   ]
  },
  {
   "cell_type": "code",
   "execution_count": 44,
   "id": "0870059a-57ce-4e9f-b768-d0dedda87dc9",
   "metadata": {},
   "outputs": [
    {
     "data": {
      "text/plain": [
       "Location        1199\n",
       "College Name    1199\n",
       "Degree          1199\n",
       "Contact Name    1199\n",
       "Designation     1199\n",
       "Contact No      1053\n",
       "Email            720\n",
       "dtype: int64"
      ]
     },
     "execution_count": 44,
     "metadata": {},
     "output_type": "execute_result"
    }
   ],
   "source": [
    "# colleges['College Name'].unique()\n",
    "colleges[colleges['College Name'].str.contains(\"surat\", case=False)]"
   ]
  },
  {
   "cell_type": "code",
   "execution_count": 10,
   "id": "34c6d000-31c6-41eb-b2ab-0cb03c67a18e",
   "metadata": {},
   "outputs": [
    {
     "data": {
      "text/plain": [
       "83"
      ]
     },
     "execution_count": 10,
     "metadata": {},
     "output_type": "execute_result"
    }
   ],
   "source": [
    "colleges['College Name'].nunique()"
   ]
  },
  {
   "cell_type": "code",
   "execution_count": 17,
   "id": "b5af2bc7-ab05-4829-9a40-a1038b1fad69",
   "metadata": {},
   "outputs": [
    {
     "data": {
      "text/plain": [
       "array(['AURO University',\n",
       "       'Bhagvan Mahavir College of Computer Application',\n",
       "       'J P Dawer Institute of Information Science and Technology',\n",
       "       'P P Savani University', 'Pacific School of Engineering',\n",
       "       'Shree Dhanvantary College of Diploma Engineering',\n",
       "       'Shree Swami Atmanand Saraswati Institute of Technology',\n",
       "       'Shrimad Rajchandra Institute of Management and Computer Application',\n",
       "       'Vanita Vishram Womens College of Commerce & Management',\n",
       "       'Vidhyadeep Institute of Management and Technology',\n",
       "       'Vidyabharti Trust Institute of Technology and Research Centre',\n",
       "       'R. N. G. Patel Institute of Technology (RNGPIT)',\n",
       "       'Vishwabharti Girls College', 'Ambaba Commerce College',\n",
       "       'C B Patel Computer College',\n",
       "       'C K Pithawala College of Engineering and Technology',\n",
       "       'D R Patel & R B Patel Commerce College',\n",
       "       'J D Gabani Commerce College',\n",
       "       'Prof. V. B. Shah Institute of Management',\n",
       "       'S D Jain International BCA College',\n",
       "       'SASCMA College of Computer Applications',\n",
       "       'Shri Manilal Kadakia College of Management(SMK)',\n",
       "       'Shri uttar gujrat BCA college',\n",
       "       'Udhana Academy College of Computer Application',\n",
       "       'Veer Narmad South Gujarat University(VNSGU)',\n",
       "       'Vivekanand College for Advanced Computer and Information Science',\n",
       "       'Z S Patel College of Computer Application',\n",
       "       'Atmanand Saraswati Science College',\n",
       "       'College of Applied Science and Professional Studies',\n",
       "       'Dolat Usha Institute of Applied Science',\n",
       "       'Dollyben Desai Institute of Computer and Applied Sciences',\n",
       "       'Iqra College of Technology (ICT)',\n",
       "       'M K Institute of Computer Studies',\n",
       "       'M L Parmar Charitable Trust College',\n",
       "       'Naranlala College of Professional',\n",
       "       'Narmada College of Computer Application(NCCA)',\n",
       "       'Prime Institute of Engineering and Technology',\n",
       "       'R K Desai Achchhariwala College of Computer',\n",
       "       'Rofel Shri GM Bilakhia College',\n",
       "       'S S Agrawal College of Arts Commerce and Management',\n",
       "       'S V Patel College of Arts and Science', 'Sabargam College',\n",
       "       'Sarvajanik College of Engineering and Technology(SCET)',\n",
       "       'Shri B V Patel Institute of Business Management',\n",
       "       'Smt R P Chauhan Arts and Smt J K Shah',\n",
       "       'Smt Tanuben and Dr Manubhai Trivedi College of Information Science',\n",
       "       'Smt. Raniben Madhbahi Bhadarka College of Computer Application(BCA)',\n",
       "       'Sutex Bank College of Computer Applications and Science',\n",
       "       'The Mandvi Education Society College',\n",
       "       'V S Patel Arts science and Commerce College',\n",
       "       'Vimal Tormal Poddar BCA and Commerce College',\n",
       "       'Asha M. Tarsadia Institute of Computer Science and Technology(AMTICS)',\n",
       "       'Bhagwan Arihant Institute of Technology',\n",
       "       'Chhotubhai Gopalbhai Patel Institute of Technology',\n",
       "       'GIDC Degree Engineering College',\n",
       "       'Government Engineering College',\n",
       "       'Laxmi Institute of Computer Application',\n",
       "       'Mahatma Gandhi Institute of Technical Education and Research Center',\n",
       "       'Mahavir Swami College of Engineering and Technology',\n",
       "       'Sardar Vallabhbhai National Institute of Technology(SVNIT)',\n",
       "       'Shri Sad Vidya Mandal Institute of Technology(SVMIT)',\n",
       "       'Shroff S. R. Rotary Institute of Chemical Technology',\n",
       "       'A Y Dadabhai Poly Technical College', 'Diwaliba Polytechnic',\n",
       "       'Dr S and SS Gandhi college of Engineering and Technology',\n",
       "       'Government Girls Polytechnic',\n",
       "       'Government polytechnic college ( Navsari)',\n",
       "       'Government Polytechnic Valsad', 'Government Polytechnic',\n",
       "       'Jayvantrai Harrai Desai Polytechnic', 'N G Patel Polytechnic',\n",
       "       'Shri Tapi Brahmcharyashram sabha college of Diploma Engineering',\n",
       "       'Vallabh Budhi Polytechnic(VBP)',\n",
       "       'Akhand Anand Arts & Commerce College',\n",
       "       'J.Z.Shah Arts & H.P.Desai Commerce College',\n",
       "       'Navyug College of Commerce', 'R V Patel College of Commerce',\n",
       "       'Sheth C.D.Barfiwala College Of Commerce',\n",
       "       'Sir K.P. College of Commerce',\n",
       "       'SPB English Medium College of Commerce',\n",
       "       'V L Shah College of Commerce', 'Z F Wadia Womens College'],\n",
       "      dtype=object)"
      ]
     },
     "execution_count": 17,
     "metadata": {},
     "output_type": "execute_result"
    }
   ],
   "source": [
    "colleges['College Name'].apply(lambda name:name.split(',')[0]).unique()"
   ]
  },
  {
   "cell_type": "code",
   "execution_count": 24,
   "id": "b485d9c2-6ed9-442c-a66c-2818e7970d9e",
   "metadata": {},
   "outputs": [
    {
     "data": {
      "text/plain": [
       "83"
      ]
     },
     "execution_count": 24,
     "metadata": {},
     "output_type": "execute_result"
    }
   ],
   "source": [
    "colleges.sort_values(by=\"College Name\")['College Name'].nunique()"
   ]
  },
  {
   "cell_type": "code",
   "execution_count": 36,
   "id": "a7dbc767-49fa-4b09-a95e-223185156724",
   "metadata": {},
   "outputs": [
    {
     "data": {
      "text/plain": [
       "Contact No    187\n",
       "Email         684\n",
       "dtype: int64"
      ]
     },
     "execution_count": 36,
     "metadata": {},
     "output_type": "execute_result"
    }
   ],
   "source": [
    "colleges.isnull().sum(axis=0)[colleges.isnull().sum() > 0]"
   ]
  },
  {
   "cell_type": "code",
   "execution_count": null,
   "id": "a66365de-ba19-4ff8-a7ea-8d2e5840ca08",
   "metadata": {},
   "outputs": [],
   "source": []
  }
 ],
 "metadata": {
  "kernelspec": {
   "display_name": "Python 3 (ipykernel)",
   "language": "python",
   "name": "python3"
  },
  "language_info": {
   "codemirror_mode": {
    "name": "ipython",
    "version": 3
   },
   "file_extension": ".py",
   "mimetype": "text/x-python",
   "name": "python",
   "nbconvert_exporter": "python",
   "pygments_lexer": "ipython3",
   "version": "3.13.3"
  }
 },
 "nbformat": 4,
 "nbformat_minor": 5
}
