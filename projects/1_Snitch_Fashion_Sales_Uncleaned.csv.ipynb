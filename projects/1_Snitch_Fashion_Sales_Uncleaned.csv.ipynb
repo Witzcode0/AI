{
 "cells": [
  {
   "cell_type": "markdown",
   "id": "2cbc5c23-f265-4aa5-ae00-3db5daa10e49",
   "metadata": {},
   "source": [
    "# 🐼 Pandas Project Roadmap: Snitch Fashion Sales Dataset\n",
    "\n",
    "A full breakdown of pandas skills, concepts, and hands-on analysis questions to practice.\n",
    "\n",
    "---\n",
    "\n",
    "## 📋 Summary Table\n",
    "\n",
    "| Pandas Skill             | Questions Covered |\n",
    "| ------------------------ | ----------------- |\n",
    "| Data Inspection          | Q1–Q5             |\n",
    "| Data Cleaning            | Q6–Q10            |\n",
    "| Grouping & Aggregation   | Q11–Q15           |\n",
    "| Time Series Analysis     | Q16–Q19           |\n",
    "| Derived Columns          | Q20–Q22           |\n",
    "| Filtering & Conditions   | Q23–Q25           |\n",
    "| Visualization (Optional) | Q26–Q28           |\n",
    "\n",
    "---\n",
    "\n",
    "## 🧩 1. Data Inspection & Exploration\n",
    "\n",
    "### 📚 Concepts:\n",
    "- `df.shape`, `df.columns`, `df.dtypes`\n",
    "- `df.head()`, `df.tail()`, `df.describe()`, `df.info()`\n",
    "- `df.isnull().sum()`, `df.duplicated()`\n",
    "\n",
    "### 🔍 Questions:\n",
    "1. How many rows and columns are in the dataset?  \n",
    "2. What are the column names and their data types?  \n",
    "3. How many missing values are there in each column?  \n",
    "4. Are there duplicate records?  \n",
    "5. View the first and last 10 rows of the data.  \n",
    "\n",
    "---\n",
    "\n",
    "## 🧹 2. Data Cleaning & Preprocessing\n",
    "\n",
    "### 📚 Concepts:\n",
    "- `df.dropna()`, `df.fillna()`, `df.replace()`, `df.duplicated()`\n",
    "- `df['col'].str.lower()`, `pd.to_datetime()`, `df['col'].astype()`\n",
    "- Handling inconsistent formatting (e.g. city names)\n",
    "\n",
    "### 🧽 Questions:\n",
    "6. Normalize inconsistent city names (e.g. \"bengaluru\", \"Bangalore\", \"hyd\", \"Hyderabad\").  \n",
    "7. Convert the `Order_Date` column to datetime format.  \n",
    "8. Fill missing `Units_Sold` using `Sales_Amount / Unit_Price` when possible.  \n",
    "9. Create a new column: `Net_Price = Unit_Price × (1 - Discount_%)`  \n",
    "10. Fill missing `Segment` with the most common value.  \n",
    "\n",
    "---\n",
    "\n",
    "## 📊 3. Aggregation & Grouping\n",
    "\n",
    "### 📚 Concepts:\n",
    "- `df.groupby()`, `.agg()`, `.sum()`, `.mean()`, `.count()`\n",
    "- `.sort_values()`\n",
    "- `df['col'].value_counts()`\n",
    "\n",
    "### 📈 Questions:\n",
    "11. How many orders were placed per product category?  \n",
    "12. What is the total profit per city?  \n",
    "13. What is the average unit price per product category?  \n",
    "14. Who are the top 5 customers by total profit?  \n",
    "15. What are the top-selling products by `Units_Sold`?  \n",
    "\n",
    "---\n",
    "\n",
    "## 📆 4. Time Series Analysis\n",
    "\n",
    "### 📚 Concepts:\n",
    "- `pd.to_datetime()`\n",
    "- `df['Order_Date'].dt.month`, `.dt.year`, `.dt.day_name()`\n",
    "- `df.set_index('Order_Date').resample('M')`\n",
    "\n",
    "### 📅 Questions:\n",
    "16. What is the trend of sales over months?  \n",
    "17. Which month has the highest number of orders?  \n",
    "18. Is there seasonality in product categories?  \n",
    "19. What is the average monthly sales amount?  \n",
    "\n",
    "---\n",
    "\n",
    "## 💡 5. Derived Columns & Calculated Fields\n",
    "\n",
    "### 📚 Concepts:\n",
    "- Creating columns: `df['New_Column'] = ...`\n",
    "- Row-wise operations: `axis=1`, `.apply()`, `.round(2)`\n",
    "\n",
    "### 💰 Questions:\n",
    "20. Compute profit margin per order: `(Profit / Sales_Amount) × 100`  \n",
    "21. Compute total revenue without discount and compare it with discounted sales.  \n",
    "22. Which product has the highest return per unit (`Profit / Units_Sold`)?  \n",
    "\n",
    "---\n",
    "\n",
    "## 📐 6. Filtering & Conditional Logic\n",
    "\n",
    "### 📚 Concepts:\n",
    "- Boolean indexing: `df[df['col'] > value]`\n",
    "- Multiple conditions: `&`, `|`\n",
    "- `.query()` method\n",
    "\n",
    "### 🧠 Questions:\n",
    "23. Which orders had `Units_Sold = 0` or missing?  \n",
    "24. Which products had high sales but negative profits?  \n",
    "25. Which products had discounts over 50%?  \n",
    "\n",
    "---\n",
    "\n",
    "## 📊 7. Visualization (Optional using Matplotlib/Seaborn)\n",
    "\n",
    "### 📚 Concepts:\n",
    "- Bar plots, line plots: `.plot(kind='bar')`, `.plot(kind='line')`\n",
    "- Distribution plots: `sns.histplot()`, `sns.boxplot()`\n",
    "\n",
    "### 📉 Questions:\n",
    "26. Visualize top 5 product categories by profit.  \n",
    "27. Plot monthly sales over time.  \n",
    "28. Show distribution of unit prices.  \n"
   ]
  },
  {
   "cell_type": "code",
   "execution_count": 1,
   "id": "7b53a7c4-9fbc-4e91-b7ee-d54ac7b3c1f6",
   "metadata": {},
   "outputs": [],
   "source": [
    "import pandas as pd"
   ]
  },
  {
   "cell_type": "code",
   "execution_count": 2,
   "id": "18c2d5e3-f4b3-411b-9b72-046bd3b617bd",
   "metadata": {},
   "outputs": [],
   "source": [
    "data = pd.read_csv(r'data\\Snitch_Fashion_Sales_Uncleaned.csv')"
   ]
  },
  {
   "cell_type": "markdown",
   "id": "0977f3a4-2627-4d4d-98b0-4b94a76f82e3",
   "metadata": {},
   "source": [
    "## 1] How many rows and columns are in the dataset?"
   ]
  },
  {
   "cell_type": "code",
   "execution_count": 3,
   "id": "8ff7d675-2fdf-4c22-a208-e0ec5766792e",
   "metadata": {},
   "outputs": [
    {
     "name": "stdout",
     "output_type": "stream",
     "text": [
      "2500\n",
      "12\n"
     ]
    }
   ],
   "source": [
    "# total rows\n",
    "print(data.shape[0])\n",
    "# total columns\n",
    "print(data.shape[1])"
   ]
  },
  {
   "cell_type": "markdown",
   "id": "a08618c6-0fdf-43e8-ad64-ba455f4a6241",
   "metadata": {},
   "source": [
    "## 2] What are the column names and their data types?"
   ]
  },
  {
   "cell_type": "code",
   "execution_count": 4,
   "id": "ba5e0be8-0b93-475c-93f2-fdae0cb0ea12",
   "metadata": {},
   "outputs": [
    {
     "data": {
      "text/plain": [
       "Index(['Order_ID', 'Customer_Name', 'Product_Category', 'Product_Name',\n",
       "       'Units_Sold', 'Unit_Price', 'Discount_%', 'Sales_Amount', 'Order_Date',\n",
       "       'City', 'Segment', 'Profit'],\n",
       "      dtype='object')"
      ]
     },
     "execution_count": 4,
     "metadata": {},
     "output_type": "execute_result"
    }
   ],
   "source": [
    "# column names\n",
    "data.columns"
   ]
  },
  {
   "cell_type": "code",
   "execution_count": 5,
   "id": "15a6f135-dc21-47fd-97bd-dec628d406f7",
   "metadata": {},
   "outputs": [
    {
     "data": {
      "text/plain": [
       "Order_ID              int64\n",
       "Customer_Name        object\n",
       "Product_Category     object\n",
       "Product_Name         object\n",
       "Units_Sold          float64\n",
       "Unit_Price          float64\n",
       "Discount_%          float64\n",
       "Sales_Amount        float64\n",
       "Order_Date           object\n",
       "City                 object\n",
       "Segment              object\n",
       "Profit              float64\n",
       "dtype: object"
      ]
     },
     "execution_count": 5,
     "metadata": {},
     "output_type": "execute_result"
    }
   ],
   "source": [
    "data.dtypes"
   ]
  },
  {
   "cell_type": "markdown",
   "id": "774395b7-ab2d-4f92-904e-523af57f4ceb",
   "metadata": {},
   "source": [
    "## 3] How many missing values are there in each column?"
   ]
  },
  {
   "cell_type": "code",
   "execution_count": 6,
   "id": "9f3b12c5-d796-495b-abc9-96492c54560e",
   "metadata": {},
   "outputs": [
    {
     "data": {
      "text/plain": [
       "Order_ID               0\n",
       "Customer_Name          0\n",
       "Product_Category       0\n",
       "Product_Name           0\n",
       "Units_Sold          1306\n",
       "Unit_Price          1210\n",
       "Discount_%          1651\n",
       "Sales_Amount           0\n",
       "Order_Date           606\n",
       "City                   0\n",
       "Segment              821\n",
       "Profit                 0\n",
       "dtype: int64"
      ]
     },
     "execution_count": 6,
     "metadata": {},
     "output_type": "execute_result"
    }
   ],
   "source": [
    "data.isnull().sum(axis=0)"
   ]
  },
  {
   "cell_type": "markdown",
   "id": "0718e208-a3ca-43c8-8e74-b7645265d604",
   "metadata": {},
   "source": [
    "## 4] Are there duplicate records?"
   ]
  },
  {
   "cell_type": "code",
   "execution_count": 7,
   "id": "d8fb7f98-d5ff-420a-9545-1dee81d2aae5",
   "metadata": {},
   "outputs": [
    {
     "name": "stdout",
     "output_type": "stream",
     "text": [
      "No\n"
     ]
    }
   ],
   "source": [
    "duplicate_count = data.duplicated().sum()\n",
    "if duplicate_count:\n",
    "    print(\"Yes\")\n",
    "else:\n",
    "    print(\"No\")"
   ]
  },
  {
   "cell_type": "markdown",
   "id": "36646492-0111-4b29-9c96-0e0b2816c445",
   "metadata": {},
   "source": [
    "## 5] View the first and last 10 rows of the data."
   ]
  },
  {
   "cell_type": "code",
   "execution_count": 8,
   "id": "787aaedb-88d2-4116-8975-4edabb63a5fb",
   "metadata": {},
   "outputs": [
    {
     "name": "stdout",
     "output_type": "stream",
     "text": [
      "   Order_ID         Customer_Name Product_Category       Product_Name  \\\n",
      "0      1000        Brian Thompson            Jeans     Slim Fit Jeans   \n",
      "1      1001            Shaun Ross            Jeans     Slim Fit Jeans   \n",
      "2      1002          Sarah Snyder          Jackets        Puffer Coat   \n",
      "3      1003            Jay Briggs            Shoes            Loafers   \n",
      "4      1004           Maria Blake      Accessories              Belts   \n",
      "5      1005         Samuel Miller         T-Shirts           Crop Top   \n",
      "6      1006           John Mclean            Jeans    Boyfriend Jeans   \n",
      "7      1007  Dr. Kathryn Bass PhD          Dresses        Casual Midi   \n",
      "8      1008          Marie Fisher      Accessories         Sunglasses   \n",
      "9      1009            Dale Perry         T-Shirts  Oversized T-shirt   \n",
      "\n",
      "   Units_Sold  Unit_Price  Discount_%  Sales_Amount  Order_Date       City  \\\n",
      "0         NaN      842.00        0.60          0.00  2025-02-27      Delhi   \n",
      "1         1.0         NaN         NaN          0.00  2025-07-15  Ahmedabad   \n",
      "2         1.0      637.82         NaN          0.00  02-01-2025     Mumbai   \n",
      "3         2.0     2962.27         NaN          0.00  18-06-2025  bengaluru   \n",
      "4         1.0     2881.07        0.27       2103.18         NaN   hyderbad   \n",
      "5         NaN         NaN         NaN          0.00  2023-12-05     Mumbai   \n",
      "6         1.0     2060.85         NaN          0.00  2024-04-02  Ahmedabad   \n",
      "7         NaN     3669.56         NaN          0.00         NaN  Bangalore   \n",
      "8         NaN         NaN         NaN          0.00         NaN  Ahmedabad   \n",
      "9         5.0         NaN         NaN          0.00  2025-07-20  Bangalore   \n",
      "\n",
      "  Segment   Profit  \n",
      "0     B2C  2137.45  \n",
      "1     NaN  1588.15  \n",
      "2     B2B  -158.03  \n",
      "3     B2B  2296.50  \n",
      "4     NaN    63.66  \n",
      "5     B2B  1477.73  \n",
      "6     B2B   198.36  \n",
      "7     B2C  2490.01  \n",
      "8     B2C  -886.80  \n",
      "9     B2B  -972.73  \n",
      "      Order_ID      Customer_Name Product_Category       Product_Name  \\\n",
      "2490      3490    Preston Carroll          Dresses            Bodycon   \n",
      "2491      3491   Timothy Hamilton            Jeans    Boyfriend Jeans   \n",
      "2492      3492   Jonathan Meadows            Jeans       Ripped Denim   \n",
      "2493      3493      Keith Manning          Dresses        Casual Midi   \n",
      "2494      3494          Ryan West            Jeans     Slim Fit Jeans   \n",
      "2495      3495     Allen Williams         T-Shirts  Oversized T-shirt   \n",
      "2496      3496      Jonathan Hill            Shoes            Loafers   \n",
      "2497      3497  Alejandro Cochran          Jackets      Bomber Jacket   \n",
      "2498      3498      Angela Adkins            Jeans       Straight Cut   \n",
      "2499      3499     Zachary Werner         T-Shirts        Graphic Tee   \n",
      "\n",
      "      Units_Sold  Unit_Price  Discount_%  Sales_Amount  Order_Date       City  \\\n",
      "2490         NaN     2784.76        0.86           0.0  2023-11-16        Hyd   \n",
      "2491         NaN     4126.39         NaN           0.0  25-11-2024     Mumbai   \n",
      "2492         NaN     3084.73        0.86           0.0         NaN     Mumbai   \n",
      "2493         5.0     2935.56         NaN           0.0  2025-01-21      Delhi   \n",
      "2494         0.0         NaN         NaN           0.0         NaN  Ahmedabad   \n",
      "2495         NaN      848.79         NaN           0.0         NaN     Mumbai   \n",
      "2496         4.0         NaN         NaN           0.0  2024-03-10  Hyderabad   \n",
      "2497         NaN     3389.24        1.06           0.0         NaN  Ahmedabad   \n",
      "2498         5.0     3844.19         NaN           0.0  24-07-2024        Hyd   \n",
      "2499         6.0     1239.75         NaN           0.0         NaN     Mumbai   \n",
      "\n",
      "     Segment   Profit  \n",
      "2490     NaN  1373.37  \n",
      "2491     B2B   638.90  \n",
      "2492     NaN  2534.32  \n",
      "2493     NaN  -410.86  \n",
      "2494     NaN  -219.82  \n",
      "2495     NaN  2259.00  \n",
      "2496     B2B  2232.98  \n",
      "2497     B2C  1955.31  \n",
      "2498     NaN  2967.00  \n",
      "2499     B2C   715.15  \n"
     ]
    }
   ],
   "source": [
    "df_first_10  = data.head(10)\n",
    "df_last_10 = data.tail(10)\n",
    "print(df_first_10 )\n",
    "print(df_last_10)"
   ]
  },
  {
   "cell_type": "markdown",
   "id": "f6b68287-799c-415a-9ddb-d290b9bc973f",
   "metadata": {},
   "source": [
    "## 6] Normalize inconsistent city names (e.g. \"bengaluru\", \"Bangalore\", \"hyd\", \"Hyderabad\")."
   ]
  },
  {
   "cell_type": "code",
   "execution_count": 9,
   "id": "9577d554-3108-4122-8cb0-58bbf66f9967",
   "metadata": {
    "scrolled": true
   },
   "outputs": [
    {
     "data": {
      "text/plain": [
       "Index(['Order_ID', 'Customer_Name', 'Product_Category', 'Product_Name',\n",
       "       'Units_Sold', 'Unit_Price', 'Discount_%', 'Sales_Amount', 'Order_Date',\n",
       "       'City', 'Segment', 'Profit'],\n",
       "      dtype='object')"
      ]
     },
     "execution_count": 9,
     "metadata": {},
     "output_type": "execute_result"
    }
   ],
   "source": [
    "data.columns"
   ]
  },
  {
   "cell_type": "code",
   "execution_count": 10,
   "id": "e56f9bcc-a63a-4aa6-b978-7e875f28bb5a",
   "metadata": {},
   "outputs": [
    {
     "data": {
      "text/plain": [
       "array(['Delhi', 'Ahmedabad', 'Mumbai', 'Bangalore', 'Hyderabad', 'Pune'],\n",
       "      dtype=object)"
      ]
     },
     "execution_count": 10,
     "metadata": {},
     "output_type": "execute_result"
    }
   ],
   "source": [
    "# data['City'].unique()\n",
    "# data['City'].replace('bengaluru',\"Bangalore\", inplace=True)\n",
    "# data['City'].replace('Hyd',\"Hyderabad\", inplace=True)\n",
    "# data['City'].replace('hyderbad',\"Hyderabad\", inplace=True)\n",
    "# data['City'].unique()\n",
    "\n",
    "data['City'] = data['City'].replace({\"bengaluru\":\"Bangalore\", \"Hyd\":\"Hyderabad\", \"hyderbad\":\"Hyderabad\"})\n",
    "data['City'].unique()"
   ]
  },
  {
   "cell_type": "markdown",
   "id": "e7a3c6f0-b8c0-43e7-a50a-90509dac67d9",
   "metadata": {},
   "source": [
    "## 7] Convert the Order_Date column to datetime format."
   ]
  },
  {
   "cell_type": "code",
   "execution_count": 11,
   "id": "e5fad5d4-4381-45a2-87e4-4f61f18f1be3",
   "metadata": {},
   "outputs": [
    {
     "data": {
      "text/plain": [
       "0      2025-02-27\n",
       "1      2025-07-15\n",
       "2             NaT\n",
       "3             NaT\n",
       "4             NaT\n",
       "          ...    \n",
       "2495          NaT\n",
       "2496   2024-03-10\n",
       "2497          NaT\n",
       "2498          NaT\n",
       "2499          NaT\n",
       "Name: Order_Date, Length: 2500, dtype: datetime64[ns]"
      ]
     },
     "execution_count": 11,
     "metadata": {},
     "output_type": "execute_result"
    }
   ],
   "source": [
    "data.columns\n",
    "# Convert 'Order_Date' to datetime format, handling NaN and invalid formats\n",
    "data['Order_Date'] = pd.to_datetime(data['Order_Date'], errors=\"coerce\") # errors='coerce' ensures that invalid or missing values are set to NaT (Pandas' version of NaN for datetime).\n",
    "data['Order_Date']"
   ]
  },
  {
   "cell_type": "markdown",
   "id": "d0eab8f1-f95c-4ef2-ab33-447af3790d2b",
   "metadata": {},
   "source": [
    "## 8] ?Fill missing Units_Sold using Sales_Amount / Unit_Price when possible."
   ]
  },
  {
   "cell_type": "code",
   "execution_count": 12,
   "id": "996fc8b5-fb16-4091-aacb-d5fefe44ede0",
   "metadata": {
    "scrolled": true
   },
   "outputs": [
    {
     "data": {
      "text/plain": [
       "Index(['Order_ID', 'Customer_Name', 'Product_Category', 'Product_Name',\n",
       "       'Units_Sold', 'Unit_Price', 'Discount_%', 'Sales_Amount', 'Order_Date',\n",
       "       'City', 'Segment', 'Profit'],\n",
       "      dtype='object')"
      ]
     },
     "execution_count": 12,
     "metadata": {},
     "output_type": "execute_result"
    }
   ],
   "source": [
    "data.columns"
   ]
  },
  {
   "cell_type": "code",
   "execution_count": 13,
   "id": "d41ee360-2476-44cc-acf1-074697a73cdc",
   "metadata": {},
   "outputs": [
    {
     "data": {
      "text/plain": [
       "0       0.0\n",
       "1       1.0\n",
       "2       1.0\n",
       "3       2.0\n",
       "4       1.0\n",
       "       ... \n",
       "2495    0.0\n",
       "2496    4.0\n",
       "2497    0.0\n",
       "2498    5.0\n",
       "2499    6.0\n",
       "Name: Units_Sold, Length: 2500, dtype: float64"
      ]
     },
     "execution_count": 13,
     "metadata": {},
     "output_type": "execute_result"
    }
   ],
   "source": [
    "data['Units_Sold'] = data['Units_Sold'].fillna(data['Sales_Amount']/ data['Unit_Price'])\n",
    "data['Units_Sold']"
   ]
  },
  {
   "cell_type": "markdown",
   "id": "04cfc4dc-771d-4d01-8b9c-d21815f119b3",
   "metadata": {},
   "source": [
    "## 9] Create a new column: Net_Price = Unit_Price × (1 - Discount_%)"
   ]
  },
  {
   "cell_type": "code",
   "execution_count": 14,
   "id": "25882e13-0c28-434a-81c0-b5b0b48e1d05",
   "metadata": {
    "scrolled": true
   },
   "outputs": [
    {
     "data": {
      "text/plain": [
       "Index(['Order_ID', 'Customer_Name', 'Product_Category', 'Product_Name',\n",
       "       'Units_Sold', 'Unit_Price', 'Discount_%', 'Sales_Amount', 'Order_Date',\n",
       "       'City', 'Segment', 'Profit'],\n",
       "      dtype='object')"
      ]
     },
     "execution_count": 14,
     "metadata": {},
     "output_type": "execute_result"
    }
   ],
   "source": [
    "data.columns"
   ]
  },
  {
   "cell_type": "code",
   "execution_count": 15,
   "id": "229fe280-ef42-4084-a2a9-b08aac4abdc4",
   "metadata": {},
   "outputs": [
    {
     "data": {
      "text/html": [
       "<div>\n",
       "<style scoped>\n",
       "    .dataframe tbody tr th:only-of-type {\n",
       "        vertical-align: middle;\n",
       "    }\n",
       "\n",
       "    .dataframe tbody tr th {\n",
       "        vertical-align: top;\n",
       "    }\n",
       "\n",
       "    .dataframe thead th {\n",
       "        text-align: right;\n",
       "    }\n",
       "</style>\n",
       "<table border=\"1\" class=\"dataframe\">\n",
       "  <thead>\n",
       "    <tr style=\"text-align: right;\">\n",
       "      <th></th>\n",
       "      <th>Order_ID</th>\n",
       "      <th>Customer_Name</th>\n",
       "      <th>Product_Category</th>\n",
       "      <th>Product_Name</th>\n",
       "      <th>Units_Sold</th>\n",
       "      <th>Unit_Price</th>\n",
       "      <th>Discount_%</th>\n",
       "      <th>Sales_Amount</th>\n",
       "      <th>Order_Date</th>\n",
       "      <th>City</th>\n",
       "      <th>Segment</th>\n",
       "      <th>Profit</th>\n",
       "      <th>Net_Price</th>\n",
       "    </tr>\n",
       "  </thead>\n",
       "  <tbody>\n",
       "    <tr>\n",
       "      <th>0</th>\n",
       "      <td>1000</td>\n",
       "      <td>Brian Thompson</td>\n",
       "      <td>Jeans</td>\n",
       "      <td>Slim Fit Jeans</td>\n",
       "      <td>0.0</td>\n",
       "      <td>842.00</td>\n",
       "      <td>0.60</td>\n",
       "      <td>0.00</td>\n",
       "      <td>2025-02-27</td>\n",
       "      <td>Delhi</td>\n",
       "      <td>B2C</td>\n",
       "      <td>2137.45</td>\n",
       "      <td>336.8000</td>\n",
       "    </tr>\n",
       "    <tr>\n",
       "      <th>1</th>\n",
       "      <td>1001</td>\n",
       "      <td>Shaun Ross</td>\n",
       "      <td>Jeans</td>\n",
       "      <td>Slim Fit Jeans</td>\n",
       "      <td>1.0</td>\n",
       "      <td>NaN</td>\n",
       "      <td>NaN</td>\n",
       "      <td>0.00</td>\n",
       "      <td>2025-07-15</td>\n",
       "      <td>Ahmedabad</td>\n",
       "      <td>NaN</td>\n",
       "      <td>1588.15</td>\n",
       "      <td>NaN</td>\n",
       "    </tr>\n",
       "    <tr>\n",
       "      <th>2</th>\n",
       "      <td>1002</td>\n",
       "      <td>Sarah Snyder</td>\n",
       "      <td>Jackets</td>\n",
       "      <td>Puffer Coat</td>\n",
       "      <td>1.0</td>\n",
       "      <td>637.82</td>\n",
       "      <td>NaN</td>\n",
       "      <td>0.00</td>\n",
       "      <td>NaT</td>\n",
       "      <td>Mumbai</td>\n",
       "      <td>B2B</td>\n",
       "      <td>-158.03</td>\n",
       "      <td>NaN</td>\n",
       "    </tr>\n",
       "    <tr>\n",
       "      <th>3</th>\n",
       "      <td>1003</td>\n",
       "      <td>Jay Briggs</td>\n",
       "      <td>Shoes</td>\n",
       "      <td>Loafers</td>\n",
       "      <td>2.0</td>\n",
       "      <td>2962.27</td>\n",
       "      <td>NaN</td>\n",
       "      <td>0.00</td>\n",
       "      <td>NaT</td>\n",
       "      <td>Bangalore</td>\n",
       "      <td>B2B</td>\n",
       "      <td>2296.50</td>\n",
       "      <td>NaN</td>\n",
       "    </tr>\n",
       "    <tr>\n",
       "      <th>4</th>\n",
       "      <td>1004</td>\n",
       "      <td>Maria Blake</td>\n",
       "      <td>Accessories</td>\n",
       "      <td>Belts</td>\n",
       "      <td>1.0</td>\n",
       "      <td>2881.07</td>\n",
       "      <td>0.27</td>\n",
       "      <td>2103.18</td>\n",
       "      <td>NaT</td>\n",
       "      <td>Hyderabad</td>\n",
       "      <td>NaN</td>\n",
       "      <td>63.66</td>\n",
       "      <td>2103.1811</td>\n",
       "    </tr>\n",
       "  </tbody>\n",
       "</table>\n",
       "</div>"
      ],
      "text/plain": [
       "   Order_ID   Customer_Name Product_Category    Product_Name  Units_Sold  \\\n",
       "0      1000  Brian Thompson            Jeans  Slim Fit Jeans         0.0   \n",
       "1      1001      Shaun Ross            Jeans  Slim Fit Jeans         1.0   \n",
       "2      1002    Sarah Snyder          Jackets     Puffer Coat         1.0   \n",
       "3      1003      Jay Briggs            Shoes         Loafers         2.0   \n",
       "4      1004     Maria Blake      Accessories           Belts         1.0   \n",
       "\n",
       "   Unit_Price  Discount_%  Sales_Amount Order_Date       City Segment  \\\n",
       "0      842.00        0.60          0.00 2025-02-27      Delhi     B2C   \n",
       "1         NaN         NaN          0.00 2025-07-15  Ahmedabad     NaN   \n",
       "2      637.82         NaN          0.00        NaT     Mumbai     B2B   \n",
       "3     2962.27         NaN          0.00        NaT  Bangalore     B2B   \n",
       "4     2881.07        0.27       2103.18        NaT  Hyderabad     NaN   \n",
       "\n",
       "    Profit  Net_Price  \n",
       "0  2137.45   336.8000  \n",
       "1  1588.15        NaN  \n",
       "2  -158.03        NaN  \n",
       "3  2296.50        NaN  \n",
       "4    63.66  2103.1811  "
      ]
     },
     "execution_count": 15,
     "metadata": {},
     "output_type": "execute_result"
    }
   ],
   "source": [
    "data['Net_Price'] = data['Unit_Price'] * (1 - data['Discount_%'])\n",
    "data.head()"
   ]
  },
  {
   "cell_type": "markdown",
   "id": "5bd615ad-8b89-4338-ae3a-66d25d091abb",
   "metadata": {},
   "source": [
    "## 10] Fill missing Segment with the most common value."
   ]
  },
  {
   "cell_type": "code",
   "execution_count": 16,
   "id": "a71d6058-c0e0-4cb7-bf70-57c095449313",
   "metadata": {},
   "outputs": [
    {
     "data": {
      "text/plain": [
       "Index(['Order_ID', 'Customer_Name', 'Product_Category', 'Product_Name',\n",
       "       'Units_Sold', 'Unit_Price', 'Discount_%', 'Sales_Amount', 'Order_Date',\n",
       "       'City', 'Segment', 'Profit', 'Net_Price'],\n",
       "      dtype='object')"
      ]
     },
     "execution_count": 16,
     "metadata": {},
     "output_type": "execute_result"
    }
   ],
   "source": [
    "data.columns"
   ]
  },
  {
   "cell_type": "code",
   "execution_count": 17,
   "id": "2c6d3913-988c-448b-a788-9307d3d6027a",
   "metadata": {},
   "outputs": [
    {
     "data": {
      "text/plain": [
       "array(['B2C', nan, 'B2B'], dtype=object)"
      ]
     },
     "execution_count": 17,
     "metadata": {},
     "output_type": "execute_result"
    }
   ],
   "source": [
    "data['Segment'].unique()"
   ]
  },
  {
   "cell_type": "code",
   "execution_count": 18,
   "id": "c7a61aba-58fa-494a-a34a-80cb09720214",
   "metadata": {},
   "outputs": [
    {
     "name": "stdout",
     "output_type": "stream",
     "text": [
      "0\n"
     ]
    },
    {
     "name": "stderr",
     "output_type": "stream",
     "text": [
      "C:\\Users\\admin\\AppData\\Local\\Temp\\ipykernel_15608\\2803798117.py:2: FutureWarning: A value is trying to be set on a copy of a DataFrame or Series through chained assignment using an inplace method.\n",
      "The behavior will change in pandas 3.0. This inplace method will never work because the intermediate object on which we are setting values always behaves as a copy.\n",
      "\n",
      "For example, when doing 'df[col].method(value, inplace=True)', try using 'df.method({col: value}, inplace=True)' or df[col] = df[col].method(value) instead, to perform the operation inplace on the original object.\n",
      "\n",
      "\n",
      "  data['Segment'].fillna(data['Segment'].mode()[0], inplace=True)\n"
     ]
    }
   ],
   "source": [
    "data['Segment'].value_counts()\n",
    "data['Segment'].fillna(data['Segment'].mode()[0], inplace=True)\n",
    "print(data['Segment'].isna().sum())"
   ]
  },
  {
   "cell_type": "markdown",
   "id": "0ef29f76-04cb-4ebb-9c2d-356eb33e13c7",
   "metadata": {},
   "source": [
    "## 11] How many orders were placed per product category?"
   ]
  },
  {
   "cell_type": "code",
   "execution_count": 19,
   "id": "3e1ab93b-c8b6-414f-a1a5-bddcf82cfec8",
   "metadata": {
    "scrolled": true
   },
   "outputs": [
    {
     "data": {
      "text/plain": [
       "Index(['Order_ID', 'Customer_Name', 'Product_Category', 'Product_Name',\n",
       "       'Units_Sold', 'Unit_Price', 'Discount_%', 'Sales_Amount', 'Order_Date',\n",
       "       'City', 'Segment', 'Profit', 'Net_Price'],\n",
       "      dtype='object')"
      ]
     },
     "execution_count": 19,
     "metadata": {},
     "output_type": "execute_result"
    }
   ],
   "source": [
    "data.columns"
   ]
  },
  {
   "cell_type": "code",
   "execution_count": 20,
   "id": "9fd33dd6-ff12-47aa-a341-6f7dc9888e61",
   "metadata": {},
   "outputs": [
    {
     "data": {
      "text/plain": [
       "Product_Category\n",
       "Accessories    411\n",
       "Dresses        443\n",
       "Jackets        411\n",
       "Jeans          410\n",
       "Shoes          410\n",
       "T-Shirts       415\n",
       "dtype: int64"
      ]
     },
     "execution_count": 20,
     "metadata": {},
     "output_type": "execute_result"
    }
   ],
   "source": [
    "data.groupby(by=\"Product_Category\").size()"
   ]
  },
  {
   "cell_type": "markdown",
   "id": "80ccef51-b1f8-4a61-a63a-5a1888f3dde8",
   "metadata": {},
   "source": [
    "## 12] What is the total profit per city?"
   ]
  },
  {
   "cell_type": "code",
   "execution_count": 21,
   "id": "2c1bb623-9707-47f8-8dc8-8a2e326d9071",
   "metadata": {},
   "outputs": [
    {
     "data": {
      "text/plain": [
       "City\n",
       "Ahmedabad    392920.24\n",
       "Bangalore    413978.94\n",
       "Delhi        369016.85\n",
       "Hyderabad    418256.67\n",
       "Mumbai       458368.27\n",
       "Pune         401381.61\n",
       "Name: Profit, dtype: float64"
      ]
     },
     "execution_count": 21,
     "metadata": {},
     "output_type": "execute_result"
    }
   ],
   "source": [
    "data['City'] = data['City'].replace({\"bengaluru\":\"Bangalore\", \"Hyd\":\"Hyderabad\", \"hyderbad\":\"Hyderabad\"})\n",
    "data.groupby(by='City')['Profit'].sum()"
   ]
  },
  {
   "cell_type": "markdown",
   "id": "ef2d31d5-5614-4e2d-a1db-913249cda956",
   "metadata": {},
   "source": [
    "## 13] What is the average unit price per product category?"
   ]
  },
  {
   "cell_type": "code",
   "execution_count": 22,
   "id": "81acf36d-9333-4977-9d3f-aef5dc1eb322",
   "metadata": {},
   "outputs": [
    {
     "data": {
      "text/plain": [
       "Product_Category\n",
       "Accessories    2637.581532\n",
       "Dresses        2886.981591\n",
       "Jackets        2647.082750\n",
       "Jeans          2656.844249\n",
       "Shoes          2615.475498\n",
       "T-Shirts       2702.487206\n",
       "Name: Unit_Price, dtype: float64"
      ]
     },
     "execution_count": 22,
     "metadata": {},
     "output_type": "execute_result"
    }
   ],
   "source": [
    "data.groupby(by='Product_Category')['Unit_Price'].mean()"
   ]
  },
  {
   "cell_type": "markdown",
   "id": "c98c271e-326e-466e-b015-45587ad828c9",
   "metadata": {},
   "source": [
    "## 14] Who are the top 5 customers by total profit?"
   ]
  },
  {
   "cell_type": "code",
   "execution_count": 23,
   "id": "70ac0e7e-5c30-4ae6-af4d-f7ce261ee05b",
   "metadata": {},
   "outputs": [
    {
     "data": {
      "text/plain": [
       "Customer_Name\n",
       "Renee Martinez    5171.44\n",
       "Angela Hall       4740.72\n",
       "Samuel Miller     4260.18\n",
       "Jeffrey Haynes    4002.59\n",
       "Jacob Morris      3753.17\n",
       "Name: Profit, dtype: float64"
      ]
     },
     "execution_count": 23,
     "metadata": {},
     "output_type": "execute_result"
    }
   ],
   "source": [
    "total_profit_per_customer = data.groupby(by='Customer_Name')['Profit'].sum()\n",
    "total_profit_per_customer.sort_values(ascending=False)[:5]"
   ]
  },
  {
   "cell_type": "markdown",
   "id": "7288f25d-6e2b-4bb7-bae6-95e0db734030",
   "metadata": {},
   "source": [
    "## 15] What are the top-selling products by Units_Sold?"
   ]
  },
  {
   "cell_type": "code",
   "execution_count": 24,
   "id": "6f5d970d-4f07-41f1-8384-f1cd7f2f9b27",
   "metadata": {},
   "outputs": [
    {
     "data": {
      "text/plain": [
       "Product_Name\n",
       "Classic Tee    127.0\n",
       "Name: Units_Sold, dtype: float64"
      ]
     },
     "execution_count": 24,
     "metadata": {},
     "output_type": "execute_result"
    }
   ],
   "source": [
    "product_sold = data.groupby(by='Product_Name')['Units_Sold'].sum()\n",
    "product_sold.sort_values(ascending=False).head(1)"
   ]
  },
  {
   "cell_type": "markdown",
   "id": "f89003c4-044e-4b00-8d01-6ae342d0ce33",
   "metadata": {},
   "source": [
    "## 16] What is the trend of sales over months?"
   ]
  },
  {
   "cell_type": "code",
   "execution_count": 29,
   "id": "bc222078-fa09-4b8a-a0c6-beb681e3fbf3",
   "metadata": {},
   "outputs": [
    {
     "data": {
      "image/png": "[encoded data removed]",
      "text/plain": [
       "<Figure size 640x480 with 1 Axes>"
      ]
     },
     "metadata": {},
     "output_type": "display_data"
    }
   ],
   "source": [
    "data['Order_Date'] = pd.to_datetime(data['Order_Date'], errors=\"coerce\")\n",
    "data['Month'] = data['Order_Date'].dt.to_period('M')\n",
    "monthly_sales = data.groupby(by='Month')['Sales_Amount'].sum()\n",
    "\n",
    "import matplotlib.pyplot as plt\n",
    "\n",
    "monthly_sales.plot(kind='line', marker='o', title='Monthly Sales Trend')\n",
    "plt.xlabel('Month')\n",
    "plt.ylabel('Total Sales')\n",
    "plt.xticks(rotation=45)\n",
    "plt.tight_layout()\n",
    "plt.show()"
   ]
  },
  {
   "cell_type": "markdown",
   "id": "27eb75f6-c09b-4bf0-8348-a0a06deeecab",
   "metadata": {},
   "source": [
    "## 17] Which month has the highest number of orders?"
   ]
  },
  {
   "cell_type": "code",
   "execution_count": 36,
   "id": "4316f4b1-fe38-41da-9ebf-89039e186e20",
   "metadata": {},
   "outputs": [
    {
     "data": {
      "text/plain": [
       "Month\n",
       "2023-12    36\n",
       "Freq: M, dtype: int64"
      ]
     },
     "execution_count": 36,
     "metadata": {},
     "output_type": "execute_result"
    }
   ],
   "source": [
    "monthly_sales = data.groupby(by='Month').size()\n",
    "monthly_sales.sort_values(ascending=False).head(1)"
   ]
  },
  {
   "cell_type": "markdown",
   "id": "109e7de7-6ba6-45c6-b4b4-b41fff90cb7e",
   "metadata": {},
   "source": [
    "## 18] Is there seasonality in product categories?"
   ]
  },
  {
   "cell_type": "markdown",
   "id": "1d539a18-94c6-468d-ab95-cb3dbf6b5850",
   "metadata": {},
   "source": [
    "## 19] What is the average monthly sales amount?"
   ]
  },
  {
   "cell_type": "code",
   "execution_count": 39,
   "id": "f4f76622-31ab-49c7-b1d1-b31cf0e8817b",
   "metadata": {},
   "outputs": [
    {
     "data": {
      "text/plain": [
       "Month\n",
       "2023-07      415.81\n",
       "2023-08    21662.35\n",
       "2023-09     -975.67\n",
       "2023-10    -4150.30\n",
       "2023-11        0.00\n",
       "2023-12     8779.63\n",
       "2024-01     1550.05\n",
       "2024-02    -4943.11\n",
       "2024-03     2455.13\n",
       "2024-04     2475.73\n",
       "2024-05    -1439.96\n",
       "2024-06    -2038.38\n",
       "2024-07      636.29\n",
       "2024-08     5608.23\n",
       "2024-09     2996.31\n",
       "2024-10     3058.67\n",
       "2024-11     3132.74\n",
       "2024-12        0.00\n",
       "2025-01    11101.09\n",
       "2025-02     2228.06\n",
       "2025-03     8925.57\n",
       "2025-04     7153.87\n",
       "2025-05     3274.13\n",
       "2025-06    13675.73\n",
       "2025-07        0.00\n",
       "Freq: M, Name: Sales_Amount, dtype: float64"
      ]
     },
     "execution_count": 39,
     "metadata": {},
     "output_type": "execute_result"
    }
   ],
   "source": [
    "monthly_sales_avg = data.groupby(by='Month')['Sales_Amount'].sum()\n",
    "monthly_sales_avg"
   ]
  },
  {
   "cell_type": "code",
   "execution_count": null,
   "id": "27c87847-be96-4ea8-b829-7f506aa233ef",
   "metadata": {},
   "outputs": [],
   "source": []
  }
 ],
 "metadata": {
  "kernelspec": {
   "display_name": "Python 3 (ipykernel)",
   "language": "python",
   "name": "python3"
  },
  "language_info": {
   "codemirror_mode": {
    "name": "ipython",
    "version": 3
   },
   "file_extension": ".py",
   "mimetype": "text/x-python",
   "name": "python",
   "nbconvert_exporter": "python",
   "pygments_lexer": "ipython3",
   "version": "3.13.5"
  }
 },
 "nbformat": 4,
 "nbformat_minor": 5
}
