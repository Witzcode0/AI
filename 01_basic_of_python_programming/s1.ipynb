{
 "cells": [
  {
   "cell_type": "markdown",
   "id": "a341c883-62b9-470f-8a97-60a128f9177f",
   "metadata": {},
   "source": [
    "# 🗓️ Week 1: Basics of Python Programming\n",
    "\n",
    "## 📘 Session 1: Python Basics\n",
    "\n",
    "- About Python  \n",
    "- Python Output / `print()` Function  \n",
    "- Python Data Types  \n",
    "- Python Variables  \n",
    "- Python Comments  \n",
    "- Python Keywords and Identifiers  \n",
    "- Python User Input  \n",
    "- Python Type Conversion  \n",
    "- Python Literals\n"
   ]
  },
  {
   "cell_type": "code",
   "execution_count": null,
   "id": "26151319-404f-4718-a120-3afc919c0ffc",
   "metadata": {},
   "outputs": [],
   "source": []
  }
 ],
 "metadata": {
  "kernelspec": {
   "display_name": "Python 3 (ipykernel)",
   "language": "python",
   "name": "python3"
  },
  "language_info": {
   "codemirror_mode": {
    "name": "ipython",
    "version": 3
   },
   "file_extension": ".py",
   "mimetype": "text/x-python",
   "name": "python",
   "nbconvert_exporter": "python",
   "pygments_lexer": "ipython3",
   "version": "3.13.3"
  }
 },
 "nbformat": 4,
 "nbformat_minor": 5
}
